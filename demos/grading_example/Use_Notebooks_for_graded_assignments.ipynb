{
 "cells": [
  {
   "cell_type": "markdown",
   "metadata": {},
   "source": [
    "# Using Jupyter Notebooks for graded Assignments\n",
    "\n",
    "Using widgets and different extensions, Jupyter Notebooks are highly customizable. Among available extensions is [nbgrader](http://nbgrader.readthedocs.io/en/stable/index.html), a notebook extension tailored to instructors who want to use Jupyter Notebooks for exercises, but also grading those exercises. \n",
    "\n",
    "This extension enables instructors to assign points to specific coding cells in the Notebook. Different cell types can be declared:  \n",
    "* `Read-only` -> cells which remain _static_. If a cell marked as `Read-only` is changed after it is released to the students, it is automatically changed back into its normal state upon grading.  \n",
    "* `Autograded answer` -> cells containing the main coding part done by students. Normally, students are asked to write their code in functions, which are then autograded in a different cell marked as:  \n",
    "* `Autograded tests` -> cells used by **nbgrader** for asserting if the function by a student returns an expected value. These cells are valuable for autograding.  \n",
    "* `Manually graded answer` -> are versatile cells which can be used by the instructor to manually grade answers given by a student. This may be a `code cell`, a `text cell` or a `plot`.  \n",
    "\n",
    "Both, the `autograded tests`, as well as the `Manually graded answer` cells have the possibility to include points, which are summed up over the whole notebook to yield the number of total points."
   ]
  },
  {
   "cell_type": "markdown",
   "metadata": {
    "nbgrader": {
     "grade": false,
     "grade_id": "R-only",
     "locked": true,
     "solution": false
    }
   },
   "source": [
    "### Example Read-Only  \n",
    "\n",
    "This is an example of a read-only cell. Typically, instructions are written in this type of cell."
   ]
  },
  {
   "cell_type": "markdown",
   "metadata": {},
   "source": [
    "### Example Autograding"
   ]
  },
  {
   "cell_type": "code",
   "execution_count": 21,
   "metadata": {
    "nbgrader": {
     "grade": false,
     "grade_id": "Answer_auto",
     "locked": false,
     "solution": true
    }
   },
   "outputs": [],
   "source": [
    "def square(x):\n",
    "    \"\"\"return the square of a scalar\"\"\"\n",
    "    ### BEGIN SOLUTION\n",
    "    return x*x\n",
    "    ### END SOLUTION"
   ]
  },
  {
   "cell_type": "code",
   "execution_count": 22,
   "metadata": {
    "nbgrader": {
     "grade": true,
     "grade_id": "test_auto",
     "locked": true,
     "points": 2,
     "solution": false
    }
   },
   "outputs": [],
   "source": [
    "from numpy.testing import assert_approx_equal\n",
    "import numpy as np\n",
    "assert_approx_equal(square(4), 16, significant=3)\n",
    "assert_approx_equal(square(3.14), 9.86, significant=3)"
   ]
  },
  {
   "cell_type": "markdown",
   "metadata": {},
   "source": [
    "### Example manual grading"
   ]
  },
  {
   "cell_type": "code",
   "execution_count": 28,
   "metadata": {
    "nbgrader": {
     "grade": true,
     "grade_id": "man_answer_plotj",
     "locked": false,
     "points": 2,
     "solution": true
    }
   },
   "outputs": [
    {
     "data": {
      "text/plain": [
       "Text(0,0.5,'x$^2$')"
      ]
     },
     "execution_count": 28,
     "metadata": {},
     "output_type": "execute_result"
    },
    {
     "data": {
      "image/png": "[encoded data removed]",
      "text/plain": [
       "<matplotlib.figure.Figure at 0x7f8cfb9cad30>"
      ]
     },
     "metadata": {},
     "output_type": "display_data"
    }
   ],
   "source": [
    "import matplotlib.pyplot as plt\n",
    "%matplotlib inline\n",
    "x = np.linspace(-5,5,101)\n",
    "y = square(x)\n",
    "\n",
    "plt.plot(x, y, '--')\n",
    "plt.xlabel('x')\n",
    "plt.ylabel('x$^2$')"
   ]
  },
  {
   "cell_type": "markdown",
   "metadata": {},
   "source": [
    "## Workflow\n",
    "The workflow of `nbgrader` is bound to its structured approach. It follows a folder structure, where all folders are typically generated from one folder called `source`. Based on entries in the `gradebook` (a database containing student information and assignment information), folders are created from the `source`folder. These folders comprise:  \n",
    "\n",
    "* `release` -> This folder contains notebooks structured by assignments. The notebooks in the `release` folder are ready to be distributed to the students. They contain less information and options, e.g. no cell IDs are given. Essentially all cells, which are  <font color=\"blue\">blue</font> for the instructor are altered.  \n",
    "* `submitted` -> This folder contains further folders, one for each student (or pairs of students, if it is a group-assignment). Inside the student folders are the submitted assignments, structured by the assignment-ID.  \n",
    "* `autograded` -> This folder is generated after submitted assignments are autograded, and assignments are then saved in the `autograded`folder following the same structure from the `submitted` folder.  \n",
    "* `feedback` -> After the instructor manually graded necessary exercises in the notebooks, the graded assignments can be published (including feedback by the instructor) as HTML documents and distributed to the students."
   ]
  }
 ],
 "metadata": {
  "celltoolbar": "Create Assignment",
  "kernelspec": {
   "display_name": "Python 3",
   "language": "python",
   "name": "python3"
  },
  "language_info": {
   "codemirror_mode": {
    "name": "ipython",
    "version": 3
   },
   "file_extension": ".py",
   "mimetype": "text/x-python",
   "name": "python",
   "nbconvert_exporter": "python",
   "pygments_lexer": "ipython3",
   "version": "3.6.1"
  },
  "toc": {
   "base_numbering": 1,
   "nav_menu": {},
   "number_sections": false,
   "sideBar": true,
   "skip_h1_title": false,
   "title_cell": "Table of Contents",
   "title_sidebar": "Contents",
   "toc_cell": false,
   "toc_position": {},
   "toc_section_display": true,
   "toc_window_display": false
  }
 },
 "nbformat": 4,
 "nbformat_minor": 2
}
