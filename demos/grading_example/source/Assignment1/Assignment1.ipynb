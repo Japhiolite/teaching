{
 "cells": [
  {
   "cell_type": "markdown",
   "metadata": {
    "solution": "hidden",
    "solution_first": true
   },
   "source": [
    "# Bullard Plot \n",
    "<img src='bullard_layer.png' style=\"float: right; width: 27%; margin-right: 3%; margin-bottom: 0.5em;\">\n",
    "The Bullard plot method is used for calculating the specific heat flow in an area based on temperature data and the concept of *thermal resistance*. Let's assume we have a layercake model with discrete layers of rocks. The thermal resistance can be written as:  \n",
    "\n",
    "$$ R = \\sum_i \\bigg(\\frac{\\Delta z_i}{\\lambda_i}\\bigg) $$  \n",
    "\n",
    "where $i$ is the number of layers in the sequence and $\\Delta z$ the according layer-thickness.  \n",
    "\n",
    "The idea of the Bullard-Plot is to plot the cumulative thermal resistances vs measured temperatures. They exhibit a linear relation. Using a linear regression, the obtained slope is equal to the specific heat flow.\n",
    "\n",
    "Assume we have a borehole with a depth of 2.2 km. It penetrates multiple layers. The average surface temperature is 11 °C. At each layer boundary, temperatures were measured, as well as at the maximum depth of the borehole.  \n",
    "So in total, we have 4 temperature measurements:  \n",
    "* 22 °C @ 1 km depth  \n",
    "* 30 °C @ 1.4 km depth  \n",
    "* 41 °C @ 2 km depth  \n",
    "* 47 °C @ 2.2 km depth  \n"
   ]
  },
  {
   "cell_type": "markdown",
   "metadata": {
    "solution": "hidden"
   },
   "source": [
    "Thermal resistance (R in [m² K W$^{-1}$) is the integrated reciprocal of thermal conductivities over a depth range z, i.e. how effectively a layered sequence of rocks retards the flow of heat.  \n",
    "\n",
    "$$ R = \\int \\frac{1}{\\lambda} dz $$  \n",
    "\n",
    "From Fouriers Law, we know:  \n",
    "$$q = \\lambda \\bigg(\\frac{\\partial T}{\\partial z}\\bigg) $$\n",
    "\n",
    "rearragning the equation yields:\n",
    "$$q = \\partial T \\bigg(\\frac{\\lambda}{\\partial z}\\bigg) $$\n",
    "\n",
    "this fraction is equal to 1/R:\n",
    "$$q = \\partial T \\bigg(\\frac{1}{\\partial R}\\bigg) $$\n",
    "\n",
    "which then yields to:\n",
    "$$q = \\bigg(\\frac{\\partial T}{\\partial R}\\bigg) $$  \n",
    "\n",
    "That means, the change in temperature with respect to the thermal resistance is equal to the specific heat flow.  \n",
    "Now let's assume we have a layercake model with discrete layers of rocks. The thermal resistance can then be rewritten as:  \n",
    "\n",
    "$$ R = \\sum_i \\bigg(\\frac{\\Delta z_i}{\\lambda_i}\\bigg) $$  \n",
    "\n",
    "where $i$ is the number of layers in the sequence and $\\Delta z$ the according layer-thickness.  \n",
    "\n",
    "The idea of the Bullard-Plot is to plot the cumulative thermal resistances vs measured temperatures. They exhibit a linear relation. Using a linear regression, the obtained slope is equal to the specific heat flow."
   ]
  },
  {
   "cell_type": "code",
   "execution_count": 1,
   "metadata": {
    "nbgrader": {
     "grade": false,
     "grade_id": "Libs",
     "locked": true,
     "solution": false
    }
   },
   "outputs": [],
   "source": [
    "# import libraries. You don't need more than these\n",
    "import numpy as np\n",
    "import matplotlib.pyplot as plt\n",
    "%matplotlib inline"
   ]
  },
  {
   "cell_type": "markdown",
   "metadata": {
    "nbgrader": {
     "grade": false,
     "grade_id": "Ex1",
     "locked": true,
     "solution": false
    }
   },
   "source": [
    "## Exercise 1  \n",
    "Calculate the single thermal resistances for each layer and the total thermal resistance of the whole layer series using the information given above:"
   ]
  }
 ],
 "metadata": {
  "celltoolbar": "Create Assignment",
  "kernelspec": {
   "display_name": "Python 3",
   "language": "python",
   "name": "python3"
  },
  "language_info": {
   "codemirror_mode": {
    "name": "ipython",
    "version": 3
   },
   "file_extension": ".py",
   "mimetype": "text/x-python",
   "name": "python",
   "nbconvert_exporter": "python",
   "pygments_lexer": "ipython3",
   "version": "3.6.1"
  },
  "toc": {
   "base_numbering": 1,
   "nav_menu": {},
   "number_sections": false,
   "sideBar": true,
   "skip_h1_title": false,
   "title_cell": "Table of Contents",
   "title_sidebar": "Contents",
   "toc_cell": false,
   "toc_position": {},
   "toc_section_display": true,
   "toc_window_display": false
  }
 },
 "nbformat": 4,
 "nbformat_minor": 2
}
