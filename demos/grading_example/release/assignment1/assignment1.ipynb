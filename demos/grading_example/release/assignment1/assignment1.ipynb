{
 "cells": [
  {
   "cell_type": "markdown",
   "metadata": {
    "deletable": false,
    "editable": false,
    "nbgrader": {
     "checksum": "5ea90c40cf94f54e695ec4abbbfdd531",
     "grade": false,
     "grade_id": "introduction",
     "locked": true,
     "schema_version": 1,
     "solution": false
    }
   },
   "source": [
    "<hr>\n",
    "<center><h1>Example Course 2018 - Assginment 1</h1></center>\n",
    "<hr>\n",
    "\n",
    "This assignment is a short test of a couple of aspects we discussed in the exercise so far.\n",
    "\n",
    "Fill in your name (and of your fellow students, if you submit together), and according matriculation number below. If you are more than one student, separate by a comma **,**\n",
    "\n",
    "<br>\n",
    "<div class=\"alert alert-warning\">\n",
    "**Note**: This notebook is a graded assignment. You can work on this assignment alone or together in a group of two. \n",
    "<br>\n",
    "<br>\n",
    "If you choose to work in a group of two, then **make sure you keep the group in this form until the end of the semester**!\n",
    "</div>\n",
    "\n",
    "<div class=\"alert alert-warning\">\n",
    "<br>\n",
    "Please upload your completed notebook to Moodle **strictly following** the naming convention:\n",
    "<ul>\n",
    "<li>``assignment1_XXXXXX.ipynb`` where XXXXXX corresponds to your student ID, or:\n",
    "<li>``assignment1_XXXXXX_YYYYYY.ipynb`` if you submit together (both student ID's)\n",
    "</ul>\n",
    "</div>\n",
    "\n",
    "Before you submit this assignment, make sure everything runs as you expect it to.  \n",
    "* **restart the kernel** (in the menubar, select Kernel -> Restart)\n",
    "* **run all cells** (in the menubar, select Cell -> Run All)\n",
    "\n",
    "<br>\n",
    "<div class=\"alert-danger\">\n",
    "<br><center>Remember: copying code form someone else and pretending it is your own is **serious scientific fraud**!</center>\n",
    "<br>\n",
    "</div>"
   ]
  },
  {
   "cell_type": "markdown",
   "metadata": {
    "deletable": false,
    "editable": false,
    "nbgrader": {
     "checksum": "fa8a9b917adde1f70e2d73bfd945aa82",
     "grade": false,
     "grade_id": "theory",
     "locked": true,
     "schema_version": 1,
     "solution": false
    },
    "solution": "hidden",
    "solution_first": true
   },
   "source": [
    "# Bullard Plot \n",
    "<img src='bullard_layer.png' style=\"float: right; width: 27%; margin-right: 3%; margin-bottom: 0.5em;\">\n",
    "The Bullard plot method is used for calculating the specific heat flow in an area based on temperature data and the concept of *thermal resistance*. Let's assume we have a layercake model with discrete layers of rocks. The thermal resistance can be written as:  \n",
    "\n",
    "$$ R = \\sum_i \\bigg(\\frac{\\Delta z_i}{\\lambda_i}\\bigg) $$  \n",
    "\n",
    "where $i$ is the number of layers in the sequence and $\\Delta z$ the according layer-thickness.  \n",
    "\n",
    "The idea of the Bullard-Plot is to plot the cumulative thermal resistances vs measured temperatures. They exhibit a linear relation. Using a linear regression, the obtained slope is equal to the specific heat flow.\n",
    "\n",
    "Assume we have a borehole with a depth of 2.2 km. It penetrates multiple layers. The average surface temperature is 11 °C. At each layer boundary, temperatures were measured, as well as at the maximum depth of the borehole.  \n",
    "So in total, we have 4 temperature measurements:  \n",
    "* 22 °C @ 1 km depth  \n",
    "* 30 °C @ 1.4 km depth  \n",
    "* 44 °C @ 2 km depth  \n",
    "* 47 °C @ 2.2 km depth  \n"
   ]
  },
  {
   "cell_type": "markdown",
   "metadata": {
    "solution": "hidden"
   },
   "source": [
    "Thermal resistance (R in [m² K W$^{-1}$) is the integrated reciprocal of thermal conductivities over a depth range z, i.e. how effectively a layered sequence of rocks retards the flow of heat.  \n",
    "\n",
    "$$ R = \\int \\frac{1}{\\lambda} dz $$  \n",
    "\n",
    "From Fouriers Law, we know:  \n",
    "$$q = \\lambda \\bigg(\\frac{\\partial T}{\\partial z}\\bigg) $$\n",
    "\n",
    "rearragning the equation yields:\n",
    "$$q = \\partial T \\bigg(\\frac{\\lambda}{\\partial z}\\bigg) $$\n",
    "\n",
    "this fraction is equal to 1/R:\n",
    "$$q = \\partial T \\bigg(\\frac{1}{\\partial R}\\bigg) $$\n",
    "\n",
    "which then yields to:\n",
    "$$q = \\bigg(\\frac{\\partial T}{\\partial R}\\bigg) $$  \n",
    "\n",
    "That means, the change in temperature with respect to the thermal resistance is equal to the specific heat flow.  \n",
    "Now let's assume we have a layercake model with discrete layers of rocks. The thermal resistance can then be rewritten as:  \n",
    "\n",
    "$$ R = \\sum_i \\bigg(\\frac{\\Delta z_i}{\\lambda_i}\\bigg) $$  \n",
    "\n",
    "where $i$ is the number of layers in the sequence and $\\Delta z$ the according layer-thickness.  \n",
    "\n",
    "The idea of the Bullard-Plot is to plot the cumulative thermal resistances vs measured temperatures. They exhibit a linear relation. Using a linear regression, the obtained slope is equal to the specific heat flow."
   ]
  },
  {
   "cell_type": "code",
   "execution_count": null,
   "metadata": {
    "deletable": false,
    "editable": false,
    "nbgrader": {
     "checksum": "0b18a1b764e32ec538ada163d930ca55",
     "grade": false,
     "grade_id": "Libs",
     "locked": true,
     "schema_version": 1,
     "solution": false
    }
   },
   "outputs": [],
   "source": [
    "# import libraries. You don't need more than these\n",
    "import numpy as np\n",
    "import matplotlib\n",
    "import matplotlib.pyplot as plt\n",
    "%matplotlib inline\n",
    "\n",
    "# set up arrays\n",
    "z = np.array([1000, 400, 600, 200])\n",
    "tc = np.array([3.2, 2.3, 1.6, 4.2])\n",
    "\n",
    "T = np.array([22, 30, 44, 47]) # here we also include the surface temperature\n"
   ]
  },
  {
   "cell_type": "markdown",
   "metadata": {
    "deletable": false,
    "editable": false,
    "nbgrader": {
     "checksum": "a3820b9f0376a0b5b8bdbea47d721561",
     "grade": false,
     "grade_id": "Ex1",
     "locked": true,
     "schema_version": 1,
     "solution": false
    }
   },
   "source": [
    "## Exercise 1  \n",
    "Calculate the single thermal resistances for each layer and the total thermal resistance of the whole layer series using the information given above. Write this as a general function for two arrays of variable length and not just for the values given in this exercise.  \n",
    "Round the returning R-array to the third decimal place using `np.round(r, 3)`"
   ]
  },
  {
   "cell_type": "code",
   "execution_count": null,
   "metadata": {
    "deletable": false,
    "nbgrader": {
     "checksum": "83536f08af15ade2068a9d2bfdd8307c",
     "grade": false,
     "grade_id": "Calc_Resistances",
     "locked": false,
     "schema_version": 1,
     "solution": true
    }
   },
   "outputs": [],
   "source": [
    "def calc_res(z, tc):\n",
    "    \"\"\"\n",
    "    input:  z - array of thickness values of rock formations\n",
    "            tc - array of corresponding thermal conductivities\n",
    "    return:\n",
    "            r - array with the thermal resistances\n",
    "    \"\"\"\n",
    "    # YOUR CODE HERE"
   ]
  },
  {
   "cell_type": "code",
   "execution_count": null,
   "metadata": {
    "deletable": false,
    "editable": false,
    "nbgrader": {
     "checksum": "d1ef559acd2c05aebbfd1c95dee7ac31",
     "grade": true,
     "grade_id": "calc_res_test",
     "locked": true,
     "points": 4.0,
     "schema_version": 1,
     "solution": false
    }
   },
   "outputs": [],
   "source": [
    "\"Check the function\"\n",
    "from numpy.testing import assert_equal\n",
    "assert_equal(calc_res(np.linspace(20, 80, 4), np.array([2, 4, 6, 1])),\n",
    "            [10., 20., 30., 110.])\n",
    "assert_equal(calc_res(np.linspace(100, 500, 5),\n",
    "                     np.array([2.1, 2.5, 1.2, 5.2, 3.])),[47.619, 127.619, 377.619, 454.542, 621.209],\n",
    "            err_msg='Wrong solution.', verbose=False)"
   ]
  },
  {
   "cell_type": "markdown",
   "metadata": {
    "deletable": false,
    "editable": false,
    "nbgrader": {
     "checksum": "7af6af8c816ededc93d849c6d9e6bbf0",
     "grade": false,
     "grade_id": "bullard_plot_q",
     "locked": true,
     "schema_version": 1,
     "solution": false
    }
   },
   "source": [
    "## Exercise 2  \n",
    "The Bullard plot can be used for assessing the average specific heat flow over a sequence of rocks. Substituting the thermal resistance for thermal conductivity in Fourier's law of heat conduction and re-arranging it yields:\n",
    "\n",
    "$$q  = \\bigg(\\frac{\\partial T}{\\partial R}\\bigg) $$  \n",
    "\n",
    "So the specific heat flow is the difference quotient of the two variables temperature ($T$) and thermal resistance ($R$). Your task is to plot the thermal resistances (x-axis) against temperature (y-axis) and do a linear regression for estimating the slope, i.e. the average specific heat flow.  \n",
    "\n",
    "Remember, you can use numpy's method `polyfit()` for the regression.   \n",
    "\n",
    "<hr>\n",
    "\n",
    "<center>\n",
    "<div class=\"alert alert-warning\">\n",
    "Remember to label axes, include a legend, and choose a font big enough for the plot.\n",
    "</div>\n",
    "</center>"
   ]
  },
  {
   "cell_type": "code",
   "execution_count": null,
   "metadata": {
    "deletable": false,
    "nbgrader": {
     "checksum": "5217cf0fb73cd5a695b4ad57cbddd7d8",
     "grade": true,
     "grade_id": "bullard_plot_a",
     "locked": false,
     "points": 4.0,
     "schema_version": 1,
     "solution": true
    }
   },
   "outputs": [],
   "source": [
    "# YOUR CODE HERE"
   ]
  },
  {
   "cell_type": "markdown",
   "metadata": {
    "deletable": false,
    "editable": false,
    "nbgrader": {
     "checksum": "f1ce70cb7c5b687da96bdfa018985c35",
     "grade": false,
     "grade_id": "spec_heat_flow_q",
     "locked": true,
     "schema_version": 1,
     "solution": false
    }
   },
   "source": [
    "What is the average specific heat flow over the sediment column? _(Round to three decimals)_ "
   ]
  },
  {
   "cell_type": "code",
   "execution_count": null,
   "metadata": {
    "deletable": false,
    "nbgrader": {
     "checksum": "99db07b0aedfa169f3e8222fabe7cb3b",
     "grade": true,
     "grade_id": "spec_heat_flow_a",
     "locked": false,
     "points": 2.0,
     "schema_version": 1,
     "solution": true
    }
   },
   "outputs": [],
   "source": [
    "# YOUR CODE HERE"
   ]
  }
 ],
 "metadata": {
  "kernelspec": {
   "display_name": "Python 3",
   "language": "python",
   "name": "python3"
  },
  "language_info": {
   "codemirror_mode": {
    "name": "ipython",
    "version": 3
   },
   "file_extension": ".py",
   "mimetype": "text/x-python",
   "name": "python",
   "nbconvert_exporter": "python",
   "pygments_lexer": "ipython3",
   "version": "3.6.1"
  },
  "toc": {
   "base_numbering": 1,
   "nav_menu": {},
   "number_sections": false,
   "sideBar": true,
   "skip_h1_title": false,
   "title_cell": "Table of Contents",
   "title_sidebar": "Contents",
   "toc_cell": false,
   "toc_position": {},
   "toc_section_display": true,
   "toc_window_display": false
  }
 },
 "nbformat": 4,
 "nbformat_minor": 2
}
