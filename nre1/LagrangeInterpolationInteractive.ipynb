{
 "cells": [
  {
   "cell_type": "code",
   "execution_count": 1,
   "metadata": {},
   "outputs": [],
   "source": [
    "import numpy as np\n",
    "import matplotlib.pyplot as plt\n",
    "from ipywidgets import widgets\n",
    "from IPython.display import display\n",
    "\n",
    "%matplotlib inline"
   ]
  },
  {
   "cell_type": "code",
   "execution_count": 2,
   "metadata": {},
   "outputs": [],
   "source": [
    "def polyfit(x, fx, x_strich,order):\n",
    "    poly = 0.0\n",
    "    for i in range(0, order+1):\n",
    "        L = 1\n",
    "        for j in range(0, order +1):\n",
    "            if i != j:\n",
    "                L *= ((x_strich-x[j])/(x[i]-x[j]))\n",
    "        poly += fx[i]*L\n",
    "    return poly"
   ]
  },
  {
   "cell_type": "code",
   "execution_count": 4,
   "metadata": {},
   "outputs": [
    {
     "data": {
      "application/vnd.jupyter.widget-view+json": {
       "model_id": "a277e5541a234fbeb3fd1a0a9af029c2"
      }
     },
     "metadata": {},
     "output_type": "display_data"
    },
    {
     "data": {
      "text/plain": [
       "<function __main__.polyfit_test>"
      ]
     },
     "execution_count": 4,
     "metadata": {},
     "output_type": "execute_result"
    }
   ],
   "source": [
    "def polyfit_test(order):\n",
    "    x = np.arange(1, order+2, 1)\n",
    "    y = np.random.randint(1, 10, size = len(x))\n",
    "    #print('x =', x,'y =', y)\n",
    "    x_strich =  np.arange(1,order+1.1,0.1)\n",
    "    x = np.array(x)\n",
    "    fx = np.array(y)\n",
    "    poly = 0.0\n",
    "    for i in range(0, order+1):\n",
    "        L = 1\n",
    "        for j in range(0, order +1):\n",
    "            if i != j:\n",
    "                L *= ((x_strich-x[j])/(x[i]-x[j]))\n",
    "        poly += fx[i]*L\n",
    "    \n",
    "    fit2 = polyfit(x, fx, x_strich, order)\n",
    "    plt.plot(x_strich, fit2, 'b', label='%s. order' %order)\n",
    "    plt.plot(x,y,'xr')\n",
    "    plt.legend()\n",
    "    plt.show()\n",
    "    \n",
    "    #return poly\n",
    "widgets.interact(polyfit_test,order=(1,15))"
   ]
  },
  {
   "cell_type": "code",
   "execution_count": null,
   "metadata": {},
   "outputs": [],
   "source": []
  }
 ],
 "metadata": {
  "kernelspec": {
   "display_name": "Python 3",
   "language": "python",
   "name": "python3"
  },
  "language_info": {
   "codemirror_mode": {
    "name": "ipython",
    "version": 3
   },
   "file_extension": ".py",
   "mimetype": "text/x-python",
   "name": "python",
   "nbconvert_exporter": "python",
   "pygments_lexer": "ipython3",
   "version": "3.6.3"
  }
 },
 "nbformat": 4,
 "nbformat_minor": 2
}
