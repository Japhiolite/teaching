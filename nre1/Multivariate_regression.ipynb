{
 "cells": [
  {
   "cell_type": "markdown",
   "metadata": {},
   "source": [
    "## Multivariate regression - some aspects"
   ]
  },
  {
   "cell_type": "code",
   "execution_count": 1,
   "metadata": {},
   "outputs": [],
   "source": [
    "import numpy as np\n",
    "import matplotlib.pyplot as plt\n",
    "%matplotlib inline"
   ]
  },
  {
   "cell_type": "markdown",
   "metadata": {},
   "source": [
    "### Genereate random samples\n",
    "\n",
    "We start by generating random values with a defined covariance:"
   ]
  },
  {
   "cell_type": "code",
   "execution_count": 26,
   "metadata": {},
   "outputs": [],
   "source": [
    "np.random.seed(12345)\n",
    "samples = np.random.multivariate_normal([0,0], [[1,0.5],[0.5,1]], size=(100))\n",
    "samples_perfect = np.random.multivariate_normal([0,0], [[1,0.9999],[0.9999,1]], size=(100))"
   ]
  },
  {
   "cell_type": "code",
   "execution_count": 27,
   "metadata": {},
   "outputs": [
    {
     "data": {
      "text/plain": [
       "(-2.668227833039547,\n",
       " 3.2521702219556987,\n",
       " -3.6226588987881319,\n",
       " 2.9416387732828566)"
      ]
     },
     "execution_count": 27,
     "metadata": {},
     "output_type": "execute_result"
    },
    {
     "data": {
      "image/png": "[encoded data removed]",
      "text/plain": [
       "<matplotlib.figure.Figure at 0x11422e6d8>"
      ]
     },
     "metadata": {},
     "output_type": "display_data"
    }
   ],
   "source": [
    "plt.plot(samples[:,0], samples[:,1], 'o')\n",
    "plt.plot(samples_perfect[:,0], samples_perfect[:,1], 'o')\n",
    "plt.axis('equal')"
   ]
  },
  {
   "cell_type": "markdown",
   "metadata": {},
   "source": [
    "We observe a clear corrleation between these two variables! One way to estimate the correlation is the calculation of the correlation coefficient \"r\":"
   ]
  },
  {
   "cell_type": "code",
   "execution_count": 29,
   "metadata": {},
   "outputs": [
    {
     "name": "stdout",
     "output_type": "stream",
     "text": [
      "Scattered data: 0.541\n",
      "Perfect line: 1.000\n"
     ]
    }
   ],
   "source": [
    "print(\"Scattered data: %.3f\" % np.corrcoef(samples[:,0], samples[:,1])[0,1])\n",
    "print(\"Perfect line: %.3f\" % np.corrcoef(samples_perfect[:,0], samples_perfect[:,1])[0,1])\n"
   ]
  },
  {
   "cell_type": "markdown",
   "metadata": {},
   "source": [
    "An important note of caution here: the interpretation of the value alone can be misleading! Here some nice examlpes of correlations where the coefficient itself may or may not provide a meaningful answer:\n",
    "\n",
    "<img src=\"https://upload.wikimedia.org/wikipedia/commons/thumb/d/d4/Correlation_examples2.svg/800px-Correlation_examples2.svg.png\">"
   ]
  },
  {
   "cell_type": "markdown",
   "metadata": {},
   "source": [
    "### Interpretation\n",
    "\n",
    "The obvious interpretation: the higher the covariance (or, as a scaled measure, the correlation), the more we can say about one variable when knowing anohter!"
   ]
  },
  {
   "cell_type": "markdown",
   "metadata": {},
   "source": [
    "## Extension to multivariate regression\n",
    "\n",
    "Based on this interpretation, the extension to multivariate regression is straight-forward:"
   ]
  },
  {
   "cell_type": "code",
   "execution_count": 45,
   "metadata": {},
   "outputs": [],
   "source": [
    "# take same mean values and covariances for all:\n",
    "means = 0.\n",
    "covs = 0.5\n",
    "n = 3 # number of variables\n",
    "n_samples = 100\n",
    "cov_matrix = np.ones((n,n)) * covs * (np.ones((n,n)) - np.eye(n)) + np.eye(n)\n",
    "samples_mvar = np.random.multivariate_normal(np.ones(n) * means, cov_matrix, size=(n_samples))"
   ]
  },
  {
   "cell_type": "code",
   "execution_count": 46,
   "metadata": {},
   "outputs": [
    {
     "data": {
      "text/plain": [
       "array([[ 1.06165883,  0.55293505,  0.42877133],\n",
       "       [ 0.55293505,  1.09065037,  0.49443099],\n",
       "       [ 0.42877133,  0.49443099,  0.84292151]])"
      ]
     },
     "execution_count": 46,
     "metadata": {},
     "output_type": "execute_result"
    }
   ],
   "source": [
    "# Estimated covariance matrix:\n",
    "cov_mat_est = 1/n_samples * (samples_mvar.T @ samples_mvar)\n",
    "cov_mat_est"
   ]
  },
  {
   "cell_type": "code",
   "execution_count": null,
   "metadata": {},
   "outputs": [],
   "source": []
  }
 ],
 "metadata": {
  "kernelspec": {
   "display_name": "Python 3",
   "language": "python",
   "name": "python3"
  },
  "language_info": {
   "codemirror_mode": {
    "name": "ipython",
    "version": 3
   },
   "file_extension": ".py",
   "mimetype": "text/x-python",
   "name": "python",
   "nbconvert_exporter": "python",
   "pygments_lexer": "ipython3",
   "version": "3.6.3"
  }
 },
 "nbformat": 4,
 "nbformat_minor": 2
}
