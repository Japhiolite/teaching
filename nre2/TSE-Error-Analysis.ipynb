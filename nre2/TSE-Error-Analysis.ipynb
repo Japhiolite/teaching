{
 "cells": [
  {
   "cell_type": "markdown",
   "metadata": {},
   "source": [
    "# Taylor series expansion and error analysis\n",
    "\n"
   ]
  },
  {
   "cell_type": "markdown",
   "metadata": {},
   "source": [
    "## Taylor series expansion\n",
    "\n",
    "During the lecture, we talked several times about the Taylor series as a way to formally determine the differential of a property. As a brief reminder, the Taylor series can be used to approximate the value of a function $f(x)$ at a location $f(x +h)$ with the help of a polynomial series:\n",
    "\n",
    "$$f(x+h) = \\sum_{i=1}^n \\frac{h^n}{n!} \\frac{d^nf}{dx^n}(h)$$\n",
    "\n",
    "As an example in the lecture, we approximated the sine function at several locations. This was pretty easy as the derivatives of $f(x) = \\sin(x)$ can easily be calculated.\n",
    "\n",
    "However, this is not always the case. Think about a tiny bit more complex function: $f(x) = \\sin(x^2)$. Determining higher-order differentials quickly gets quite tricky - try it out, to convince yourself:\n",
    "\n",
    "$$f(x) = \\sin(x^2)$$\n",
    "\n",
    "$$\\frac{df}{dx} = 2x \\cos(x^2)$$\n",
    "\n",
    "$$\\frac{d^2f}{dx^2} = ?$$\n",
    "\n",
    "$$\\frac{d^3f}{dx^3} = ??$$\n",
    "\n",
    "Creating more differentials is a very systematic process and maybe not difficult - but requires quickly a lot of bookkeeping and is prone to errors - and it becomes very repetitive if you have to do it very often...\n",
    "\n",
    "As soon as you read things in descriptions like: \"requires bookkeeping\", \"not difficult systematic process\" and \"repetitive\", I hope you think by now: **we should do that in Python**! Yes, correct!\n",
    "\n",
    "So luckily, someone did the hard work of coding all these things into Python for us before: it is implemented in the sympy package for symbolic computation. \n",
    "\n",
    "We'll have a look at some of the basic features in this notebook - and then apply it to determine Taylor Series Expansions, and finally to the accuracy estimation that we did in the last lecture.\n",
    "\n",
    "\n"
   ]
  },
  {
   "cell_type": "code",
   "execution_count": 13,
   "metadata": {},
   "outputs": [],
   "source": [
    "import sympy as sym\n",
    "import numpy as np\n",
    "import matplotlib.pyplot as plt\n",
    "%matplotlib inline"
   ]
  },
  {
   "cell_type": "code",
   "execution_count": 14,
   "metadata": {},
   "outputs": [],
   "source": [
    "# to get LaTeX function rendereing:\n",
    "sym.init_printing()"
   ]
  },
  {
   "cell_type": "code",
   "execution_count": 15,
   "metadata": {},
   "outputs": [
    {
     "data": {
      "image/png": "[encoded data removed]",
      "text/latex": [
       "$$x$$"
      ],
      "text/plain": [
       "x"
      ]
     },
     "execution_count": 15,
     "metadata": {},
     "output_type": "execute_result"
    }
   ],
   "source": [
    "sym.var('x')"
   ]
  },
  {
   "cell_type": "markdown",
   "metadata": {},
   "source": [
    "### Sine function"
   ]
  },
  {
   "cell_type": "code",
   "execution_count": 16,
   "metadata": {},
   "outputs": [],
   "source": [
    "def plot_taylor(x0=0.0, n=1):\n",
    "    func = sym.sin(x)#/x\n",
    "    taylor = sym.series(func, x0=x0, n=n+1).removeO()\n",
    "\n",
    "    evalfunc = sym.lambdify(x, func, modules=['numpy'])\n",
    "    evaltaylor = sym.lambdify(x, taylor, modules=['numpy'])\n",
    "\n",
    "    t = np.linspace(-2*np.pi, 3*np.pi, 100)\n",
    "    plt.figure(figsize=(10,8))\n",
    "    plt.plot(t, evalfunc(t), 'b', label='sin(x)')\n",
    "    plt.plot(t, evaltaylor(t), 'r', label='Taylor')\n",
    "    plt.plot(x0, evalfunc(x0), 'go', label='x0', markersize = 12)\n",
    "    plt.legend(loc='upper left')\n",
    "    plt.xlim([-1*np.pi, 2*np.pi])\n",
    "    plt.ylim([-3,3])\n",
    "    plt.show()"
   ]
  },
  {
   "cell_type": "code",
   "execution_count": 18,
   "metadata": {},
   "outputs": [],
   "source": [
    "from ipywidgets import interactive\n",
    "from IPython.display import Audio, display"
   ]
  },
  {
   "cell_type": "code",
   "execution_count": 19,
   "metadata": {},
   "outputs": [
    {
     "data": {
      "text/plain": [
       "<Figure size 720x576 with 0 Axes>"
      ]
     },
     "metadata": {},
     "output_type": "display_data"
    }
   ],
   "source": [
    "plt.figure(figsize=(10,8))\n",
    "plt.style.use(\"bmh\")"
   ]
  },
  {
   "cell_type": "code",
   "execution_count": 20,
   "metadata": {
    "slideshow": {
     "slide_type": "slide"
    }
   },
   "outputs": [
    {
     "data": {
      "application/vnd.jupyter.widget-view+json": {
       "model_id": "728fca34649742a3bd8fa4f01e5d8eb9",
       "version_major": 2,
       "version_minor": 0
      },
      "text/plain": [
       "interactive(children=(FloatSlider(value=0.0, description='x0', max=3.141592653589793, step=0.3141592653589793)…"
      ]
     },
     "metadata": {},
     "output_type": "display_data"
    }
   ],
   "source": [
    "v = interactive(plot_taylor, x0=(0.0,np.pi,np.pi/10.), n=(1,8), r=(2,4))\n",
    "display(v)"
   ]
  },
  {
   "cell_type": "markdown",
   "metadata": {},
   "source": [
    "### Logarithm function"
   ]
  },
  {
   "cell_type": "code",
   "execution_count": 23,
   "metadata": {},
   "outputs": [],
   "source": [
    "def plot_taylor_lnx(x0=0.0, n=1):\n",
    "    \"\"\"Same method, different base function\"\"\"\n",
    "    func = sym.ln(x)#/x\n",
    "    taylor = sym.series(func, x0=x0, n=n+1).removeO()\n",
    "\n",
    "    evalfunc = sym.lambdify(x, func, modules=['numpy'])\n",
    "    evaltaylor = sym.lambdify(x, taylor, modules=['numpy'])\n",
    "\n",
    "    t = np.linspace(0.01, 10, 100)\n",
    "    plt.figure(figsize=(10,8))\n",
    "    plt.plot(t, evalfunc(t), 'b', label='ln(x)')\n",
    "    plt.plot(t, evaltaylor(t), 'r', label='Taylor')\n",
    "    plt.plot(x0, evalfunc(x0), 'go', label='x0', markersize = 12)\n",
    "    plt.legend(loc='upper left')\n",
    "    plt.xlim([-0.2,10])\n",
    "    plt.ylim([-3,3])\n",
    "    plt.show()"
   ]
  },
  {
   "cell_type": "code",
   "execution_count": 24,
   "metadata": {
    "slideshow": {
     "slide_type": "slide"
    }
   },
   "outputs": [
    {
     "data": {
      "application/vnd.jupyter.widget-view+json": {
       "model_id": "1441fb9ccacf40cfbedf0ade94c89452",
       "version_major": 2,
       "version_minor": 0
      },
      "text/plain": [
       "interactive(children=(FloatSlider(value=1.0, description='x0', max=3.0, min=1.0, step=0.2), IntSlider(value=1,…"
      ]
     },
     "metadata": {},
     "output_type": "display_data"
    }
   ],
   "source": [
    "v = interactive(plot_taylor_lnx, x0=(1,3,0.2), n=(1,8), r=(2,4))\n",
    "display(v)"
   ]
  },
  {
   "cell_type": "markdown",
   "metadata": {},
   "source": [
    "## Error analysis\n",
    "\n",
    "Note that, in previous examples: for higher degrees of approximation, the local solution gets better, but the extrapolation gets worse!\n",
    "\n",
    "Analyzing this in a bit more detail:"
   ]
  },
  {
   "cell_type": "code",
   "execution_count": 25,
   "metadata": {},
   "outputs": [],
   "source": [
    "def plot_taylor_error(x0=0.0, n=1, s=1):\n",
    "    func = sym.sin(x)#/x\n",
    "    taylor = sym.series(func, x0=x0, n=n+1).removeO()\n",
    "\n",
    "    evalfunc = sym.lambdify(x, func, modules=['numpy'])\n",
    "    evaltaylor = sym.lambdify(x, taylor, modules=['numpy'])\n",
    "\n",
    "    t = np.linspace(-2*np.pi, 3*np.pi, 100)\n",
    "    fig = plt.figure(figsize=(10,8))\n",
    "    ax1 = fig.add_subplot(211)\n",
    "    # plt.plot(t, evalfunc(t), 'b', label='sin(x)')\n",
    "    ax1.plot(t, evaltaylor(t)-evalfunc(t), 'r', label='Taylor error')\n",
    "    ax1.plot(x0, 0, 'go', label='x0', markersize = 12)\n",
    "    plt.legend(loc='upper left')\n",
    "    ax1.set_xlim([-1*np.pi, 2*np.pi])\n",
    "    ax1.set_ylim([-s*3,s*3])\n",
    "    ax2 = fig.add_subplot(212)\n",
    "    ax2.plot(t, evalfunc(t), 'b', label='sin(x)')\n",
    "    ax2.plot(t, evaltaylor(t), 'r', label='Taylor')\n",
    "    ax2.plot(x0, evalfunc(x0), 'go', label='x0', markersize = 12)\n",
    "    plt.legend(loc='upper left')\n",
    "    ax2.set_xlim([-1*np.pi, 2*np.pi])\n",
    "    ax2.set_ylim([-3,3])\n",
    "\n",
    "\n",
    "    plt.show()"
   ]
  },
  {
   "cell_type": "code",
   "execution_count": 27,
   "metadata": {
    "slideshow": {
     "slide_type": "slide"
    }
   },
   "outputs": [
    {
     "data": {
      "application/vnd.jupyter.widget-view+json": {
       "model_id": "d99e15485c6f437faf8bd88708969fe7",
       "version_major": 2,
       "version_minor": 0
      },
      "text/plain": [
       "interactive(children=(FloatSlider(value=0.0, description='x0', max=3.141592653589793, step=0.3141592653589793)…"
      ]
     },
     "metadata": {},
     "output_type": "display_data"
    }
   ],
   "source": [
    "v = interactive(plot_taylor_error, x0=(0,np.pi,0.1*np.pi), n=(1,8), r=(2,4), s=(1,10))\n",
    "display(v)"
   ]
  },
  {
   "cell_type": "code",
   "execution_count": null,
   "metadata": {},
   "outputs": [],
   "source": []
  },
  {
   "cell_type": "code",
   "execution_count": null,
   "metadata": {},
   "outputs": [],
   "source": []
  }
 ],
 "metadata": {
  "celltoolbar": "Slideshow",
  "kernelspec": {
   "display_name": "Python 3",
   "language": "python",
   "name": "python3"
  },
  "language_info": {
   "codemirror_mode": {
    "name": "ipython",
    "version": 3
   },
   "file_extension": ".py",
   "mimetype": "text/x-python",
   "name": "python",
   "nbconvert_exporter": "python",
   "pygments_lexer": "ipython3",
   "version": "3.7.2"
  }
 },
 "nbformat": 4,
 "nbformat_minor": 2
}
