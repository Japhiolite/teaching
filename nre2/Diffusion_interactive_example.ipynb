{
 "cells": [
  {
   "cell_type": "markdown",
   "metadata": {},
   "source": [
    "# Simple interactive example of diffusion problem"
   ]
  },
  {
   "cell_type": "code",
   "execution_count": 39,
   "metadata": {},
   "outputs": [],
   "source": [
    "import numpy as np\n",
    "import matplotlib.pyplot as plt\n",
    "import sys\n",
    "from ipywidgets import interactive\n",
    "from IPython.display import Audio, display\n",
    "plt.rcParams['figure.figsize'] = [16., 12.]\n",
    "plt.rcParams['font.size'] = 16"
   ]
  },
  {
   "cell_type": "code",
   "execution_count": 2,
   "metadata": {},
   "outputs": [
    {
     "data": {
      "text/plain": [
       "(6.250000000000001, 0.005)"
      ]
     },
     "execution_count": 2,
     "metadata": {},
     "output_type": "execute_result"
    }
   ],
   "source": [
    "# Define model and diffusion parameters:\n",
    "nt = 200\n",
    "L = 1.\n",
    "nx = 200\n",
    "dx = L/nx\n",
    "kappa = 1E-6\n",
    "dt = dx**2 / (4 * kappa)\n",
    "xvals = np.linspace(0,L,nx)\n",
    "u_max = 10.\n",
    "sigma = 0.05\n",
    "offset = 0.5\n",
    "dt, dx"
   ]
  },
  {
   "cell_type": "code",
   "execution_count": 3,
   "metadata": {},
   "outputs": [],
   "source": [
    "# initial peak\n",
    "u_init = u_max * np.exp(-((xvals-0.5) / sigma)**2)"
   ]
  },
  {
   "cell_type": "code",
   "execution_count": 4,
   "metadata": {},
   "outputs": [],
   "source": [
    "def explicit_iteration(u, beta):\n",
    "    \"\"\"Perform one iteration of the explicit algorithm\"\"\"\n",
    "    u_kp1 = u[:]\n",
    "    u_kp1[1:-1] = beta * u[0:-2] + (1 - 2 * beta) * u[1:-1] + beta * u[2:]\n",
    "     "
   ]
  },
  {
   "cell_type": "code",
   "execution_count": 35,
   "metadata": {},
   "outputs": [],
   "source": [
    "def diff_problem(beta, nt=200, plot=True):\n",
    "    # to generate the figure:\n",
    "    u = u_init.copy()\n",
    "    for i in range(nt):\n",
    "        explicit_iteration(u, beta)\n",
    "        # Trick to plot only every 10th iteration:\n",
    "        if plot:\n",
    "            if np.mod(i,200/10.) == 0: \n",
    "                plt.plot(xvals, u, color=plt.cm.copper_r(i/nt), lw=2)\n",
    "    if plot: plt.show()"
   ]
  },
  {
   "cell_type": "code",
   "execution_count": 36,
   "metadata": {},
   "outputs": [
    {
     "data": {
      "application/vnd.jupyter.widget-view+json": {
       "model_id": "2d82b743132f4f7d8e31cd11550aba7b"
      }
     },
     "metadata": {},
     "output_type": "display_data"
    }
   ],
   "source": [
    "v = interactive(diff_problem, beta=(0.1,0.8,0.025), nt=(20,800,10))\n",
    "display(v)"
   ]
  },
  {
   "cell_type": "markdown",
   "metadata": {},
   "source": [
    "## Calculation on basis of dt, kappa, dx"
   ]
  },
  {
   "cell_type": "code",
   "execution_count": 7,
   "metadata": {},
   "outputs": [],
   "source": [
    "def diff_problem_phys(kappa=-6, dt=6.25, dx10=0.05, nt=20):\n",
    "    # to generate the figure:\n",
    "    fig = plt.figure(figsize=(12,7))\n",
    "    ax = fig.add_subplot(111)\n",
    "    u = u_init.copy()\n",
    "    dx = dx10/10. # strange scaling required for sliders\n",
    "    beta = 10**kappa * dt / dx**2\n",
    "    for i in range(nt):\n",
    "        explicit_iteration(u, beta)\n",
    "        # Trick to plot only every 10th iteration:\n",
    "        if np.mod(i,200/10.) == 0: \n",
    "            ax.plot(xvals, u, color=plt.cm.copper_r(i/nt), lw=2)\n",
    "    plt.show()\n",
    "    return dx"
   ]
  },
  {
   "cell_type": "code",
   "execution_count": 8,
   "metadata": {},
   "outputs": [
    {
     "data": {
      "application/vnd.jupyter.widget-view+json": {
       "model_id": "7e97fbf63e214485a47ec12525428e69"
      }
     },
     "metadata": {},
     "output_type": "display_data"
    }
   ],
   "source": [
    "v = interactive(diff_problem_phys,  kappa=(-7,-5.5,0.01), nt=(20,800,10), dx10=(0.03,0.07,0.001))\n",
    "display(v)"
   ]
  },
  {
   "cell_type": "markdown",
   "metadata": {},
   "source": [
    "What happens? Clearly, the problem appears as a function of the three parameters $kappa$, $dt$, and $dx$ - and if you inspect the combination carefully, then you can realise that this happens as a function of the combination encapsulated in the Neumann number $\\beta$!"
   ]
  },
  {
   "cell_type": "markdown",
   "metadata": {},
   "source": [
    "## Implicit methods to the help\n",
    "\n",
    "We next explore the implicit approach to solve the equation and see what happens there."
   ]
  },
  {
   "cell_type": "code",
   "execution_count": 31,
   "metadata": {},
   "outputs": [
    {
     "data": {
      "image/png": "[encoded data removed]",
      "text/plain": [
       "<matplotlib.figure.Figure at 0x117159160>"
      ]
     },
     "metadata": {},
     "output_type": "display_data"
    }
   ],
   "source": [
    "beta = 0.4\n",
    "\n",
    "def diff_implicit(beta, nt=200, plot=True):\n",
    "    # set up matrix B\n",
    "    B = np.zeros((nx,nx))\n",
    "    i,j = np.indices((nx, nx))\n",
    "    B[i==j] = 1 + 2*beta\n",
    "    B[i==j-1] = -beta\n",
    "    B[i==j+1] = -beta\n",
    "    u_init = u_max * np.exp(-((xvals-0.5) / sigma)**2)\n",
    "    # boundary conditions:\n",
    "    b_0 = 0.\n",
    "    b_1 = 0.\n",
    "    b = np.zeros(nx)\n",
    "    b[0] = b_0\n",
    "    b[-1] = b_1\n",
    "\n",
    "    # re-initialise\n",
    "    u = u_init.copy()\n",
    "    for i in range(nt):\n",
    "        u = np.linalg.solve(B, u + beta*b)\n",
    "        # u[0] = b_0\n",
    "        # u[-1] = b_1\n",
    "        if plot:\n",
    "            if np.mod(i,10) == 0: plt.plot(xvals, u, color=plt.cm.copper_r(i/float(nt)))\n",
    "        # if i == 0: break\n",
    "    if plot: plt.show()\n",
    "\n",
    "diff_implicit(beta)"
   ]
  },
  {
   "cell_type": "code",
   "execution_count": 32,
   "metadata": {},
   "outputs": [
    {
     "data": {
      "application/vnd.jupyter.widget-view+json": {
       "model_id": "dad6b32d69ec4d118a33b3b741a691ca"
      }
     },
     "metadata": {},
     "output_type": "display_data"
    }
   ],
   "source": [
    "v = interactive(diff_implicit, beta=(0.1,0.8,0.025), nt=(20,800,10))\n",
    "display(v)"
   ]
  },
  {
   "cell_type": "markdown",
   "metadata": {},
   "source": [
    "Now, the problem the restriction for $\\beta \\le 0.5$ does not exist anymore!\n",
    "\n",
    "So: why would one not use the implicit method all the time?"
   ]
  },
  {
   "cell_type": "code",
   "execution_count": null,
   "metadata": {},
   "outputs": [],
   "source": []
  },
  {
   "cell_type": "code",
   "execution_count": null,
   "metadata": {},
   "outputs": [],
   "source": []
  },
  {
   "cell_type": "code",
   "execution_count": null,
   "metadata": {},
   "outputs": [],
   "source": []
  },
  {
   "cell_type": "code",
   "execution_count": 37,
   "metadata": {
    "scrolled": true
   },
   "outputs": [
    {
     "name": "stdout",
     "output_type": "stream",
     "text": [
      "1000 loops, best of 3: 935 µs per loop\n"
     ]
    }
   ],
   "source": [
    "%%timeit\n",
    "diff_problem(0.4, plot=False)"
   ]
  },
  {
   "cell_type": "code",
   "execution_count": 38,
   "metadata": {},
   "outputs": [
    {
     "name": "stdout",
     "output_type": "stream",
     "text": [
      "10 loops, best of 3: 42.5 ms per loop\n"
     ]
    }
   ],
   "source": [
    "%%timeit\n",
    "diff_implicit(0.4, plot=False)"
   ]
  },
  {
   "cell_type": "code",
   "execution_count": null,
   "metadata": {},
   "outputs": [],
   "source": []
  }
 ],
 "metadata": {
  "kernelspec": {
   "display_name": "Python 3",
   "language": "python",
   "name": "python3"
  },
  "language_info": {
   "codemirror_mode": {
    "name": "ipython",
    "version": 3
   },
   "file_extension": ".py",
   "mimetype": "text/x-python",
   "name": "python",
   "nbconvert_exporter": "python",
   "pygments_lexer": "ipython3",
   "version": "3.6.3"
  }
 },
 "nbformat": 4,
 "nbformat_minor": 2
}
