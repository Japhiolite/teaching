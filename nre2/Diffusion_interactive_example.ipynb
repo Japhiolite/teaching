{
 "cells": [
  {
   "cell_type": "markdown",
   "metadata": {},
   "source": [
    "# Simple interactive example of diffusion problem"
   ]
  },
  {
   "cell_type": "code",
   "execution_count": 7,
   "metadata": {},
   "outputs": [],
   "source": [
    "import numpy as np\n",
    "import matplotlib.pyplot as plt\n",
    "import sys\n",
    "from ipywidgets import interactive\n",
    "from IPython.display import Audio, display\n",
    "plt.rcParams['figure.figsize'] = [10., 7.]\n",
    "plt.rcParams['font.size'] = 16"
   ]
  },
  {
   "cell_type": "code",
   "execution_count": 14,
   "metadata": {},
   "outputs": [],
   "source": [
    "# Define model and diffusion parameters:\n",
    "nt = 200\n",
    "L = 1.\n",
    "nx = 200\n",
    "dx = L/nx\n",
    "kappa = 1E-6\n",
    "dt = dx**2 / (4 * kappa)\n",
    "xvals = np.linspace(0,L,nx)\n",
    "u_max = 10.\n",
    "sigma = 0.05\n",
    "offset = 0.5"
   ]
  },
  {
   "cell_type": "code",
   "execution_count": 15,
   "metadata": {},
   "outputs": [],
   "source": [
    "# initial peak\n",
    "u_init = u_max * np.exp(-((xvals-0.5) / sigma)**2)"
   ]
  },
  {
   "cell_type": "code",
   "execution_count": 16,
   "metadata": {},
   "outputs": [],
   "source": [
    "def explicit_iteration(u, beta):\n",
    "    \"\"\"Perform one iteration of the explicit algorithm\"\"\"\n",
    "    u_kp1 = u[:]\n",
    "    u_kp1[1:-1] = beta * u[0:-2] + (1 - 2 * beta) * u[1:-1] + beta * u[2:]\n",
    "     "
   ]
  },
  {
   "cell_type": "code",
   "execution_count": 19,
   "metadata": {},
   "outputs": [],
   "source": [
    "def diff_problem(beta, nt=20):\n",
    "    # to generate the figure:\n",
    "    fig = plt.figure(figsize=(12,7))\n",
    "    ax = fig.add_subplot(111)\n",
    "    u = u_init.copy()\n",
    "    for i in range(nt):\n",
    "        explicit_iteration(u, beta)\n",
    "        # Trick to plot only every 10th iteration:\n",
    "        if np.mod(i,200/10.) == 0: \n",
    "            ax.plot(xvals, u, color=plt.cm.copper_r(i/nt), lw=2)\n",
    "    plt.show()"
   ]
  },
  {
   "cell_type": "code",
   "execution_count": 20,
   "metadata": {},
   "outputs": [
    {
     "data": {
      "application/vnd.jupyter.widget-view+json": {
       "model_id": "54c028e3680e4dc4964f2598fb0bcdfd"
      }
     },
     "metadata": {},
     "output_type": "display_data"
    }
   ],
   "source": [
    "v = interactive(diff_problem, beta=(0.1,0.8,0.025), nt=(20,800,10))\n",
    "display(v)"
   ]
  },
  {
   "cell_type": "code",
   "execution_count": null,
   "metadata": {},
   "outputs": [],
   "source": []
  }
 ],
 "metadata": {
  "kernelspec": {
   "display_name": "Python 3",
   "language": "python",
   "name": "python3"
  },
  "language_info": {
   "codemirror_mode": {
    "name": "ipython",
    "version": 3
   },
   "file_extension": ".py",
   "mimetype": "text/x-python",
   "name": "python",
   "nbconvert_exporter": "python",
   "pygments_lexer": "ipython3",
   "version": "3.6.3"
  }
 },
 "nbformat": 4,
 "nbformat_minor": 2
}
