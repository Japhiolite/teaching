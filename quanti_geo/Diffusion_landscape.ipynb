{
 "cells": [
  {
   "cell_type": "markdown",
   "metadata": {},
   "source": [
    "# Diffusive landscape evolution model"
   ]
  },
  {
   "cell_type": "code",
   "execution_count": 11,
   "metadata": {},
   "outputs": [],
   "source": [
    "import numpy as np\n",
    "import matplotlib.pyplot as plt\n",
    "import sys\n",
    "from ipywidgets import interactive\n",
    "from IPython.display import Audio, display\n",
    "plt.rcParams['figure.figsize'] = [16., 12.]\n",
    "plt.rcParams['font.size'] = 16"
   ]
  },
  {
   "cell_type": "code",
   "execution_count": 12,
   "metadata": {},
   "outputs": [
    {
     "data": {
      "text/plain": [
       "(25.000000000000004, 0.01)"
      ]
     },
     "execution_count": 12,
     "metadata": {},
     "output_type": "execute_result"
    }
   ],
   "source": [
    "# Define model and diffusion parameters:\n",
    "nt = 200\n",
    "L = 1.\n",
    "nx = 100\n",
    "dx = L/nx\n",
    "kappa = 1E-6\n",
    "dt = dx**2 / (4 * kappa)\n",
    "xvals = np.linspace(0,L,nx)\n",
    "u_max = 10.\n",
    "sigma = 0.05\n",
    "offset = 0.5\n",
    "dt, dx"
   ]
  },
  {
   "cell_type": "markdown",
   "metadata": {},
   "source": [
    "## Define initial function"
   ]
  },
  {
   "cell_type": "code",
   "execution_count": 13,
   "metadata": {},
   "outputs": [],
   "source": [
    "u_init = np.random.uniform(size=nx)"
   ]
  },
  {
   "cell_type": "code",
   "execution_count": 14,
   "metadata": {},
   "outputs": [],
   "source": [
    "# initial peak\n",
    "# u_init = u_max * np.exp(-((xvals-0.5) / sigma)**2)"
   ]
  },
  {
   "cell_type": "code",
   "execution_count": 15,
   "metadata": {},
   "outputs": [],
   "source": [
    "def explicit_iteration(u, beta):\n",
    "    \"\"\"Perform one iteration of the explicit algorithm\"\"\"\n",
    "    u_kp1 = u[:]\n",
    "    u_kp1[1:-1] = beta * u[0:-2] + (1 - 2 * beta) * u[1:-1] + beta * u[2:]\n",
    "     "
   ]
  },
  {
   "cell_type": "code",
   "execution_count": 16,
   "metadata": {},
   "outputs": [],
   "source": [
    "def diff_problem(beta=0.15, nt=1, plot=True):\n",
    "    # to generate the figure:\n",
    "    u = u_init.copy()\n",
    "    for i in range(nt):\n",
    "        explicit_iteration(u, beta)\n",
    "        # Trick to plot only every 10th iteration:\n",
    "        if plot:\n",
    "            if np.mod(i,200/10.) == 0: \n",
    "                plt.plot(xvals, u, color=plt.cm.copper_r(i/nt), lw=2)\n",
    "    if plot: plt.show()"
   ]
  },
  {
   "cell_type": "code",
   "execution_count": 17,
   "metadata": {},
   "outputs": [
    {
     "data": {
      "application/vnd.jupyter.widget-view+json": {
       "model_id": "046d3e517034411c96bd94d1b4697a15",
       "version_major": 2,
       "version_minor": 0
      },
      "text/plain": [
       "interactive(children=(FloatSlider(value=0.15, description='beta', max=0.8, min=0.1, step=0.025), IntSlider(val…"
      ]
     },
     "metadata": {},
     "output_type": "display_data"
    }
   ],
   "source": [
    "v = interactive(diff_problem, beta=(0.1,0.8,0.025), nt=(20,800,10))\n",
    "display(v)"
   ]
  },
  {
   "cell_type": "markdown",
   "metadata": {},
   "source": [
    "**Q (and fun fact): what else can the Laplace operator be used for?**"
   ]
  },
  {
   "cell_type": "markdown",
   "metadata": {
    "collapsed": true
   },
   "source": [
    "## Using a DEM model\n",
    "\n",
    "Steps: \n",
    "\n",
    "- pick points in GoogleEarth\n",
    "- extract elevation and concert to txt file: \n",
    "\n",
    "https://www.gpsvisualizer.com/convert_input?form=elevation&units=metric&form:add_elevation=auto"
   ]
  },
  {
   "cell_type": "code",
   "execution_count": 18,
   "metadata": {},
   "outputs": [],
   "source": [
    "# load DTM data from file\n",
    "dtm = np.loadtxt(\"./elevation_1.txt\", skiprows=1, usecols=(1,2,3))"
   ]
  },
  {
   "cell_type": "code",
   "execution_count": 19,
   "metadata": {},
   "outputs": [
    {
     "data": {
      "text/plain": [
       "(107, 3)"
      ]
     },
     "execution_count": 19,
     "metadata": {},
     "output_type": "execute_result"
    }
   ],
   "source": [
    "dtm.shape"
   ]
  },
  {
   "cell_type": "code",
   "execution_count": 21,
   "metadata": {},
   "outputs": [],
   "source": [
    "plt.plot(dtm[:,2])\n",
    "plt.show()"
   ]
  },
  {
   "cell_type": "code",
   "execution_count": 31,
   "metadata": {
    "collapsed": true
   },
   "outputs": [],
   "source": [
    "u_init = dtm[:100,2]"
   ]
  },
  {
   "cell_type": "code",
   "execution_count": 34,
   "metadata": {},
   "outputs": [
    {
     "data": {
      "application/vnd.jupyter.widget-view+json": {
       "model_id": "cee01d0d7196463491c492b73ef55d72",
       "version_major": 2,
       "version_minor": 0
      },
      "text/plain": [
       "A Jupyter Widget"
      ]
     },
     "metadata": {},
     "output_type": "display_data"
    }
   ],
   "source": [
    "v = interactive(diff_problem, beta=(0.1,0.8,0.025), nt=(20,800,10))\n",
    "display(v)"
   ]
  },
  {
   "cell_type": "code",
   "execution_count": null,
   "metadata": {
    "collapsed": true
   },
   "outputs": [],
   "source": []
  }
 ],
 "metadata": {
  "kernelspec": {
   "display_name": "Python 3",
   "language": "python",
   "name": "python3"
  },
  "language_info": {
   "codemirror_mode": {
    "name": "ipython",
    "version": 3
   },
   "file_extension": ".py",
   "mimetype": "text/x-python",
   "name": "python",
   "nbconvert_exporter": "python",
   "pygments_lexer": "ipython3",
   "version": "3.7.4"
  }
 },
 "nbformat": 4,
 "nbformat_minor": 2
}
