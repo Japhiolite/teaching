{
 "cells": [
  {
   "cell_type": "markdown",
   "metadata": {},
   "source": [
    "# Analytical solution of the 1-D diffusion equation\n",
    "\n",
    "As discussed in class, many physical problems encountered in the field of geosciences can be described with a diffusion equation, i.e. _relating the rate of change in time to the curvature in space_:\n",
    "\n",
    "$$\\frac{\\partial u}{\\partial t} = \\kappa \\frac{\\partial^2 u}{\\partial x^2}$$\n",
    "\n",
    "Here, $u$ represents any type of property (e.g. temperature, pressure, hight, ...) and $\\kappa$ is the proportionality constant, a general _diffusivity_.\n",
    "\n",
    "As this equation is so general, we will investigate some of its properties and typical solutions here."
   ]
  },
  {
   "cell_type": "code",
   "execution_count": 1,
   "metadata": {},
   "outputs": [],
   "source": [
    "# first some basic Python imports\n",
    "import matplotlib.pyplot as plt\n",
    "import numpy as np\n",
    "import scipy.special\n",
    "from ipywidgets import interactive\n",
    "plt.rcParams['figure.figsize'] = [8., 5.]\n",
    "plt.rcParams['font.size'] = 16\n",
    "from IPython.display import Audio, display"
   ]
  },
  {
   "cell_type": "markdown",
   "metadata": {},
   "source": [
    "## Steady-state solution\n",
    "\n",
    "Before actually looking at the change in time, let's take a look at what happens when things _do not_ change anymore - i.e. when the time derivative is equal to zero:\n",
    "\n",
    "$$\\frac{\\partial u}{\\partial t} = 0$$\n",
    "\n",
    "So:\n",
    "\n",
    "$$\\kappa \\frac{\\partial^2 u}{\\partial x^2} = 0$$ \n",
    "\n",
    "and as $\\kappa \\ne 0$:\n",
    "\n",
    "$$\\frac{\\partial^2 u}{\\partial x^2} = 0$$ \n",
    "\n",
    "What does this eqution mean? The change of gradient (i.e. the curvature) is $\\ne 0$, so the solution has to be linear, for a 1-D problem!\n",
    "\n",
    "Q: what happens for multidimensional problems?\n",
    "\n",
    "So: how can we now obtain a solution for an actual problem? Note that, for any defined domain $X$, there are infinitely many solutions which would satisfy this equation, e.g. let's look at a couple random realizations:"
   ]
  },
  {
   "cell_type": "code",
   "execution_count": 2,
   "metadata": {},
   "outputs": [],
   "source": [
    "def plot_steady_state(n=1):\n",
    "    # set number of lines with n\n",
    "    np.random.seed(seed=12345)\n",
    "    pts_left = np.random.uniform(0,1, size=(20))\n",
    "    pts_right = np.random.uniform(0,1, size=(20))\n",
    "    plt.plot((np.zeros(n),np.ones(n)),(pts_left[:n],pts_right[:n]), '-')\n",
    "    plt.xlim([0,1])\n",
    "    plt.ylim([0,1])\n",
    "    plt.xlabel('x')\n",
    "    plt.ylabel('u')\n",
    "    plt.show()"
   ]
  },
  {
   "cell_type": "code",
   "execution_count": 3,
   "metadata": {},
   "outputs": [
    {
     "data": {
      "application/vnd.jupyter.widget-view+json": {
       "model_id": "823653dea5554927a50fa67a6ca9edc9",
       "version_major": 2,
       "version_minor": 0
      },
      "text/plain": [
       "interactive(children=(IntSlider(value=1, description='n', max=20, min=1), Output()), _dom_classes=('widget-int…"
      ]
     },
     "metadata": {},
     "output_type": "display_data"
    }
   ],
   "source": [
    "v = interactive(plot_steady_state, n=(1,20,1))\n",
    "display(v)"
   ]
  },
  {
   "cell_type": "markdown",
   "metadata": {},
   "source": [
    "So: **which one of these lines is the one which is the solution to a specific problem?**\n",
    "\n",
    "It is clear that we need to define some aspects to _fix_ the line in space.\n",
    "\n",
    "Q: which aspects could this be?\n",
    "\n",
    "Of course, one solution is to fix points on both sides of the domain, then we only have one solution left, e.g.:"
   ]
  },
  {
   "cell_type": "code",
   "execution_count": 4,
   "metadata": {},
   "outputs": [
    {
     "data": {
      "image/png": "[encoded data removed]",
      "text/plain": [
       "<Figure size 432x288 with 1 Axes>"
      ]
     },
     "metadata": {
      "needs_background": "light"
     },
     "output_type": "display_data"
    }
   ],
   "source": [
    "pt_left = 0.2\n",
    "pt_right = 0.5\n",
    "plt.plot((0,1),(pt_left, pt_right), 'o-', markersize=12)\n",
    "plt.xlim([-0.01,1.01])\n",
    "plt.ylim([0,1])\n",
    "plt.xlabel('x')\n",
    "plt.ylabel('u')\n",
    "plt.show()"
   ]
  },
  {
   "cell_type": "markdown",
   "metadata": {},
   "source": [
    "Q: which other options can you think of?\n",
    "\n",
    "Note: on a mathematical level, these additional conditions are required to obtain a solution are called **boundary conditions**!"
   ]
  },
  {
   "cell_type": "markdown",
   "metadata": {},
   "source": [
    "## Transient solution\n",
    "\n",
    "Let's now consider the case where we have a transient solution, evolving over time. As before, in order to define a solution, we have to define *boundary conditions*. In addition, as we consider changes over time, we have to define where we *start* - and this is defined with the *initial condition*.\n",
    "\n",
    "A typical set of conditions, encountered in many physical problems, is related to an initial uniform state, which is suddenly perturbed on one side of an \"infinite half-space\":\n",
    "\n",
    "<img src=\"./half_space_cooling.png\">\n"
   ]
  },
  {
   "cell_type": "markdown",
   "metadata": {},
   "source": [
    "The conditions for this model for $T(x,t)$ are, accordingly:\n",
    "\n",
    "- Initial condition: $T(x,0) = T_0$\n",
    "- Boundary conditions: \n",
    "    - $T(0,t) = T_1$\n",
    "    - $T(\\infty,t) = T_0$\n",
    "    \n",
    "An analytical solution for this problem can be derived, and it has the general form:\n",
    "\n",
    "$$ T(x,t) = T_1 + (T_0 - T_1)\\;\\mbox{erf}\\left(\\frac{x}{2\\sqrt{\\kappa t}}\\right)$$\n",
    "\n",
    "Where \"erf\" is the so-called \"error function\" (due to its relationship with the normal distribution), defined as:\n",
    "\n",
    "$$\\mbox{erf}(\\eta) = \\frac{2}{\\sqrt{\\pi}} \\int_0^\\eta e^{-u^2}\\;du$$\n",
    "\n",
    "### Error function\n",
    "\n",
    "Here a plot of the error function:"
   ]
  },
  {
   "cell_type": "code",
   "execution_count": 5,
   "metadata": {},
   "outputs": [
    {
     "data": {
      "image/png": "[encoded data removed]",
      "text/plain": [
       "<Figure size 432x288 with 1 Axes>"
      ]
     },
     "metadata": {
      "needs_background": "light"
     },
     "output_type": "display_data"
    }
   ],
   "source": [
    "xvals = np.arange(0,3.,0.001)\n",
    "plt.plot(xvals, scipy.special.erf(xvals))\n",
    "plt.xlabel('$\\eta$')\n",
    "plt.ylabel('erf($\\eta$)')\n",
    "plt.show()"
   ]
  },
  {
   "cell_type": "markdown",
   "metadata": {},
   "source": [
    "Looking at the shape of this curve, it is intuitively evident that it is related to the diffusion problem considered above: a \"pulse\" of some sort is propagating into a domain (here in x-direction). Better seen maybe even when inspecting the \"complementary error function\":"
   ]
  },
  {
   "cell_type": "code",
   "execution_count": 6,
   "metadata": {},
   "outputs": [
    {
     "data": {
      "image/png": "[encoded data removed]",
      "text/plain": [
       "<Figure size 432x288 with 1 Axes>"
      ]
     },
     "metadata": {
      "needs_background": "light"
     },
     "output_type": "display_data"
    }
   ],
   "source": [
    "xvals = np.arange(0,3,0.01)\n",
    "plt.plot(xvals, scipy.special.erfc(xvals))\n",
    "plt.xlabel('x')\n",
    "plt.ylabel('erfc(x)')\n",
    "plt.show()"
   ]
  },
  {
   "cell_type": "markdown",
   "metadata": {},
   "source": [
    "### Physical example\n",
    "\n",
    "Let's now consider a \"dimensionalized\" example, considering actual physical parameters, recall first:\n",
    "\n",
    "$$ T(x,t) = T_1 + (T_0 - T_1)\\;\\mbox{erf}\\left(\\frac{x}{2\\sqrt{\\kappa t}}\\right)$$\n",
    "\n",
    "If we consider a case of thermal diffusion, then a typical property would be:\n",
    "\n",
    "- $\\kappa = 10^{-6}$\n",
    "\n",
    "**Q: what do you think, how far does a temperature pulse in such a medium propagate in 1 sec, 1 day, 1 year?**"
   ]
  },
  {
   "cell_type": "code",
   "execution_count": 7,
   "metadata": {},
   "outputs": [],
   "source": [
    "xvals = np.arange(0.,0.006,0.0001)\n",
    "t = 1 # second!!\n",
    "def diffusion(x,t):\n",
    "    kappa = 1E-6\n",
    "    T_0 = 0\n",
    "    T_1 = 1\n",
    "    return T_1 + (T_0 - T_1) * scipy.special.erf(x/(2 * np.sqrt(kappa*t)))"
   ]
  },
  {
   "cell_type": "code",
   "execution_count": 8,
   "metadata": {},
   "outputs": [
    {
     "data": {
      "image/png": "[encoded data removed]",
      "text/plain": [
       "<Figure size 432x288 with 1 Axes>"
      ]
     },
     "metadata": {
      "needs_background": "light"
     },
     "output_type": "display_data"
    }
   ],
   "source": [
    "plt.plot(xvals, diffusion(xvals, t))\n",
    "plt.show()"
   ]
  },
  {
   "cell_type": "markdown",
   "metadata": {},
   "source": [
    "Side note: how can we get a feeling for the propagation of such a pulse, on the basis of this analytical solution? Note that, in theory, the erf does never actually reach 0 (it is only asymptotic!).\n",
    "\n",
    "Idea: define a *point* at which a change in property should be noticable. Typical decision:\n",
    "\n",
    "$l_c = 2\\sqrt{\\kappa t}$\n",
    "\n",
    "**Q: which point in the diagram does this value correspond to? And what is the relationship to the erf-plot?**"
   ]
  },
  {
   "cell_type": "code",
   "execution_count": 9,
   "metadata": {},
   "outputs": [
    {
     "data": {
      "image/png": "[encoded data removed]",
      "text/plain": [
       "<Figure size 432x288 with 1 Axes>"
      ]
     },
     "metadata": {
      "needs_background": "light"
     },
     "output_type": "display_data"
    }
   ],
   "source": [
    "plt.plot(xvals, diffusion(xvals, t))\n",
    "plt.axvline(2*np.sqrt(1E-6 * t), color='k', linestyle='--')\n",
    "plt.show()"
   ]
  },
  {
   "cell_type": "markdown",
   "metadata": {},
   "source": [
    "*Side note*: if you consider again where the definition of the error function actually comes from: what does this value correspond to?\n",
    "\n",
    "Let's now consider a more geologically meaningful example: propagation over a longer time period, over a greater distance.\n",
    "\n",
    "**Q: back to the characteristic length: how far would a pulse propagate over, say, 1000 years?**"
   ]
  },
  {
   "cell_type": "code",
   "execution_count": 10,
   "metadata": {},
   "outputs": [
    {
     "name": "stdout",
     "output_type": "stream",
     "text": [
      "355.1675660867698\n"
     ]
    }
   ],
   "source": [
    "year_sec = 3600.*24*365\n",
    "char_length = 2 * np.sqrt(1E-6 * 1000 * year_sec)\n",
    "print(char_length)"
   ]
  },
  {
   "cell_type": "markdown",
   "metadata": {},
   "source": [
    "Let's look at such a propagation in a dynamic system:"
   ]
  },
  {
   "cell_type": "code",
   "execution_count": 11,
   "metadata": {},
   "outputs": [
    {
     "data": {
      "application/vnd.jupyter.widget-view+json": {
       "model_id": "e11735c5a7b944aca81ef5050e806e3d",
       "version_major": 2,
       "version_minor": 0
      },
      "text/plain": [
       "interactive(children=(IntSlider(value=50, description='year', max=2001, min=50, step=150), Output()), _dom_cla…"
      ]
     },
     "metadata": {},
     "output_type": "display_data"
    }
   ],
   "source": [
    "xvals = np.arange(0,1000)\n",
    "def plot_temp(year=50):\n",
    "    plt.plot(xvals, diffusion(xvals, year * year_sec))\n",
    "    plt.show()\n",
    "v = interactive(plot_temp, year=(50,2001,150))\n",
    "display(v)"
   ]
  },
  {
   "cell_type": "markdown",
   "metadata": {},
   "source": [
    "Or, in comparison to time evolution:"
   ]
  },
  {
   "cell_type": "code",
   "execution_count": 14,
   "metadata": {},
   "outputs": [
    {
     "data": {
      "application/vnd.jupyter.widget-view+json": {
       "model_id": "69a3e0bcfc6b40558c77ba0322890e12",
       "version_major": 2,
       "version_minor": 0
      },
      "text/plain": [
       "interactive(children=(IntSlider(value=50, description='year', max=2001, min=50, step=150), Output()), _dom_cla…"
      ]
     },
     "metadata": {},
     "output_type": "display_data"
    }
   ],
   "source": [
    "xvals = np.arange(0,1000)\n",
    "def plot_temp(year=50):\n",
    "    for i in range(int(year/50)):\n",
    "        plt.plot(xvals, diffusion(xvals, (i+1)*50 * year_sec), \n",
    "             color=plt.cm.copper_r(i/50), lw=2)\n",
    "    plt.show()\n",
    "v = interactive(plot_temp, year=(50,2001,150))\n",
    "display(v)"
   ]
  },
  {
   "cell_type": "markdown",
   "metadata": {},
   "source": [
    "## Additional content"
   ]
  },
  {
   "cell_type": "markdown",
   "metadata": {},
   "source": [
    "### Relationship error function - Normal distribution\n",
    "\n"
   ]
  },
  {
   "cell_type": "code",
   "execution_count": 13,
   "metadata": {},
   "outputs": [
    {
     "data": {
      "image/png": "[encoded data removed]",
      "text/plain": [
       "<Figure size 432x288 with 1 Axes>"
      ]
     },
     "metadata": {
      "needs_background": "light"
     },
     "output_type": "display_data"
    }
   ],
   "source": [
    "xvals = np.arange(-3,3,0.01)\n",
    "plt.plot(xvals, scipy.special.erf(xvals))\n",
    "plt.xlabel('x')\n",
    "plt.ylabel('erf(x)')\n",
    "plt.show()"
   ]
  },
  {
   "cell_type": "code",
   "execution_count": null,
   "metadata": {},
   "outputs": [],
   "source": []
  },
  {
   "cell_type": "code",
   "execution_count": null,
   "metadata": {},
   "outputs": [],
   "source": []
  }
 ],
 "metadata": {
  "kernelspec": {
   "display_name": "Python 3",
   "language": "python",
   "name": "python3"
  },
  "language_info": {
   "codemirror_mode": {
    "name": "ipython",
    "version": 3
   },
   "file_extension": ".py",
   "mimetype": "text/x-python",
   "name": "python",
   "nbconvert_exporter": "python",
   "pygments_lexer": "ipython3",
   "version": "3.7.4"
  }
 },
 "nbformat": 4,
 "nbformat_minor": 2
}
