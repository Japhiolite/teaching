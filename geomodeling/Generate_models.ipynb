{
 "cells": [
  {
   "cell_type": "markdown",
   "metadata": {},
   "source": [
    "# Generate example models for modeling class\n",
    "\n",
    "Here just a couple of functions (and simple data conversions from gempy models) to create some models:"
   ]
  },
  {
   "cell_type": "code",
   "execution_count": 1,
   "metadata": {},
   "outputs": [],
   "source": [
    "import numpy as np\n",
    "from scipy.interpolate import Rbf\n",
    "\n",
    "import matplotlib\n",
    "import matplotlib.pyplot as plt\n",
    "from matplotlib import cm\n",
    "from numpy.linalg import lstsq\n",
    "\n"
   ]
  },
  {
   "cell_type": "markdown",
   "metadata": {},
   "source": [
    "## Layer stack\n",
    "\n",
    "The first model we will consider is a simple layer stack of (completely) parallel layers, e.g. something we would expect to observe in a sedimentary system:"
   ]
  },
  {
   "cell_type": "code",
   "execution_count": 2,
   "metadata": {},
   "outputs": [],
   "source": [
    "l1 = lambda x : 0.25*x + 10\n",
    "l2 = lambda x : 0.25*x + 20\n",
    "l3 = lambda x : 0.25*x + 30"
   ]
  },
  {
   "cell_type": "markdown",
   "metadata": {},
   "source": [
    "### Randomly sample points\n",
    "\n",
    "We now randomly extract a set of interface points from these lines:\n"
   ]
  },
  {
   "cell_type": "code",
   "execution_count": 3,
   "metadata": {},
   "outputs": [
    {
     "data": {
      "image/png": "[encoded data removed]",
      "text/plain": [
       "<Figure size 432x288 with 1 Axes>"
      ]
     },
     "metadata": {
      "needs_background": "light"
     },
     "output_type": "display_data"
    }
   ],
   "source": [
    "n_pts = 4 # Points per layer\n",
    "\n",
    "# set seed for reproducibility\n",
    "np.random.seed(123)\n",
    "l1_pts_x = np.random.uniform(0,100,n_pts)\n",
    "l1_pts_y = l1(l1_pts_x)\n",
    "l2_pts_x = np.random.uniform(0,100,n_pts)\n",
    "l2_pts_y = l2(l2_pts_x)\n",
    "l3_pts_x = np.random.uniform(0,100,n_pts)\n",
    "l3_pts_y = l3(l3_pts_x)\n",
    "\n",
    "\n",
    "# plt.plot(xvals, l1(xvals))\n",
    "# plt.plot(xvals, l2(xvals))\n",
    "# plt.plot(xvals, l3(xvals))\n",
    "\n",
    "plt.plot(l1_pts_x, l1_pts_y, 'o')\n",
    "plt.plot(l2_pts_x, l2_pts_y, 'o')\n",
    "plt.plot(l3_pts_x, l3_pts_y, 'o')\n",
    "\n",
    "plt.axis('equal');"
   ]
  },
  {
   "cell_type": "code",
   "execution_count": 4,
   "metadata": {},
   "outputs": [],
   "source": [
    "# combine data in arrays\n",
    "x = np.hstack([l1_pts_x, l2_pts_x, l3_pts_x])\n",
    "y = np.hstack([l1_pts_y, l2_pts_y, l3_pts_y])\n",
    "\n",
    "# give points values\n",
    "z = np.hstack([np.ones(n_pts)*10, np.ones(n_pts)*20, np.ones(n_pts)*30])"
   ]
  },
  {
   "cell_type": "markdown",
   "metadata": {},
   "source": [
    "### Save points for further use"
   ]
  },
  {
   "cell_type": "code",
   "execution_count": 5,
   "metadata": {},
   "outputs": [],
   "source": [
    "np.save(\"pts_line_model_x\", x)\n",
    "np.save(\"pts_line_model_y\", y)\n",
    "np.save(\"pts_line_model_z\", z)"
   ]
  },
  {
   "cell_type": "markdown",
   "metadata": {},
   "source": [
    "## Simple fold model"
   ]
  },
  {
   "cell_type": "code",
   "execution_count": 6,
   "metadata": {},
   "outputs": [],
   "source": [
    "l1 = lambda x : 10*np.sin(0.1*x) + 10\n",
    "l2 = lambda x : 10*np.sin(0.1*x) + 20\n",
    "l3 = lambda x : 10*np.sin(0.1*x) + 30"
   ]
  },
  {
   "cell_type": "code",
   "execution_count": 11,
   "metadata": {},
   "outputs": [
    {
     "data": {
      "text/plain": [
       "(-5.0, 105.0, -1.999971452300779, 41.99999549246729)"
      ]
     },
     "execution_count": 11,
     "metadata": {},
     "output_type": "execute_result"
    },
    {
     "data": {
      "image/png": "[encoded data removed]",
      "text/plain": [
       "<Figure size 432x288 with 1 Axes>"
      ]
     },
     "metadata": {
      "needs_background": "light"
     },
     "output_type": "display_data"
    }
   ],
   "source": [
    "n_pts = 10 # Points per layer\n",
    "l1_pts_x = np.random.uniform(0,100,n_pts)\n",
    "l1_pts_y = l1(l1_pts_x)\n",
    "l2_pts_x = np.random.uniform(0,100,n_pts)\n",
    "l2_pts_y = l2(l2_pts_x)\n",
    "l3_pts_x = np.random.uniform(0,100,n_pts)\n",
    "l3_pts_y = l3(l3_pts_x)\n",
    "\n",
    "xvals = np.linspace(0,100,1000)\n",
    "plt.plot(xvals, l1(xvals))\n",
    "plt.plot(xvals, l2(xvals))\n",
    "plt.plot(xvals, l3(xvals))\n",
    "\n",
    "plt.plot(l1_pts_x, l1_pts_y, 'o')\n",
    "plt.plot(l2_pts_x, l2_pts_y, 'o')\n",
    "plt.plot(l3_pts_x, l3_pts_y, 'o')\n",
    "\n",
    "plt.axis('equal')"
   ]
  },
  {
   "cell_type": "code",
   "execution_count": 12,
   "metadata": {},
   "outputs": [],
   "source": [
    "# combine data in arrays\n",
    "x = np.hstack([l1_pts_x, l2_pts_x, l3_pts_x])\n",
    "y = np.hstack([l1_pts_y, l2_pts_y, l3_pts_y])\n",
    "\n",
    "# give points values\n",
    "z = np.hstack([np.ones(n_pts)*10, np.ones(n_pts)*20, np.ones(n_pts)*30])"
   ]
  },
  {
   "cell_type": "code",
   "execution_count": 13,
   "metadata": {},
   "outputs": [],
   "source": [
    "np.save(\"pts_fold_model_x\", x)\n",
    "np.save(\"pts_fold_model_y\", y)\n",
    "np.save(\"pts_fold_model_z\", z)"
   ]
  },
  {
   "cell_type": "markdown",
   "metadata": {},
   "source": [
    "## Recumbend fold\n",
    "\n",
    "aka \"Jan's model\" - for more examples see:\n",
    "\n",
    "https://github.com/cgre-aachen/gempy/tree/master/notebooks/examples\n",
    "\n",
    "Note: we don't generate this model from scratch, but load the csv files and extract the relevant information"
   ]
  },
  {
   "cell_type": "code",
   "execution_count": 11,
   "metadata": {},
   "outputs": [],
   "source": [
    "rock1 = np.loadtxt('jan_model3_rock1.csv', delimiter=',', skiprows=1, usecols=[0,1,2])\n",
    "rock2 = np.loadtxt('jan_model3_rock2.csv', delimiter=',', skiprows=0, usecols=[0,1,2])\n",
    "# select only points for y = 500\n",
    "rock1 = rock1[np.where(rock1[:,1]==500)]\n",
    "rock2 = rock2[np.where(rock2[:,1]==500)]"
   ]
  },
  {
   "cell_type": "code",
   "execution_count": 12,
   "metadata": {},
   "outputs": [
    {
     "data": {
      "text/plain": [
       "[<matplotlib.lines.Line2D at 0xb1c6c1890>]"
      ]
     },
     "execution_count": 12,
     "metadata": {},
     "output_type": "execute_result"
    },
    {
     "data": {
      "image/png": "[encoded data removed]",
      "text/plain": [
       "<Figure size 432x288 with 1 Axes>"
      ]
     },
     "metadata": {
      "needs_background": "light"
     },
     "output_type": "display_data"
    }
   ],
   "source": [
    "plt.plot(rock1[:,0], rock1[:,2], 'o')\n",
    "plt.plot(rock2[:,0], rock2[:,2], 'o')"
   ]
  },
  {
   "cell_type": "code",
   "execution_count": 13,
   "metadata": {},
   "outputs": [],
   "source": [
    "# combine data:\n",
    "x = np.hstack([rock1[:,0], rock2[:,0]])\n",
    "y = np.hstack([rock1[:,2], rock2[:,2]])\n",
    "z = np.hstack([np.ones_like(rock1[:,0])*10, np.ones_like(rock2[:,0])*20])"
   ]
  },
  {
   "cell_type": "code",
   "execution_count": 14,
   "metadata": {},
   "outputs": [],
   "source": [
    "np.save(\"pts_jans_fold_model_x\", x)\n",
    "np.save(\"pts_jans_fold_model_y\", y)\n",
    "np.save(\"pts_jans_fold_model_z\", z)"
   ]
  },
  {
   "cell_type": "markdown",
   "metadata": {},
   "source": [
    "## Fault model\n",
    "\n",
    "Here also an example of a fault model, e.g. to be used to show the influence of multiple interacting scalar fields:"
   ]
  },
  {
   "cell_type": "code",
   "execution_count": 16,
   "metadata": {},
   "outputs": [],
   "source": [
    "n_pts = 10 # Points per layer\n",
    "\n",
    "# Linear functions for line data\n",
    "l1 = lambda x : 0.25*x + 30\n",
    "l2 = lambda x : 0.25*x + 40\n",
    "l3 = lambda x : 0.25*x + 50\n",
    "\n",
    "# set seed for reproducibility\n",
    "np.random.seed(123)\n",
    "# sampling points\n",
    "l1_pts_x = np.random.uniform(0,90,n_pts)\n",
    "l1_pts_y = l1(l1_pts_x)\n",
    "l2_pts_x = np.random.uniform(0,90,n_pts)\n",
    "l2_pts_y = l2(l2_pts_x)\n",
    "l3_pts_x = np.random.uniform(0,90,n_pts)\n",
    "l3_pts_y = l3(l3_pts_x)"
   ]
  },
  {
   "cell_type": "code",
   "execution_count": 24,
   "metadata": {},
   "outputs": [],
   "source": [
    "# define fault\n",
    "fault_point_1 = (40,60)\n",
    "fault_point_2 = (60,20)\n",
    "# interpolate fault - to obtain offset for data set:"
   ]
  },
  {
   "cell_type": "code",
   "execution_count": 25,
   "metadata": {},
   "outputs": [],
   "source": [
    "x_coords, y_coords = [40,60], [60,20] # zip(*points)\n",
    "A = np.vstack([x_coords, np.ones(len(x_coords))]).T\n",
    "m, c = lstsq(A, y_coords, rcond=None)[0]"
   ]
  },
  {
   "cell_type": "code",
   "execution_count": 26,
   "metadata": {},
   "outputs": [],
   "source": [
    "offset = 10 # offset of block on right side of fault\n",
    "f = lambda x : m*x + c\n",
    "\n",
    "# Create filters to determine points on each side of fault\n",
    "filter_l1 = f(l1_pts_x) < l1_pts_y\n",
    "filter_l2 = f(l2_pts_x) < l2_pts_y\n",
    "filter_l3 = f(l3_pts_x) < l3_pts_y\n",
    "\n",
    "# create copies of arrays to avoid confusion...\n",
    "l1_pts_x_fault = l1_pts_x.copy()\n",
    "l1_pts_y_fault = l1_pts_y.copy()\n",
    "l2_pts_x_fault = l2_pts_x.copy()\n",
    "l2_pts_y_fault = l2_pts_y.copy()\n",
    "l3_pts_x_fault = l3_pts_x.copy()\n",
    "l3_pts_y_fault = l3_pts_y.copy()\n",
    "\n",
    "# Adjust y-values\n",
    "l1_pts_y_fault[filter_l1] -= offset\n",
    "l2_pts_y_fault[filter_l2] -= offset\n",
    "l3_pts_y_fault[filter_l3] -= offset\n",
    "# Adjust x-values\n",
    "l1_pts_x_fault[filter_l1] -= 1/m*offset\n",
    "l2_pts_x_fault[filter_l2] -= 1/m*offset\n",
    "l3_pts_x_fault[filter_l3] -= 1/m*offset"
   ]
  },
  {
   "cell_type": "markdown",
   "metadata": {},
   "source": [
    "## Adding noise\n",
    "\n",
    "Of course, all of the previous examples are just too perfect to be realistic geological observations - let's add some noise to test the sensitivity of the algorithms:\n",
    "\n",
    "*Note: we only add noise to the y-component*"
   ]
  },
  {
   "cell_type": "code",
   "execution_count": 27,
   "metadata": {},
   "outputs": [],
   "source": [
    "y = np.load(\"pts_line_model_y.npy\")"
   ]
  },
  {
   "cell_type": "code",
   "execution_count": 31,
   "metadata": {},
   "outputs": [],
   "source": [
    "y += np.random.normal(0, 2, len(y))"
   ]
  },
  {
   "cell_type": "code",
   "execution_count": 32,
   "metadata": {},
   "outputs": [],
   "source": [
    "np.save(\"pts_line_model_y_noise\", y)"
   ]
  },
  {
   "cell_type": "code",
   "execution_count": null,
   "metadata": {},
   "outputs": [],
   "source": []
  },
  {
   "cell_type": "code",
   "execution_count": null,
   "metadata": {},
   "outputs": [],
   "source": []
  }
 ],
 "metadata": {
  "kernelspec": {
   "display_name": "Python 3",
   "language": "python",
   "name": "python3"
  },
  "language_info": {
   "codemirror_mode": {
    "name": "ipython",
    "version": 3
   },
   "file_extension": ".py",
   "mimetype": "text/x-python",
   "name": "python",
   "nbconvert_exporter": "python",
   "pygments_lexer": "ipython3",
   "version": "3.7.4"
  }
 },
 "nbformat": 4,
 "nbformat_minor": 2
}
