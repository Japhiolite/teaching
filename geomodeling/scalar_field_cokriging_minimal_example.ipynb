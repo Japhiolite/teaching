{
 "cells": [
  {
   "cell_type": "markdown",
   "metadata": {
    "hideCode": false,
    "hidePrompt": false
   },
   "source": [
    "# Minimal working example for cokringing of a scalar field for geological modeling\n",
    "\n",
    "The aim of this notebook is to explain in simple steps the scalar-field (or: potential-field) interpolation implemented in GemPy and GeoModeller, based on Lajaunie et al. (1997) and Calcagno et al. (2008).\n",
    "\n",
    "## Basic principle behind a scalar-field interpolation\n",
    "\n",
    "The method is based on a zonation principle, i.e. a segmentation of continuous space into discrete zones with similar properties (or other aspects of interest). Typical examples are the distinction of rock units with different lithological features (e.g. different types of sandstones, clay layers, magmatic sequences, etc), but also metamorphic sequences that can be distinguished. Quite generally, it is basically the same concept that is underlying the construction of geological map.\n",
    "\n",
    "The general idea behind this interpolation method is that geological structures exhibit a specific continuity. As a very basic first principle, we can consider the deposition of sedimentary sequences, for example in a marine environment: we may observe a sequence of more sand-dominated and more clay-dominated units. In a quiet and continuous sedimentation environment, we can assume that we have wide lateral continuity and a \"layer-by-layer\" deposition.\n",
    "\n",
    "In the context of geomodeling, we may attempt to describe now these sedimented zones by the interface surfaces between them. It is then obvious that these surfaces should not cross (considering no disturbance during sedimentation). Furthermore, we can assume that the layers show a specific influence on each other: to first order, they can be considered as parallel. And, maybe for a finer distinction, we can assume that a (topographic) variability of in one layer (for example a sea mound, to stay in our example) has a certain upward continuation and can potentially still be apparent (though to a lesser extent) on the next interface above.\n",
    "\n",
    "We can now take a more abstract view and assume that we do not only two or three interfaces, but more or less a continuous description of subsequent layers, representing a continuous sedimentation process and showing a similar continuous influence on each other, and the layer interfaces can not cross. \n",
    "\n",
    "With this intuition, we can describe these layer interfaces as isosurfaces in a scalar field. In our example, we can even interpret the scalar field values as related to a specific depositional age (note that this notion will not generally be possible - nor a requirement). Even further, we can interpret the gradient of this scalar field as orientation values, i.e. measurements of strike/ dip/ dip direction in a geological sequence.\n",
    "\n",
    "The question now is: how can we interpolate this scalar field from a set of limited observations of surface contact points and orientation measurements?\n",
    "\n",
    "## Notation and scalar field interpolation\n",
    "\n",
    "Multiple methods are possible to obtain this scalar field. A very common approach (mostly from the field of image segmentation, but also applied in geophysics) is to use a Level Set formulation (Chan & Vese?). Other previous approaches implemented Radial Basis Functions (RBF's, e.g. the implementation in LeapFrog, see also Hillier, 2014) and a stochastic time interpretation (? Mallet 2004 - the GoCAD implicit modeling approach). We use here a geostatistical method based on (universal) co-kriging, described in Lajaunie et al., 1997.\n",
    "\n",
    "We denote the 3-D surface in an *implicit* form (therefore also the name of these methods as \"implicit geomodeling\"), associated with a function $\\psi_\\alpha$ such that (Lajaunie et al., 1997):\n",
    "\n",
    "$$C_\\alpha = \\{x : \\psi_a(x) = 0 \\}$$\n",
    "\n",
    "\n",
    "We describe the scalar field that we aim to obtain as a function $T( \\vec{x} )$. \n",
    "\n",
    "Next, we denote $Z$ as a realization of the (differentiable) random function $\\psi$. We now use a kriging method to to estimate $Z$ in the entire domain of interest.\n",
    "\n",
    "Note: important basic principle: multivariate (co-)kriging, IRK-f model (Matheron!) CHECK!!\n",
    "\n",
    "However, co-kriging is not \"standard\" form, as variables are algebraically linked!\n",
    "\n",
    "More notation:\n",
    "\n",
    "Gradient data:\n",
    "\n",
    "$$\\frac{\\partial Z}{\\partial x} (x_i) = G_i^x$$\n",
    "\n",
    "$$\\frac{\\partial Z}{\\partial y} (x_i) = G_i^y$$\n",
    "\n",
    "Tangent vector $\\tau_i$ is defined through a scalar product:\n",
    "\n",
    "$$ <\\nabla Z(x_i), \\tau_i > = 0$$\n",
    "\n",
    "Points on a single interface belong to a single set $J_k$, $k$ is the index of the interface.\n",
    "\n",
    "Increments for points on a single interface, the increments must be zero:\n",
    "\n",
    "$$Z(x_j) - Z(x_{j'}) = 0 \\;\\;\\forall (j,j') \\in J_k$$\n",
    "\n",
    "\n",
    "### The spatial model\n",
    "\n",
    "As we only consider increments, we can only obtain a (unique) solution when we fix/ select an arbitrary origin $x_0$ and we estimate increments with respect to this origin:\n",
    "\n",
    "$$Z(x) - Z(x_0) = \\sum_{i \\in I} \\left( \\lambda_i G_i^x + \\mu_i G_i^y  \\right) + \\sum_{i' + I'} <\\nabla Z(x_{i'}), \\tau_{i'} > + \\sum_k \\sum_{jj' \\in \\mathcal{P}(J_k)} \\lambda_{jj'}[Z(x_j) - Z(x_{j'})] $$ \n",
    "\n",
    "\n",
    "$\\mathcal{P}(J_k)$ is the set of pairs associated with one interface $J_k$.\n",
    "\n",
    "We now have to set up the kriging equation to solve for the parameters/ coefficients $\\lambda_i, \\mu_i, \\lambda_{jj'}$ in order to obtain an (explicit?) equation that we can use to determine the potential field value at any point in space."
   ]
  },
  {
   "cell_type": "markdown",
   "metadata": {
    "hideCode": false,
    "hidePrompt": false
   },
   "source": [
    "### Covariance functions\n",
    "\n",
    "The situation is (a \"bit\") complicated by the fact that we have to consider all covariances and cross-covariances of each function involved.\n",
    "\n",
    "\n",
    "(Side note/ Idea/ Check: can the same form of co-kriging be used in the context of posterior-space estimation/ reduced order modeling, etc. - i.e. all the cases where kriging is used, also ML? Because: we could estimate the gradient quite easily using AD-methods and the approach could lead to a more robust estimate? )\n",
    "\n",
    "For simplicity in the description, we consider an isotropic covariance field. We follow the description in Lajaunie et al. (1997) and denote the covariance of $Z$ as $K_Z$. Furthermore, a vector connecting two points in space is:\n",
    "\n",
    "$$\\vec{h} = \\vec{x} - \\vec{y}$$\n",
    "\n",
    "And the components of this vector in $x$- and $y$-direction respectively are $h_x$ and $h_y$. The base covariance function is:\n",
    "\n",
    "$$K_Z(\\vec{h}) = C_Z(r)$$\n",
    "\n",
    "In order for $Z$ to be differentiable, $K_Z$ must be twice differentiable. Under these conditions (??), the covariances are:\n",
    "\n",
    "$$K_{ZG^x}(\\vec{x} - \\vec{y})= Cov(Z(x),Z_x'(y)) = - \\frac{h_x}{r} C_Z'(r)$$\n",
    "\n",
    "Similar:\n",
    "\n",
    "$$K_{G^x G^y}((\\vec{x} - \\vec{y})$$\n",
    "\n",
    "$$K_{G^x}((\\vec{x} - \\vec{y})$$\n",
    "\n",
    "As a first test, we use the covariance functions defined in Lajaunie et al. for the Gaussian model (pg. 578):\n",
    "\n",
    "If\n",
    "\n",
    "$$C(r) = \\exp{-(r/a)^2}$$\n",
    "then:\n",
    "\n",
    "$$K_{ZG^x}(\\vec{h}) = -2 \\frac{h_x}{a^2} C(r)$$\n",
    "\n",
    "$$K_{G^x}(\\vec{h}) = \\left(\\frac{2}{a^2} - 4 \\frac{x^2}{a^4}  \\right) C(r)$$\n",
    "\n",
    "$$K_{G^x G^y}(\\vec{h}) = -4 \\frac{h_x h_y}{a^4} C(r)$$\n",
    "\n",
    "where $\\vec{h} = \\vec{x} - \\vec{y}$, $r = |\\vec{h}|$ and $h_x$ the component of $\\vec{h}$ in $x$-direction, etc.\n",
    "\n",
    "<div class=\"alert alert-info\">\n",
    "  <strong>To do (Miguel?):</strong> Include better covariance function (spline?).\n",
    "</div>"
   ]
  },
  {
   "cell_type": "code",
   "execution_count": 1,
   "metadata": {
    "hideCode": false,
    "hidePrompt": false
   },
   "outputs": [],
   "source": [
    "import numpy as np\n",
    "import matplotlib.pyplot as plt\n",
    "%matplotlib inline"
   ]
  },
  {
   "cell_type": "code",
   "execution_count": 2,
   "metadata": {
    "hideCode": false,
    "hidePrompt": false
   },
   "outputs": [],
   "source": [
    "# define covariance functions (note: no nugget effect so far...):\n",
    "\n",
    "def K_Z(h, a=5.):\n",
    "    r = np.sqrt(h[0]**2 + h[1]**2)\n",
    "    return np.exp(-(r/a)**2)\n",
    "                  \n",
    "# cross-cov space-grad\n",
    "def K_ZGx(h, a=5.):\n",
    "    \"\"\"Note: requires the vector h!\"\"\"\n",
    "    r = np.sqrt(h[0]**2 + h[1]**2)\n",
    "    hx = h[0]\n",
    "    return -2 * hx/a**2 * K_Z(h,a) \n",
    "\n",
    "def K_ZGy(h, a=5.):\n",
    "    \"\"\"Note: requires the vector h!\"\"\"\n",
    "    r = np.sqrt(h[0]**2 + h[1]**2)\n",
    "    hy = h[1]    \n",
    "    return -2 * hy/a**2 * K_Z(h,a) \n",
    "\n",
    "# cov grad\n",
    "def K_Gx(h, a=5.):\n",
    "    \"\"\"Note: requires the vector h!\"\"\"\n",
    "    r = np.sqrt(h[0]**2 + h[1]**2)\n",
    "    hx = h[0]\n",
    "    return (2/a**2 - 4 * hx**2/a**4) * K_Z(h,a)\n",
    "\n",
    "def K_Gy(h, a=5.):\n",
    "    \"\"\"Note: requires the vector h!\"\"\"\n",
    "    r = np.sqrt(h[0]**2 + h[1]**2)\n",
    "    hy = h[1]\n",
    "    return (2/a**2 - 4 * hy**2/a**4) * K_Z(h,a)\n",
    "\n",
    "# cross-cov grad\n",
    "def K_GxGy(h, a=5.):\n",
    "    \"\"\"Note: requires the vector h!\"\"\"\n",
    "    r = np.sqrt(h[0]**2 + h[1]**2)\n",
    "    hx = h[0]\n",
    "    hy = h[1]\n",
    "    return -4 * hx * hy /a**4 * K_Z(h,a)\n",
    "\n",
    "           \n",
    "        \n",
    "\n"
   ]
  },
  {
   "cell_type": "code",
   "execution_count": 3,
   "metadata": {
    "hideCode": false,
    "hidePrompt": false
   },
   "outputs": [
    {
     "data": {
      "image/png": "[encoded data removed]",
      "text/plain": [
       "<matplotlib.figure.Figure at 0x7f4fa60194a8>"
      ]
     },
     "metadata": {},
     "output_type": "display_data"
    }
   ],
   "source": [
    "rs = np.arange(0.01,3,0.01)\n",
    "hs = np.vstack([-rs, rs]).transpose()\n",
    "# determine h-vectors:\n",
    "v1 = [K_Z(h) for h in hs]\n",
    "# for h vector: use 45 degrees/ [1,1]-direction with increasing distance\n",
    "plt.plot(rs, v1, label='K_Z')\n",
    "v2 = [K_ZGx(h) for h in hs]\n",
    "plt.plot(rs, v2, label='K_ZGx')\n",
    "# plt.plot(rs, K_ZGy(rs))\n",
    "plt.plot(rs, [K_Gx(h) for h in hs], label='K_Gx')\n",
    "plt.plot(rs, [K_GxGy(h) for h in hs], label='K_GxGy')\n",
    "plt.legend(loc='lower right')\n",
    "plt.show()"
   ]
  },
  {
   "cell_type": "markdown",
   "metadata": {
    "hideCode": false,
    "hidePrompt": false
   },
   "source": [
    "### Universality conditions\n",
    "\n",
    "\n",
    "(Miguel?)"
   ]
  },
  {
   "cell_type": "markdown",
   "metadata": {
    "hideCode": false,
    "hidePrompt": false
   },
   "source": [
    "### Dual form\n",
    "\n",
    "Under the above conditions, we can actually write the kriging equations in the dual form and finally obtain the estimator:\n",
    "\n"
   ]
  },
  {
   "cell_type": "code",
   "execution_count": 4,
   "metadata": {
    "hideCode": false,
    "hidePrompt": false
   },
   "outputs": [],
   "source": []
  },
  {
   "cell_type": "markdown",
   "metadata": {
    "collapsed": true,
    "hideCode": false,
    "hidePrompt": false
   },
   "source": [
    "## Simple example: 4 points, one gradient\n",
    "\n",
    "We first start with a very simple example: twi interfaces iwth two points each, and one common gradient.\n",
    "\n",
    "<div class=\"alert alert-info\">\n",
    "  <strong>To do:</strong> Include sketch of points and gradient.\n",
    "</div>"
   ]
  },
  {
   "cell_type": "code",
   "execution_count": 4,
   "metadata": {
    "hideCode": false,
    "hidePrompt": false
   },
   "outputs": [],
   "source": [
    "# interface points:\n",
    "# interface 1:\n",
    "x1 = [1,1]\n",
    "x2 = [4,1]\n",
    "x_int1 = np.vstack([x1,x2])\n",
    "# interface 2:\n",
    "x3 = [1,3]\n",
    "x4 = [4,3]\n",
    "x_int2 = np.vstack([x3,x4])\n",
    "# orientation point:\n",
    "x5 = [2.5,2]\n",
    "x = np.vstack([x1, x2, x3, x4, x5])\n",
    "# orientation values\n",
    "gx5 = 0.\n",
    "gy5 = 1"
   ]
  },
  {
   "cell_type": "code",
   "execution_count": 5,
   "metadata": {
    "hideCode": false,
    "hidePrompt": false
   },
   "outputs": [
    {
     "data": {
      "text/plain": [
       "[<matplotlib.lines.Line2D at 0x7f4fa5ce4cf8>]"
      ]
     },
     "execution_count": 5,
     "metadata": {},
     "output_type": "execute_result"
    },
    {
     "data": {
      "image/png": "[encoded data removed]",
      "text/plain": [
       "<matplotlib.figure.Figure at 0x7f4fa601fbe0>"
      ]
     },
     "metadata": {},
     "output_type": "display_data"
    }
   ],
   "source": [
    "plt.plot(x_int1[:,0], x_int1[:,1], 'ro')\n",
    "plt.plot(x_int2[:,0], x_int2[:,1], 'bo')\n",
    "plt.plot(x5[0], x5[1], 'go')"
   ]
  },
  {
   "cell_type": "markdown",
   "metadata": {
    "hideCode": false,
    "hidePrompt": false
   },
   "source": [
    "### Calculate distance matrix\n",
    "\n",
    "(Note: not required anymore for this implementation - as h-vectors used...)\n"
   ]
  },
  {
   "cell_type": "code",
   "execution_count": 6,
   "metadata": {},
   "outputs": [],
   "source": [
    "import scipy.spatial.distance as dist\n"
   ]
  },
  {
   "cell_type": "code",
   "execution_count": 10,
   "metadata": {},
   "outputs": [],
   "source": [
    "d = dist.squareform(dist.pdist(x))"
   ]
  },
  {
   "cell_type": "code",
   "execution_count": 11,
   "metadata": {},
   "outputs": [
    {
     "data": {
      "text/plain": [
       "(3.0, 3.0)"
      ]
     },
     "execution_count": 11,
     "metadata": {},
     "output_type": "execute_result"
    }
   ],
   "source": [
    "d[1,0], d[0,1]"
   ]
  },
  {
   "cell_type": "code",
   "execution_count": 12,
   "metadata": {},
   "outputs": [
    {
     "data": {
      "text/plain": [
       "(array([[ 1.,  1.],\n        [ 4.,  1.]]), array([ 3.,  0.]))"
      ]
     },
     "execution_count": 12,
     "metadata": {},
     "output_type": "execute_result"
    }
   ],
   "source": [
    "x[:2], x[1] - x[0]"
   ]
  },
  {
   "cell_type": "markdown",
   "metadata": {},
   "source": [
    "### Set up K matrix\n",
    "\n",
    "We follow the K-matrix setup described in the Appendix of Lajaunie et al. (pg. 584):\n",
    "\n",
    "Note: we have to use the spacing vector $\\vec{h}$ instead of simply the (radial) distance $r$ in order to get correctly calculated covariance values:"
   ]
  },
  {
   "cell_type": "code",
   "execution_count": 13,
   "metadata": {},
   "outputs": [],
   "source": [
    "# Previous implementation:\n",
    "# K = np.array([[K_Gx(d[4,4]), K_GxGy(d[4,4]), K_ZGx(d[4,0])-K_ZGx(d[4,1]), K_ZGx(d[4,2])-K_ZGx(d[4,3])],\n",
    "#               [K_GxGy(d[4,4]), K_Gy(d[4,4]), K_ZGy(d[4,0])-K_ZGy(d[4,1]), K_ZGy(d[4,2])-K_ZGy(d[4,3])],\n",
    "#               [K_ZGx(d[0,4])-K_ZGx(d[1,4]), K_Gy(d[0,4])-K_ZGy(d[1,4]), K_Z(d[0,0])-K_Z(d[0,1])-K_Z(d[1,0])+K_Z(d[1,1]), K_Z(d[0,2])-K_Z(d[0,3])-K_Z(d[1,2])+K_Z(d[1,3])],\n",
    "#               [K_ZGx(d[0,4])-K_ZGx(d[1,4]), K_Gy(d[0,4])-K_ZGy(d[1,4]), K_Z(d[0,0])-K_Z(d[0,1])-K_Z(d[1,0])+K_Z(d[1,1]), K_Z(d[0,2])-K_Z(d[0,3])-K_Z(d[1,2])+K_Z(d[1,3])]])\n",
    "\n",
    "K = np.array([[K_Gx(x[4]-x[4]), K_GxGy(x[4]-x[4]), K_ZGx(x[4]-x[0])-K_ZGx(x[4]-x[1]), K_ZGx(x[4]-x[2])-K_ZGx(x[4]-x[3])],\n",
    "              [K_GxGy(x[4]-x[4]), K_Gy(x[4]-x[4]), K_ZGy(x[4]-x[0])-K_ZGy(x[4]-x[1]), K_ZGy(x[4]-x[2])-K_ZGy(x[4]-x[3])],\n",
    "              [K_ZGx(x[0]-x[4])-K_ZGx(x[1]-x[4]), K_ZGy(x[0]-x[4])-K_ZGy(x[1]-x[4]), K_Z(x[0]-x[0])-K_Z(x[0]-x[1])-K_Z(x[1]-x[0])+K_Z(x[1]-x[1]), K_Z(x[0]-x[2])-K_Z(x[0]-x[3])-K_Z(x[1]-x[2])+K_Z(x[1]-x[3])],\n",
    "              [K_ZGx(x[2]-x[4])-K_ZGx(x[3]-x[4]), K_ZGy(x[2]-x[4])-K_ZGy(x[3]-x[4]), K_Z(x[2]-x[0])-K_Z(x[2]-x[1])-K_Z(x[3]-x[0])+K_Z(x[3]-x[1]), K_Z(x[2]-x[2])-K_Z(x[2]-x[3])-K_Z(x[3]-x[2])+K_Z(x[3]-x[3])]])"
   ]
  },
  {
   "cell_type": "code",
   "execution_count": 14,
   "metadata": {},
   "outputs": [],
   "source": []
  },
  {
   "cell_type": "code",
   "execution_count": 14,
   "metadata": {},
   "outputs": [
    {
     "data": {
      "text/plain": [
       "14.873043831331712"
      ]
     },
     "execution_count": 14,
     "metadata": {},
     "output_type": "execute_result"
    }
   ],
   "source": [
    "np.linalg.cond(K)"
   ]
  },
  {
   "cell_type": "code",
   "execution_count": 15,
   "metadata": {},
   "outputs": [
    {
     "data": {
      "text/plain": [
       "array([[  6.276846  ,   0.        ,   1.18118407,   1.18118407],\n       [  0.        ,  12.5       ,   0.        ,   0.        ],\n       [ -1.18118407,  -0.        ,   5.81698132,  -5.36859267],\n       [ -1.18118407,   0.        ,  -5.36859267,   5.81698132]])"
      ]
     },
     "execution_count": 15,
     "metadata": {},
     "output_type": "execute_result"
    }
   ],
   "source": [
    "np.linalg.inv(K)"
   ]
  },
  {
   "cell_type": "markdown",
   "metadata": {},
   "source": [
    "Ok, this first step looks reasonable now. Theoretically, we could now solve the kriging system without the universality conditions:"
   ]
  },
  {
   "cell_type": "code",
   "execution_count": 16,
   "metadata": {},
   "outputs": [],
   "source": [
    "# setting up the RHS - only gradient in x,y directions:\n",
    "b  = [gx5,gy5,0,0]"
   ]
  },
  {
   "cell_type": "code",
   "execution_count": 17,
   "metadata": {},
   "outputs": [
    {
     "name": "stdout",
     "output_type": "stream",
     "text": [
      "[  0.   12.5  -0.    0. ]\n"
     ]
    }
   ],
   "source": [
    "w = np.linalg.solve(K, b)\n",
    "print(w)"
   ]
  },
  {
   "cell_type": "markdown",
   "metadata": {},
   "source": [
    "Ok, weights are large - let's see what we actually interpolate - in writing the interpolator function (1) without a drift term:\n",
    "\n",
    "$$Z(x_\\alpha)^K = a_5 K_{ZG^x}^{\\alpha 5} + b_5 K_{ZG^y}^{\\alpha 5} + c_{12}(K_Z^{\\alpha 1} - K_Z^{\\alpha 2})\n",
    "+ c_{34}(K_Z^{\\alpha 3} - K_Z^{\\alpha 4})$$"
   ]
  },
  {
   "cell_type": "code",
   "execution_count": 18,
   "metadata": {},
   "outputs": [],
   "source": [
    "def interp_val(xa, w, x):\n",
    "    \"\"\"Determine interpolation for scalar field value (without drift)\n",
    "    \n",
    "    Parameters:\n",
    "    xa = [x,y]: x-vector to point of estimation\n",
    "    w = [a,b,c1,c2]: estimnated weights\n",
    "    x = (n,2)-vector of known value positions\n",
    "    \"\"\"\n",
    "    return w[0]*K_ZGx(xa - x[4]) + \\\n",
    "            w[1]*K_ZGy(xa - x[4]) + \\\n",
    "            w[2]*(K_Z(xa-x[0])-K_Z(xa-x[1])) + \\\n",
    "            w[3]*(K_Z(xa-x[2])-K_Z(xa-x[3]))\n",
    "        "
   ]
  },
  {
   "cell_type": "code",
   "execution_count": 19,
   "metadata": {},
   "outputs": [
    {
     "data": {
      "text/plain": [
       "-0.95122942450071402"
      ]
     },
     "execution_count": 19,
     "metadata": {},
     "output_type": "execute_result"
    }
   ],
   "source": [
    "interp_val([2,3], w, x)"
   ]
  },
  {
   "cell_type": "markdown",
   "metadata": {},
   "source": [
    "And in a map-view:"
   ]
  },
  {
   "cell_type": "code",
   "execution_count": 20,
   "metadata": {},
   "outputs": [],
   "source": [
    "# create points:\n",
    "xx = np.arange(0,5,0.1)\n",
    "yy = np.arange(0,5,0.1)\n",
    "XX,YY = np.meshgrid(xx,yy)"
   ]
  },
  {
   "cell_type": "code",
   "execution_count": 21,
   "metadata": {},
   "outputs": [],
   "source": [
    "scalar_field_no_drift = np.empty((len(xx), len(yy)))\n",
    "for i,xxx in enumerate(xx):\n",
    "    for j,yyy in enumerate(yy):\n",
    "        scalar_field_no_drift[i,j] = interp_val([xxx,yyy], w, x)"
   ]
  },
  {
   "cell_type": "code",
   "execution_count": 22,
   "metadata": {},
   "outputs": [
    {
     "data": {
      "text/plain": [
       "[<matplotlib.lines.Line2D at 0x7f4fa410fe48>]"
      ]
     },
     "execution_count": 22,
     "metadata": {},
     "output_type": "execute_result"
    },
    {
     "data": {
      "image/png": "[encoded data removed]",
      "text/plain": [
       "<matplotlib.figure.Figure at 0x7f4fa41f1390>"
      ]
     },
     "metadata": {},
     "output_type": "display_data"
    }
   ],
   "source": [
    "plt.contour(XX, YY, scalar_field_no_drift.T, 20)\n",
    "plt.colorbar()\n",
    "plt.plot(x_int1[:,0], x_int1[:,1], 'ro')\n",
    "plt.plot(x_int2[:,0], x_int2[:,1], 'bo')\n",
    "plt.plot(x5[0], x5[1], 'go')"
   ]
  },
  {
   "cell_type": "markdown",
   "metadata": {},
   "source": [
    "\n",
    "<div class=\"alert alert-danger\">\n",
    "  <strong>Check:</strong> The result obviously does not make sense... is this because of the missing drift or is it a problem in the implementation?\n",
    "</div>\n",
    "\n"
   ]
  },
  {
   "cell_type": "markdown",
   "metadata": {},
   "source": [
    "## Adding universal kriging terms\n",
    "\n",
    "We now add the universal kriging terms in order to obtain a meaningful drift/ variability in the interpolated scalar field. How these additional terms are included is not so directly obvious from Lajaunie et al., but the description in the appendix for a second-order drift provides some insight.\n",
    "\n",
    "\n",
    "<div class=\"alert alert-info\">\n",
    "  <strong>To do:</strong> Include more information - and reference to gempy paper?\n",
    "</div>\n",
    "\n",
    "### Set up F-matrix"
   ]
  },
  {
   "cell_type": "code",
   "execution_count": 284,
   "metadata": {},
   "outputs": [],
   "source": [
    "F = np.array([[1, 0, x_all[0,0]-x_all[1,0], x_all[2,0]-x_all[3,0]],\n",
    "              [0, 1, x_all[0,1]-x_all[1,1], x_all[2,1]-x_all[3,1]],\n",
    "              [2*x_all[4,0], 0, x_all[0,0]**2-x_all[1,0]**2, x_all[2,0]**2-x_all[3,0]**2],\n",
    "              [0, 2*x_all[4,1], x_all[0,1]**2-x_all[1,1]**2, x_all[2,1]**2-x_all[3,1]**2],\n",
    "              [x_all[4,1], x_all[4,0], x_all[0,0]*x_all[0,1]-x_all[1,0]*x_all[1,1], x_all[2,0]*x_all[2,1]-x_all[3,0]*x_all[3,1]]])"
   ]
  },
  {
   "cell_type": "code",
   "execution_count": 285,
   "metadata": {},
   "outputs": [
    {
     "data": {
      "text/plain": [
       "array([[  1,   0,  -3,  -3],\n",
       "       [  0,   1,   0,   0],\n",
       "       [  2,   0, -15, -15],\n",
       "       [  0,   4,   0,   0],\n",
       "       [  2,   1,  -3,  -9]])"
      ]
     },
     "execution_count": 285,
     "metadata": {},
     "output_type": "execute_result"
    }
   ],
   "source": [
    "F"
   ]
  },
  {
   "cell_type": "markdown",
   "metadata": {},
   "source": [
    "### Combine in full matrix"
   ]
  },
  {
   "cell_type": "code",
   "execution_count": 286,
   "metadata": {},
   "outputs": [],
   "source": [
    "A = np.hstack([K, F.transpose()])\n",
    "B = np.hstack([F, np.zeros((5,5))])\n",
    "krig_full = np.vstack([A,B])"
   ]
  },
  {
   "cell_type": "code",
   "execution_count": 287,
   "metadata": {},
   "outputs": [
    {
     "data": {
      "text/plain": [
       "(array([[  8.00000000e-02,  -0.00000000e+00,  -2.10742903e-01,\n",
       "          -2.10742903e-01,   1.00000000e+00,   0.00000000e+00,\n",
       "           2.00000000e+00,   0.00000000e+00,   2.00000000e+00],\n",
       "        [ -0.00000000e+00,   8.00000000e-02,   0.00000000e+00,\n",
       "           0.00000000e+00,   0.00000000e+00,   1.00000000e+00,\n",
       "           0.00000000e+00,   4.00000000e+00,   1.00000000e+00],\n",
       "        [  2.10742903e-01,  -5.61981076e-03,   6.04647348e-01,\n",
       "           5.15246482e-01,  -3.00000000e+00,   0.00000000e+00,\n",
       "          -1.50000000e+01,   0.00000000e+00,  -3.00000000e+00],\n",
       "        [  2.10742903e-01,   1.34875458e-01,   5.15246482e-01,\n",
       "           6.04647348e-01,  -3.00000000e+00,   0.00000000e+00,\n",
       "          -1.50000000e+01,   0.00000000e+00,  -9.00000000e+00],\n",
       "        [  1.00000000e+00,   0.00000000e+00,  -3.00000000e+00,\n",
       "          -3.00000000e+00,   0.00000000e+00,   0.00000000e+00,\n",
       "           0.00000000e+00,   0.00000000e+00,   0.00000000e+00],\n",
       "        [  0.00000000e+00,   1.00000000e+00,   0.00000000e+00,\n",
       "           0.00000000e+00,   0.00000000e+00,   0.00000000e+00,\n",
       "           0.00000000e+00,   0.00000000e+00,   0.00000000e+00],\n",
       "        [  2.00000000e+00,   0.00000000e+00,  -1.50000000e+01,\n",
       "          -1.50000000e+01,   0.00000000e+00,   0.00000000e+00,\n",
       "           0.00000000e+00,   0.00000000e+00,   0.00000000e+00],\n",
       "        [  0.00000000e+00,   4.00000000e+00,   0.00000000e+00,\n",
       "           0.00000000e+00,   0.00000000e+00,   0.00000000e+00,\n",
       "           0.00000000e+00,   0.00000000e+00,   0.00000000e+00],\n",
       "        [  2.00000000e+00,   1.00000000e+00,  -3.00000000e+00,\n",
       "          -9.00000000e+00,   0.00000000e+00,   0.00000000e+00,\n",
       "           0.00000000e+00,   0.00000000e+00,   0.00000000e+00]]), (9, 9))"
      ]
     },
     "execution_count": 287,
     "metadata": {},
     "output_type": "execute_result"
    }
   ],
   "source": [
    "krig_full, krig_full.shape"
   ]
  },
  {
   "cell_type": "markdown",
   "metadata": {},
   "source": [
    "### Set up b-vector (RHS)"
   ]
  },
  {
   "cell_type": "code",
   "execution_count": 288,
   "metadata": {},
   "outputs": [],
   "source": [
    "b = np.zeros(9)\n",
    "b[0] = gx5\n",
    "b[1] = gy5"
   ]
  },
  {
   "cell_type": "code",
   "execution_count": 289,
   "metadata": {},
   "outputs": [
    {
     "data": {
      "text/plain": [
       "array([ 0.,  1.,  0.,  0.,  0.,  0.,  0.,  0.,  0.])"
      ]
     },
     "execution_count": 289,
     "metadata": {},
     "output_type": "execute_result"
    }
   ],
   "source": [
    "b"
   ]
  },
  {
   "cell_type": "markdown",
   "metadata": {},
   "source": [
    "### Solve system of algebraic equations"
   ]
  },
  {
   "cell_type": "code",
   "execution_count": 290,
   "metadata": {},
   "outputs": [
    {
     "ename": "LinAlgError",
     "evalue": "Singular matrix",
     "traceback": [
      "\u001b[0;31m---------------------------------------------------------------------------\u001b[0m",
      "\u001b[0;31mLinAlgError\u001b[0m                               Traceback (most recent call last)",
      "\u001b[0;32m<ipython-input-290-1a3ec6f38191>\u001b[0m in \u001b[0;36m<module>\u001b[0;34m()\u001b[0m\n\u001b[0;32m----> 1\u001b[0;31m \u001b[0mnp\u001b[0m\u001b[0;34m.\u001b[0m\u001b[0mlinalg\u001b[0m\u001b[0;34m.\u001b[0m\u001b[0msolve\u001b[0m\u001b[0;34m(\u001b[0m\u001b[0mkrig_full\u001b[0m\u001b[0;34m,\u001b[0m \u001b[0mb\u001b[0m\u001b[0;34m)\u001b[0m\u001b[0;34m\u001b[0m\u001b[0m\n\u001b[0m",
      "\u001b[0;32m/Users/flow/anaconda3/lib/python3.6/site-packages/numpy/linalg/linalg.py\u001b[0m in \u001b[0;36msolve\u001b[0;34m(a, b)\u001b[0m\n\u001b[1;32m    382\u001b[0m     \u001b[0msignature\u001b[0m \u001b[0;34m=\u001b[0m \u001b[0;34m'DD->D'\u001b[0m \u001b[0;32mif\u001b[0m \u001b[0misComplexType\u001b[0m\u001b[0;34m(\u001b[0m\u001b[0mt\u001b[0m\u001b[0;34m)\u001b[0m \u001b[0;32melse\u001b[0m \u001b[0;34m'dd->d'\u001b[0m\u001b[0;34m\u001b[0m\u001b[0m\n\u001b[1;32m    383\u001b[0m     \u001b[0mextobj\u001b[0m \u001b[0;34m=\u001b[0m \u001b[0mget_linalg_error_extobj\u001b[0m\u001b[0;34m(\u001b[0m\u001b[0m_raise_linalgerror_singular\u001b[0m\u001b[0;34m)\u001b[0m\u001b[0;34m\u001b[0m\u001b[0m\n\u001b[0;32m--> 384\u001b[0;31m     \u001b[0mr\u001b[0m \u001b[0;34m=\u001b[0m \u001b[0mgufunc\u001b[0m\u001b[0;34m(\u001b[0m\u001b[0ma\u001b[0m\u001b[0;34m,\u001b[0m \u001b[0mb\u001b[0m\u001b[0;34m,\u001b[0m \u001b[0msignature\u001b[0m\u001b[0;34m=\u001b[0m\u001b[0msignature\u001b[0m\u001b[0;34m,\u001b[0m \u001b[0mextobj\u001b[0m\u001b[0;34m=\u001b[0m\u001b[0mextobj\u001b[0m\u001b[0;34m)\u001b[0m\u001b[0;34m\u001b[0m\u001b[0m\n\u001b[0m\u001b[1;32m    385\u001b[0m \u001b[0;34m\u001b[0m\u001b[0m\n\u001b[1;32m    386\u001b[0m     \u001b[0;32mreturn\u001b[0m \u001b[0mwrap\u001b[0m\u001b[0;34m(\u001b[0m\u001b[0mr\u001b[0m\u001b[0;34m.\u001b[0m\u001b[0mastype\u001b[0m\u001b[0;34m(\u001b[0m\u001b[0mresult_t\u001b[0m\u001b[0;34m,\u001b[0m \u001b[0mcopy\u001b[0m\u001b[0;34m=\u001b[0m\u001b[0;32mFalse\u001b[0m\u001b[0;34m)\u001b[0m\u001b[0;34m)\u001b[0m\u001b[0;34m\u001b[0m\u001b[0m\n",
      "\u001b[0;32m/Users/flow/anaconda3/lib/python3.6/site-packages/numpy/linalg/linalg.py\u001b[0m in \u001b[0;36m_raise_linalgerror_singular\u001b[0;34m(err, flag)\u001b[0m\n\u001b[1;32m     88\u001b[0m \u001b[0;34m\u001b[0m\u001b[0m\n\u001b[1;32m     89\u001b[0m \u001b[0;32mdef\u001b[0m \u001b[0m_raise_linalgerror_singular\u001b[0m\u001b[0;34m(\u001b[0m\u001b[0merr\u001b[0m\u001b[0;34m,\u001b[0m \u001b[0mflag\u001b[0m\u001b[0;34m)\u001b[0m\u001b[0;34m:\u001b[0m\u001b[0;34m\u001b[0m\u001b[0m\n\u001b[0;32m---> 90\u001b[0;31m     \u001b[0;32mraise\u001b[0m \u001b[0mLinAlgError\u001b[0m\u001b[0;34m(\u001b[0m\u001b[0;34m\"Singular matrix\"\u001b[0m\u001b[0;34m)\u001b[0m\u001b[0;34m\u001b[0m\u001b[0m\n\u001b[0m\u001b[1;32m     91\u001b[0m \u001b[0;34m\u001b[0m\u001b[0m\n\u001b[1;32m     92\u001b[0m \u001b[0;32mdef\u001b[0m \u001b[0m_raise_linalgerror_nonposdef\u001b[0m\u001b[0;34m(\u001b[0m\u001b[0merr\u001b[0m\u001b[0;34m,\u001b[0m \u001b[0mflag\u001b[0m\u001b[0;34m)\u001b[0m\u001b[0;34m:\u001b[0m\u001b[0;34m\u001b[0m\u001b[0m\n",
      "\u001b[0;31mLinAlgError\u001b[0m: Singular matrix"
     ],
     "output_type": "error"
    }
   ],
   "source": [
    "np.linalg.solve(krig_full, b)"
   ]
  },
  {
   "cell_type": "markdown",
   "metadata": {},
   "source": [
    "Bam!"
   ]
  },
  {
   "cell_type": "code",
   "execution_count": 291,
   "metadata": {},
   "outputs": [
    {
     "data": {
      "text/plain": [
       "array([[  6.27684600e+00,  -1.90843389e+00,   1.18118407e+00,\n",
       "          1.18118407e+00],\n",
       "       [  3.57732979e-17,   1.25000000e+01,   1.40100329e-16,\n",
       "         -1.04713172e-15],\n",
       "       [ -1.18118407e+00,   9.45977163e+00,   5.81698132e+00,\n",
       "         -5.36859267e+00],\n",
       "       [ -1.18118407e+00,  -1.01842312e+01,  -5.36859267e+00,\n",
       "          5.81698132e+00]])"
      ]
     },
     "execution_count": 291,
     "metadata": {},
     "output_type": "execute_result"
    }
   ],
   "source": [
    "np.linalg.inv(K)"
   ]
  },
  {
   "cell_type": "code",
   "execution_count": 292,
   "metadata": {},
   "outputs": [
    {
     "data": {
      "text/plain": [
       "(9, 9)"
      ]
     },
     "execution_count": 292,
     "metadata": {},
     "output_type": "execute_result"
    }
   ],
   "source": [
    "krig_full.shape"
   ]
  },
  {
   "cell_type": "markdown",
   "metadata": {},
   "source": [
    "Why is the inversion failing? Problem with the setup of the universal part (I assume)? Or is the point configuration too similar?\n",
    "\n",
    "Approach: try pseudo-inverse instead:"
   ]
  },
  {
   "cell_type": "code",
   "execution_count": 293,
   "metadata": {},
   "outputs": [],
   "source": [
    "weights = np.dot(np.linalg.pinv(krig_full), b)"
   ]
  },
  {
   "cell_type": "code",
   "execution_count": 294,
   "metadata": {},
   "outputs": [
    {
     "data": {
      "text/plain": [
       "array([  2.29888259e-16,  -2.28541365e-16,  -1.75886712e-16,\n",
       "         2.79452049e-16,  -4.43553659e-16,   5.88235294e-02,\n",
       "        -7.97159647e-17,   2.35294118e-01,   8.31799907e-16])"
      ]
     },
     "execution_count": 294,
     "metadata": {},
     "output_type": "execute_result"
    }
   ],
   "source": [
    "weights"
   ]
  },
  {
   "cell_type": "markdown",
   "metadata": {},
   "source": [
    "Hmmm... some values are very small - no contribution from the gradients, especially... basically, only the drift values are considered?\n",
    "\n",
    "Let's see: interpolate!\n",
    "\n",
    "The weight vector now contains the parameters: $w = [a_5, b_5, c_{12}, c_{34}, d_1, d_2, d_3, d_4, d_5]$. \n",
    "\n",
    "In our example (at the moment), the solution seems to be completely determined by the drift value."
   ]
  },
  {
   "cell_type": "markdown",
   "metadata": {},
   "source": [
    "### Interpolate values\n",
    "\n",
    "Use equation (1) on page 577 from Lajaune et al.:\n",
    "\n",
    "$$Z(x_\\alpha)^K = a_5 K_{ZG^x}^{\\alpha 5} + b_5 K_{ZG^y}^{\\alpha 5} + c_{12}(K_Z^{\\alpha 1} - K_Z^{\\alpha 2})\n",
    "+ c_{34}(K_Z^{\\alpha 3} - K_Z^{\\alpha 4}) + d_1$$\n",
    "\n",
    "\n"
   ]
  },
  {
   "cell_type": "code",
   "execution_count": 110,
   "metadata": {},
   "outputs": [],
   "source": []
  },
  {
   "cell_type": "code",
   "execution_count": 111,
   "metadata": {},
   "outputs": [],
   "source": [
    "x_alpha = [2,2]\n"
   ]
  },
  {
   "cell_type": "code",
   "execution_count": 112,
   "metadata": {},
   "outputs": [
    {
     "data": {
      "text/plain": [
       "2.8803664415720419e-16"
      ]
     },
     "execution_count": 112,
     "metadata": {},
     "output_type": "execute_result"
    }
   ],
   "source": [
    "interp_val(x_alpha, weights, x_all)"
   ]
  },
  {
   "cell_type": "code",
   "execution_count": 108,
   "metadata": {},
   "outputs": [
    {
     "data": {
      "text/plain": [
       "(9,)"
      ]
     },
     "execution_count": 108,
     "metadata": {},
     "output_type": "execute_result"
    }
   ],
   "source": []
  },
  {
   "cell_type": "code",
   "execution_count": null,
   "metadata": {},
   "outputs": [],
   "source": []
  }
 ],
 "metadata": {
  "hide_code_all_hidden": false,
  "kernelspec": {
   "display_name": "Python 3",
   "language": "python",
   "name": "python3"
  }
 },
 "nbformat": 4,
 "nbformat_minor": 2
}
