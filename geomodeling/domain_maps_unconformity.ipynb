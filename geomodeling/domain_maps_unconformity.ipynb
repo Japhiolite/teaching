{
 "cells": [
  {
   "cell_type": "markdown",
   "metadata": {},
   "source": [
    "# Using a domain map to model an unconformity\n",
    "\n",
    "We discussed the aspect of combining different scalar fields, for example to model the effect of an unconformity (i.e. in cases where we can not model the geological setting anymore easily with a single continous scalar field).\n",
    "\n",
    "In these cases, we first generate a \"domain map\", i.e. a map which depicts which geological features exist in different regions of space. As a first example, we generate here a map of an unconformity and show how a joint feature field can be interpolated with a suitable combination of multiple separate scalar fields."
   ]
  },
  {
   "cell_type": "code",
   "execution_count": 15,
   "metadata": {},
   "outputs": [],
   "source": [
    "import numpy as np\n",
    "from scipy.interpolate import Rbf\n",
    "\n",
    "import matplotlib\n",
    "import matplotlib.pyplot as plt\n",
    "from matplotlib import cm\n",
    "\n",
    "# for least square solution to line\n",
    "from numpy.linalg import lstsq\n",
    "\n",
    "plt.rcParams['figure.figsize'] = (8., 6.)\n",
    "plt.rcParams['font.size'] = 16."
   ]
  },
  {
   "cell_type": "markdown",
   "metadata": {},
   "source": [
    "## Geological setting\n",
    "\n",
    "Let's assume that we have observations of interfaces for two simple \"layer stacks\":"
   ]
  },
  {
   "cell_type": "code",
   "execution_count": 31,
   "metadata": {},
   "outputs": [],
   "source": [
    "n_pts = 10 # Points per layer\n",
    "\n",
    "# lower stack:\n",
    "\n",
    "# Linear functions for line data\n",
    "l1 = lambda x : -0.4*x + 30\n",
    "l2 = lambda x : -0.4*x + 40\n",
    "l3 = lambda x : -0.4*x + 50\n",
    "\n",
    "# set seed for reproducibility\n",
    "np.random.seed(123)\n",
    "# sampling points\n",
    "l1_pts_x = np.random.uniform(0,100,n_pts)\n",
    "l1_pts_y = l1(l1_pts_x)\n",
    "l2_pts_x = np.random.uniform(20,100,n_pts)\n",
    "l2_pts_y = l2(l2_pts_x)\n",
    "l3_pts_x = np.random.uniform(40,100,n_pts)\n",
    "l3_pts_y = l3(l3_pts_x)\n",
    "\n",
    "# upper stack:\n",
    "# Linear functions for line data\n",
    "l4 = lambda x : 0.25*x + 30\n",
    "l5 = lambda x : 0.25*x + 40\n",
    "l6 = lambda x : 0.25*x + 50\n",
    "\n",
    "# set seed for reproducibility\n",
    "np.random.seed(123)\n",
    "# sampling points\n",
    "l4_pts_x = np.random.uniform(40,100,n_pts)\n",
    "l4_pts_y = l4(l4_pts_x)\n",
    "l5_pts_x = np.random.uniform(30,100,n_pts)\n",
    "l5_pts_y = l5(l5_pts_x)\n",
    "l6_pts_x = np.random.uniform(20,100,n_pts)\n",
    "l6_pts_y = l6(l6_pts_x)"
   ]
  },
  {
   "cell_type": "markdown",
   "metadata": {},
   "source": [
    "And a plot for visualization:"
   ]
  },
  {
   "cell_type": "code",
   "execution_count": 32,
   "metadata": {},
   "outputs": [
    {
     "data": {
      "text/plain": [
       "(0, 100)"
      ]
     },
     "execution_count": 32,
     "metadata": {},
     "output_type": "execute_result"
    },
    {
     "data": {
      "image/png": "[encoded data removed]",
      "text/plain": [
       "<Figure size 576x432 with 1 Axes>"
      ]
     },
     "metadata": {
      "needs_background": "light"
     },
     "output_type": "display_data"
    }
   ],
   "source": [
    "plt.plot(l1_pts_x, l1_pts_y, 'o')\n",
    "plt.plot(l2_pts_x, l2_pts_y, 'o')\n",
    "plt.plot(l3_pts_x, l3_pts_y, 'o')\n",
    "plt.plot(l4_pts_x, l4_pts_y, 'o')\n",
    "plt.plot(l5_pts_x, l5_pts_y, 'o')\n",
    "plt.plot(l6_pts_x, l6_pts_y, 'o')\n",
    "plt.xlim([0,100])"
   ]
  },
  {
   "cell_type": "markdown",
   "metadata": {},
   "source": [
    "First important questions:\n",
    "\n",
    "- what are the two basic options in which we can combine this data?\n",
    "- what would be the according geological interpretations?"
   ]
  },
  {
   "cell_type": "code",
   "execution_count": null,
   "metadata": {},
   "outputs": [],
   "source": []
  }
 ],
 "metadata": {
  "kernelspec": {
   "display_name": "Python 3",
   "language": "python",
   "name": "python3"
  },
  "language_info": {
   "codemirror_mode": {
    "name": "ipython",
    "version": 3
   },
   "file_extension": ".py",
   "mimetype": "text/x-python",
   "name": "python",
   "nbconvert_exporter": "python",
   "pygments_lexer": "ipython3",
   "version": "3.7.4"
  }
 },
 "nbformat": 4,
 "nbformat_minor": 2
}
