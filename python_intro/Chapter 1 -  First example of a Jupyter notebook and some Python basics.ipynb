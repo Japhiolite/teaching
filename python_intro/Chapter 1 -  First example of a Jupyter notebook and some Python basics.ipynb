{
 "cells": [
  {
   "cell_type": "markdown",
   "metadata": {},
   "source": [
    "# Chapter 1: First example of a Jupyter notebook and some Python basics\n",
    "\n",
    "Welcome to this Jupyter notebook. This is the programming \"environment\" we will use for this class and there is quite a lot to discover. This introduction is designed for students who have no experience with Jupyter notebooks and Python. But it might also contain some useful information for the more experienced users, so you should definitely take a look.\n",
    "\n",
    "**If you are new to all this - just read the text, follow the instructions and feel free to experiment!**\n",
    "\n",
    "For later reference, here a quick overview of the content of this notebook:\n",
    "\n",
    "* [General structure](#1)  \n",
    "* [Why Python](#2) \n",
    "* [First coding steps](#3) \n",
    "* [Datatypes in Python](#4) \n",
    "* [Built-in functions](#5) \n",
    "* [Magic functions](#6) \n",
    "* [Getting help](#7) \n",
    "* [Tab-completion](#8) \n",
    "* [Final thoughts](#9)\n",
    "* [References](#10) \n",
    "\n",
    "So let's have a look at a couple of features."
   ]
  },
  {
   "cell_type": "markdown",
   "metadata": {},
   "source": [
    "## General structure\n",
    "<a id=\"1\"></a>\n",
    "\n",
    "Let’s start talking about what a notebook contains:\n",
    "\n",
    "At the top of the notebook you can see the **<font color=black>user interface</font>**. Here you find all options and actions that we will talk about in a second. This is also where you can *save, rename and restart your notebook* (more on that also later).\n",
    "\n",
    "The main body of the notebook is divided into different **<font color=black>cells</font>**. <br>\n",
    "If you are working with a cell there are two different modes: If the cell is surrounded by a green border, you are in **<font color=green>edit mode</font>**, meaning you will be able to write and change things within the cell. If the cell is bordered with a blue line, you are in **<font color=blue>command mode</font>**, which allows you to edit the notebook in whole. You can switch between the two modes by pressing <kbd>ENTER</kbd> and<kbd>ESC</kbd> or by clicking inside or next to the cell. \n",
    "\n",
    "While edit mode is the mode you are normally working in when coding (as you have to write the code obviously), command mode allows you to do some operations with handy hotkeys instead of using the user interface. For example, you can press <kbd>a</kbd> or <kbd>b</kbd> to add a new cell above or below.\n",
    "The most important hotkey combination you need to remember though is <kbd>SHIFT</kbd> + <kbd>ENTER</kbd> to execute a cell (works in both modes). Executing a cell means running the code inside it. \n",
    "\n",
    "Apart from cells that contain code there are also **markdown cells** containing text. So, this text you are just reading is in a markdown cell. When entering edit mode, you can see it in is original format. In the user interface you can select in a dropdown menu wether a cell should be code or markdown (and a couple of other options that are not too interesting for us now).\n",
    "\n",
    "The notebooks we are providing will always be a mix of Markdown cell describing theory or tasks and code cells containing examples or space for you to code.    \n",
    "\n",
    "For some more exhaustive information on Jupyter notebooks check out the following cheat sheet:<br>\n",
    "[**Jupyter Notebook Cheat Sheet**](https://www.edureka.co/blog/wp-content/uploads/2018/10/Jupyter_Notebook_CheatSheet_Edureka.pdf)\n",
    "\n",
    "\n",
    "\n",
    "Use the following cell to play around around a little - switch between edit and command mode, run the cell with <kbd>SHIFT</kbd> + <kbd>ENTER</kbd>, make it a markdown cell, add anew cell below and above and delete thise cells again (hotkey for deleting a cell si pressing <kbd>d</kbd> twice in command mode).\n"
   ]
  },
  {
   "cell_type": "code",
   "execution_count": null,
   "metadata": {},
   "outputs": [],
   "source": []
  },
  {
   "cell_type": "markdown",
   "metadata": {},
   "source": [
    "## Why Python\n",
    "<a id=\"2\"></a>\n",
    "\n",
    "In the top right corner of the notebook you can see which kernel is used - in this case this means what programming language we are using - **Python**. Here are some reasons why you should want to learn Python:\n",
    "\n",
    "<img src=\"https://www.ssdntech.com/blog/wp-content/uploads/2019/11/python-features.png\" width=700 height=700 />\n",
    "\n",
    "Maybe msot impotant for you right now - Python is easy to learn and free. A very important point for your future academic live though is the fifth point: Python offers a lot of support for scientific programming. Also there is an ever increasing community of geologists that use python and develop new methods for geoscientific problems. Maybe this short article offers some more motivation (and it's 8 years old, a lot has happened):\n",
    "\n",
    "* Lin, J. W.-B. (2012). [**Why Python Is the Next Wave in Earth Sciences Computing**](https://journals.ametsoc.org/doi/pdf/10.1175/BAMS-D-12-00148.1). *Bulletin of the American Meteorological Society*, 93(12), 1823–1824. doi:10.1175/BAMS-D-12-00148.1\n",
    "\n"
   ]
  },
  {
   "cell_type": "markdown",
   "metadata": {},
   "source": [
    "## First coding steps\n",
    "<a id=\"3\"></a>\n",
    "\n",
    "A lot of text so far, let's do some real coding: Just for completeness, here the most basic coding example off all time. Just run the following code cell."
   ]
  },
  {
   "cell_type": "code",
   "execution_count": null,
   "metadata": {},
   "outputs": [],
   "source": [
    "print('Hello Word')"
   ]
  },
  {
   "cell_type": "markdown",
   "metadata": {},
   "source": [
    "As you can hopefully see, running the cell creates an output. In Jupyter notebooks the output is shown directly below each cell. As a next step we define some variables: Variables are basically containers, that can hold a value in a specific datatype. As an example we will now define a variable named `a` that contains the number 2:"
   ]
  },
  {
   "cell_type": "code",
   "execution_count": null,
   "metadata": {},
   "outputs": [],
   "source": [
    "a = 2"
   ]
  },
  {
   "cell_type": "markdown",
   "metadata": {},
   "source": [
    "If you ran the cell above, the variable `a` is now stored. We can see its value by *calling* it again anywhere in our notebook:"
   ]
  },
  {
   "cell_type": "code",
   "execution_count": null,
   "metadata": {},
   "outputs": [],
   "source": [
    "a"
   ]
  },
  {
   "cell_type": "markdown",
   "metadata": {},
   "source": [
    "Just to get a feeling for what this means: If you now add a cell at the top of the notebook, type `a` and run it - the output will still be the same. There are bascially two ways to reset the variable: we can either overwrite it by running something like \n",
    "```Python \n",
    "a = 5```\n",
    "\n",
    "or we can just resart the whole notebook (or the notebook kernel). In the user interface you can restart the kernel which is basically the same as restarting the notebook - all variables will be lost.\n",
    "\n",
    "This has some important implications:\n",
    "* You should always **code top to bottom** - otherwise if you restart the notebook and run cells in order you will get an error when calling a variable (for example a) before it actually gets a value assigned.\n",
    "* When you want to test if your code works properly, restart the **notebook/kernel** and run all cells from top to bottom.\n",
    "* Use **different names** for your variables to avoid accidentaly overwriting them\n",
    "\n",
    "Of to some mathematical operations:"
   ]
  },
  {
   "cell_type": "code",
   "execution_count": null,
   "metadata": {},
   "outputs": [],
   "source": [
    "# assigning a value to new variable b\n",
    "b = 3"
   ]
  },
  {
   "cell_type": "code",
   "execution_count": null,
   "metadata": {},
   "outputs": [],
   "source": [
    "# assigning sum of a and b to new variable c\n",
    "c = a + b \n",
    "# print c as output\n",
    "print(c)"
   ]
  },
  {
   "cell_type": "markdown",
   "metadata": {},
   "source": [
    "What did we do: We created a new variable named `b` with the value `3`. Then we created another variable `c` that gets the value of `a + b`. Using the `print()` function (more on that later) we show the result as an output. Pretty straightforward.\n",
    "\n",
    "You might have noticed that there is some text in our code cells initiated by the hash character `#` in front of it. It turns blue and means that these parts are not executed as code. This allows us to **comment** our code directly. It is common and good practice to do so to enable other people to understand what you coded, especially in more complex code blocks.\n",
    "\n",
    "Here a short list of arithmetic operators:\n",
    "\n",
    "<img src=\"https://www.engineeringbigdata.com/wp-content/uploads/python-arithmetic-operators.jpg\" width=700 height=700 />\n",
    "\n",
    "Try some mathematical operations in the follwoing cell based on this table. Does everthing work as expected?"
   ]
  },
  {
   "cell_type": "code",
   "execution_count": null,
   "metadata": {},
   "outputs": [],
   "source": [
    "# Here you can try some arithmetic operations, feel free to add more cells below or above\n",
    "\n",
    "\n"
   ]
  },
  {
   "cell_type": "markdown",
   "metadata": {},
   "source": [
    "## Datatypes in Python\n",
    "<a id=\"4\"></a>\n",
    "\n",
    "All the three variables defined above are numbers without decimal - these are called integers (int), but variables can take other data types: Here is a small list of the most common datatypes:\n",
    "\n",
    "<img src=\"https://miro.medium.com/max/1400/1*QfI8H_8HplGa1v9IrrWjBA.png\" width=700 height=700 />\n",
    "\n",
    "Play around with the defined variables and try to create some by your own:"
   ]
  },
  {
   "cell_type": "code",
   "execution_count": null,
   "metadata": {},
   "outputs": [],
   "source": [
    "# Here some examples of how to assign different variables\n",
    "\n",
    "# this is a string\n",
    "variable1 = \"Some crazy text\" \n",
    "\n",
    "# this is a float\n",
    "variable2 = 2.343292\n",
    "\n",
    "# this is a list\n",
    "variable3 = [1,3,5,7]\n"
   ]
  },
  {
   "cell_type": "markdown",
   "metadata": {},
   "source": []
  },
  {
   "cell_type": "markdown",
   "metadata": {},
   "source": [
    "## Built-in functions\n",
    "<a id=\"5\"></a>\n",
    "\n",
    "Apart from the mathematical operations we used , Python offers a suite of basic functions you can directly use. Find a full list of those functions and what they do here:\n",
    "\n",
    "[**Python Built-in Functions**](https://docs.python.org/3/library/functions.html)\n",
    "\n",
    "As a fact, you have already used the Built-in `print()` function above. These functions offer basic functionalities. You can recognize them, as they turn green in your code. Here are some examples. Feel free to play around with these. We will learn a lot more about functions in the upcoming exercises."
   ]
  },
  {
   "cell_type": "code",
   "execution_count": null,
   "metadata": {},
   "outputs": [],
   "source": [
    "# find out what datapye a variable has\n",
    "type(a)"
   ]
  },
  {
   "cell_type": "code",
   "execution_count": null,
   "metadata": {},
   "outputs": [],
   "source": [
    "# define a variable named float_number\n",
    "float_number = 10.3423\n",
    "# round float number\n",
    "round(float_number)"
   ]
  },
  {
   "cell_type": "markdown",
   "metadata": {},
   "source": [
    "## Magic functions\n",
    "<a id=\"6\"></a>\n",
    "\n",
    "IPython enables so-called \"magic functions\" that are actually quite well named as they enable a couple of very useful additional features. The funtion names are preceeded with a `%`. For more information on the functions, simply execute `%magic` in a notebook cell:"
   ]
  },
  {
   "cell_type": "code",
   "execution_count": null,
   "metadata": {},
   "outputs": [],
   "source": [
    "%magic"
   ]
  },
  {
   "cell_type": "markdown",
   "metadata": {},
   "source": [
    "Have a look at some of the magic functions and try them out. Very useful are functions to access the computer directory structure, e.g. the (unix-style) commands `%pwd` to get the present working direcory, or `%ls -l` to get the directory list. Another very useful command is `%timeit` to evaluate the computation time of a function. We will discuss more examples at a later stage in the course."
   ]
  },
  {
   "cell_type": "code",
   "execution_count": null,
   "metadata": {},
   "outputs": [],
   "source": [
    "%ls -l"
   ]
  },
  {
   "cell_type": "markdown",
   "metadata": {},
   "source": [
    "## Getting help\n",
    "<a id=\"7\"></a>\n",
    "\n",
    "After executing the `%magic` command, a separate sub-window with help information should have been opened. You can also display help on other Built-in Python functions in this window. Say, you need more information the function `range`, simply type:"
   ]
  },
  {
   "cell_type": "code",
   "execution_count": null,
   "metadata": {},
   "outputs": [],
   "source": [
    "range?"
   ]
  },
  {
   "cell_type": "markdown",
   "metadata": {},
   "source": [
    "Another very quick way to get instant information and help while typing is to hit  <kbd>SHIFT</kbd>+<kbd>TAB</kbd>. This will display a tooltip with helpful information (if available) on the context you are in.\n",
    "Try it out with the float function:"
   ]
  },
  {
   "cell_type": "code",
   "execution_count": null,
   "metadata": {},
   "outputs": [],
   "source": [
    "float()"
   ]
  },
  {
   "cell_type": "markdown",
   "metadata": {},
   "source": [
    "## Tab-completion\n",
    "<a id=\"8\"></a>\n",
    "\n",
    "Yet another useful feature of IPython is the so-called \"tab-completion\" (a concept that is well-known to any Unix/Linux terminal user): when typing the first letters of a function, the name can be completed by tabbing the tabulator button. If several names are possible, a list is displayed and the appropriate command can be selected.\n",
    "\n",
    "Here an example: we first create a variable with a \"very\" long name:"
   ]
  },
  {
   "cell_type": "code",
   "execution_count": null,
   "metadata": {},
   "outputs": [],
   "source": [
    "very_long_variable_name = 2."
   ]
  },
  {
   "cell_type": "markdown",
   "metadata": {},
   "source": [
    "Now, try typing the first three letters of the variable name (maybe only `very_long`) press <kbd>TAB</kbd>:"
   ]
  },
  {
   "cell_type": "code",
   "execution_count": null,
   "metadata": {},
   "outputs": [],
   "source": [
    "very_lo"
   ]
  },
  {
   "cell_type": "markdown",
   "metadata": {},
   "source": [
    "## Final thoughts\n",
    "<a id=\"9\"></a>\n",
    "\n",
    "You made it to the end. This notebook is a basic introduction on how Jupyter notebooks with Python work. There will be more hands-on coding and exercises in the upcoming notebooks. **Remember to come back to this resource if you have any basic problems during the semester.** With the explanation and material provided in this notebook you should be able to solve many Jupyter related issues."
   ]
  },
  {
   "cell_type": "markdown",
   "metadata": {},
   "source": [
    "## References\n",
    "<a id=\"510\"></a>\n",
    "\n",
    "This is the official jupyter documentation where you canf ind all the \"official\" help:\n",
    "* https://jupyter-notebook.readthedocs.io/en/stable/index.html\n",
    "\n",
    "Among many, many others, these sites offer useful tutorials:\n",
    "* https://www.codecademy.com/\n",
    "* https://realpython.com/\n",
    "\n",
    "And finally the links and images used for this notebook:\n",
    "* https://docs.python.org/3/library/functions.html\n",
    "* https://realpython.com/jupyter-notebook-introduction/\n",
    "* https://www.edureka.co/blog/wp-content/uploads/2018/10/Jupyter_Notebook_CheatSheet_Edureka.pdf\n",
    "* https://www.w3schools.com/python/python_datatypes.asp\n",
    "* https://www.engineeringbigdata.com/wp-content/uploads/python-arithmetic-operators.jpg\n",
    "* https://miro.medium.com/max/1400/1*QfI8H_8HplGa1v9IrrWjBA.png"
   ]
  },
  {
   "cell_type": "code",
   "execution_count": null,
   "metadata": {},
   "outputs": [],
   "source": []
  }
 ],
 "metadata": {
  "kernelspec": {
   "display_name": "Python 3",
   "language": "python",
   "name": "python3"
  },
  "language_info": {
   "codemirror_mode": {
    "name": "ipython",
    "version": 3
   },
   "file_extension": ".py",
   "mimetype": "text/x-python",
   "name": "python",
   "nbconvert_exporter": "python",
   "pygments_lexer": "ipython3",
   "version": "3.7.4"
  }
 },
 "nbformat": 4,
 "nbformat_minor": 2
}
