{
 "cells": [
  {
   "cell_type": "markdown",
   "metadata": {},
   "source": [
    "# Chapter 2: Control flow\n",
    "\n",
    "Today we will be looking into **control flow**. This term in its basic form describes the order in which your code is executed. \n",
    "For later reference, here a quick overview of the content of this notebook:\n",
    "\n",
    "* [Sequential control flow](#1)  \n",
    "* [Relational Operators](#2) \n",
    "* [Selective control flow: If-statements](#3)\n",
    "* [Iterative control flow: For-loop](#4) \n",
    "* [Iterative control flow: While-loop](#5)\n",
    "* [Nested structures](#6)\n",
    "* [Exercises](#7)\n",
    "* [References](#8)\n",
    "\n",
    "Let's directly start with a simple example from chapter 1 (Remember to run the cell press <kbd>SHIFT</kbd> + <kbd>ENTER</kbd>):"
   ]
  },
  {
   "cell_type": "markdown",
   "metadata": {},
   "source": [
    "<a id=\"1\"></a>\n",
    "## Sequential control flow\n",
    "\n",
    "Let's directly start with a simple example from chapter 1 (Remember to run the cell press <kbd>SHIFT</kbd> + <kbd>ENTER</kbd>):"
   ]
  },
  {
   "cell_type": "code",
   "execution_count": 2,
   "metadata": {},
   "outputs": [
    {
     "name": "stdout",
     "output_type": "stream",
     "text": [
      "6\n"
     ]
    }
   ],
   "source": [
    "# an example of control flow\n",
    "\n",
    "# statement 1\n",
    "a = 2\n",
    "# statement 2\n",
    "b = 4\n",
    "# statement 3\n",
    "c = a + b\n",
    "# statement 4\n",
    "print(c)"
   ]
  },
  {
   "cell_type": "markdown",
   "metadata": {},
   "source": [
    "If you have any problems understanding what this piece of code does you should take another look at chapter 1. Important for us today - all the (four) statements are executed one after another: \n",
    "1. ... *first* variable `a` is assigned the value 2\n",
    "2. ... *then* variable `b` is assigned the value 4\n",
    "3. ... *then* variable `c` is assigned the value of the sum of a and b\n",
    "4. ... *then* variable `c` is printed\n",
    "\n",
    "We alread created a control flow here. This very basic form is called **sequential**, as all statements are executed one after another. A good way to visualize control flow are flow charts- Here is a flow chart representing sequential control flow:\n",
    "\n",
    "<img src=\"https://github.com/cgre-aachen/teaching/blob/master/imgs/Control%20flow%20charts/Sequential.png?raw=true\" width=1000 height=1000 />\n",
    "\n",
    "So we established the basic idea of sequential control flow. While this will make up quite a big part of your code, it is quite limited in its versatility. Imagine you would only be able to do stuff sequentially in real life - Let's take a typical geologic workflow as an example (maybe from a field trip):\n",
    "\n",
    "1. Hey this is a rock, let's take a look.\n",
    "2. Hammer rock!!!\n",
    "3. Take a closer look with hand lens.\n",
    "\n",
    "Sounds reasonable, right? But what if my rock already falls apart in step 1 - Do I really need to hammer it? Or say I suspect it to be shist - It might be a good idea to put on safety goggles before hammering. So we need to be able to make decisions and adjust our workflow accordingly."
   ]
  },
  {
   "cell_type": "markdown",
   "metadata": {},
   "source": [
    "<a id=\"2\"></a>\n",
    "## Relational operators\n",
    "\n",
    "As a first step, to be able to make \"decisions\" in our code, we need to introduce a new suite of operators. In the last tutorial we learned about arithmetic operators (basically just +,-,etc.) but there are more operators that are really useful. For a full overview check out this nice explanation of all [**7 types of Python Operators**](https://techvidvan.com/tutorials/python-operators/). In this notebook we will focus on so called **relational operators** (also called comparison operators):\n",
    "\n",
    "<img src=\"https://www.engineeringbigdata.com/wp-content/uploads/python-comparison-operators.jpg\" width=500 height=500 />\n",
    "\n",
    "<br>\n",
    "<br>\n",
    "\n",
    "**The single most important thing you need to know aout relational operators is, that they will always return either `True` or `False`.**\n",
    "\n",
    "A little more technical, given two operands our operator checks whatever it is designed to check based on the relation of the two operands. Let's look into an example:"
   ]
  },
  {
   "cell_type": "code",
   "execution_count": 5,
   "metadata": {},
   "outputs": [
    {
     "data": {
      "text/plain": [
       "False"
      ]
     },
     "execution_count": 5,
     "metadata": {},
     "output_type": "execute_result"
    }
   ],
   "source": [
    "# Is 5 equal to 4?\n",
    "5 == 4"
   ]
  },
  {
   "cell_type": "code",
   "execution_count": 6,
   "metadata": {},
   "outputs": [
    {
     "data": {
      "text/plain": [
       "True"
      ]
     },
     "execution_count": 6,
     "metadata": {},
     "output_type": "execute_result"
    }
   ],
   "source": [
    "# Or is 5 maybe equal to 5?\n",
    "5 == 5"
   ]
  },
  {
   "cell_type": "code",
   "execution_count": 18,
   "metadata": {},
   "outputs": [
    {
     "data": {
      "text/plain": [
       "True"
      ]
     },
     "execution_count": 18,
     "metadata": {},
     "output_type": "execute_result"
    }
   ],
   "source": [
    "# is 5 not equal 4?\n",
    "5 != 4"
   ]
  },
  {
   "cell_type": "code",
   "execution_count": 11,
   "metadata": {},
   "outputs": [],
   "source": [
    "# Use this space to play around with some of the relational operators\n",
    "# Also test what happens when using different datatypes (compare strings or floats)\n",
    "\n"
   ]
  },
  {
   "cell_type": "markdown",
   "metadata": {},
   "source": [
    "<a id=\"3\"></a>\n",
    "## Selective control flow: If-statements\n",
    "\n",
    "Using the relational operators, we can now define a **selective** control flow using so called **if-statements**. This means we execute parts (blocks) of code only, if certain conditions are met. take a look at the corresponding flow chart:\n",
    "\n",
    "<img src=\"https://github.com/cgre-aachen/teaching/blob/master/imgs/Control%20flow%20charts/Selective%201.png?raw=true\" width=1000 height=1000 />\n",
    "\n",
    "So all the code in the *statements* block is only executed if the condition turns out to be `True`, otherwise it is skipped and the following code is executed. Python has a very straightforward syntax for this:\n",
    "\n",
    "<img src=\"https://www.learnbyexample.org/wp-content/uploads/python/Python-if-Statement-Syntax.png\" width=500 height=500 />\n",
    "\n",
    "We see that the statement is initialized with an `if`. The following term in the line contains the `condition`, that will be based on the relational operators we introduced above. Note that the syntax also contains a colon (`:`) after the condition.\n",
    "The code block that is only executed if the condition is `True` can contain any number of statements (`statement, statement`). After that the code returns to a sequential control flow and all the following code will be executed (`following_statement`).\n",
    "\n",
    "There is a very important Python lesson to learn here:\n",
    "\n",
    "**<font color=red>Indentation counts</font>: The conitional block that belongs to the If-statement is indented to seperate it from the rest of the code**\n",
    "\n",
    "This wil be importatant for all the control flow tools we have in Python. Blocks of code on different levels of the control flow will be clearly seperated by intendation. You can easily get the right indentation by pressing <kbd>TAB</kbd>.\n",
    "\n",
    "Let's take a look at an example:\n"
   ]
  },
  {
   "cell_type": "code",
   "execution_count": 17,
   "metadata": {},
   "outputs": [
    {
     "name": "stdout",
     "output_type": "stream",
     "text": [
      "Start of If test\n",
      "We are inside the If block\n",
      "20\n",
      "10\n",
      "End of If test\n"
     ]
    }
   ],
   "source": [
    "# This part of the code is BEFORE the if-statement and will always be executed\n",
    "print('Start of If test')\n",
    "variable_1 = 20\n",
    "variable_2 = 10\n",
    "\n",
    "# This is the if-statement and the condition - the condition uses one of the relational operators \n",
    "if variable_1 > variable_2:\n",
    "    # Start of code block (indented!!!) that is only executed if condition is True\n",
    "    print('We are inside the If block')\n",
    "    print(variable_1)\n",
    "    print(variable_2)\n",
    "    # End of code block\n",
    "    \n",
    "# Following code that is always executed\n",
    "print('End of If test')"
   ]
  },
  {
   "cell_type": "markdown",
   "metadata": {},
   "source": [
    "Play around with the structure above and check what happens when you change the relational operator (`>`). \n",
    "\n",
    "Now we understand the concept of basic if-statements, but of course we can create more complex structures. What if we want more than just skipping code, but instead execute different pieces of code based on a decision we made (here represented by our conditions. Python overs two additional statements related to if-statements to cover these cases: **elif-statemens** (short for else if) and **else-statements**. Both will always be used in conjunction with an If-statement and allow us to cover multiple cases. \n",
    "\n",
    "**Elif-statements** need their own condition and function exactly like if_statements. They can follow an initial If-statement and allow to check for different cases. There can be multiple Elif-statements.\n",
    "\n",
    "**Else-statements** do not need a condition and will be executed if the condition of the corresponding if-statement is `False`. \n",
    "\n",
    "Let's first take a look at another flow chart for such a structure:\n",
    "\n",
    "<img src=\"https://github.com/cgre-aachen/teaching/blob/master/imgs/Control%20flow%20charts/Selective%202.png?raw=true\" width=1000 height=1000 />\n",
    "\n",
    "Here the correct syntax (in this case with one elif-statements, remember there can be as many as you want):\n",
    "\n",
    "<img src=\"https://www.learnbyexample.org/wp-content/uploads/python/Python-elif-Statement-Syntax.png\" width=500 height=500 />\n",
    "\n",
    "A couple of things to note: All the code blocks (bodies) for the different conditions are indented. The else-statement is always the last statement and covers \"all other cases\". Only one of the code blocks will be executed in any case. Imagine some of the conditions overlap or are even exactly the same: As soon as one of the conditions is `True` the corresponding code block will be executed and the rest of the structure will be skipped (Take a look at the flow chart again).\n",
    "\n",
    "Here is a working example:"
   ]
  },
  {
   "cell_type": "code",
   "execution_count": 1,
   "metadata": {},
   "outputs": [
    {
     "name": "stdout",
     "output_type": "stream",
     "text": [
      "Start of If/Elif/Else test\n",
      "Variable 1 is bigger than variable 2\n",
      "End of If If/Elif/Else test\n"
     ]
    }
   ],
   "source": [
    "# This part of the code is BEFORE the if-statement and will always be executed\n",
    "print('Start of If/Elif/Else test')\n",
    "variable_1 = 20\n",
    "variable_2 = 10\n",
    "\n",
    "# This is the if-statement and the condition - the condition uses one of the relational operators \n",
    "if variable_1 > variable_2:\n",
    "    # Start of code block \n",
    "    print('Variable 1 is bigger than variable 2')\n",
    "    # End of code block\n",
    "elif variable_1 == variable_2:\n",
    "    # Start of code block \n",
    "    print('Variable 1 is equal to variable 2')\n",
    "    # End of code block\n",
    "else:\n",
    "    # Start of code block \n",
    "    print('Variable 1 is smaller than variable 2')\n",
    "    # End of code block\n",
    "    \n",
    "# Following code that is always executed\n",
    "print('End of If If/Elif/Else test')"
   ]
  },
  {
   "cell_type": "markdown",
   "metadata": {},
   "source": [
    "Again feel free to play around with the structure, add more elif-statements, change the relational operators and see what happens."
   ]
  },
  {
   "cell_type": "code",
   "execution_count": null,
   "metadata": {},
   "outputs": [],
   "source": [
    "#"
   ]
  },
  {
   "cell_type": "markdown",
   "metadata": {},
   "source": [
    "<a id=\"4\"></a>\n",
    "## Iterative control flow: For-loop\n",
    "\n",
    "We now have a tool to make \"decisions\" in our control flow. But what about repeating operations. One of the big advantages of coding is, that we are able to automate boring tasks and therefore we need a way to repeat processes.\n",
    "\n",
    "A **for-loop** is a good place to start but before we can fully dive into it, we need to take a closer look at something called an **iterable**. THis terminolgy describes an object that we can iterate over - an we already introduced such an object in chapter 1 - **lists**. Small recap: A list is an object containing a sequence of elements of any datatype. Here an example of how a list containing five elements (2 ints, a string, a flaot and a boolean) could look like:\n",
    "\n",
    "```Python\n",
    "new_list = [1, 3, 'hello', 3.243, True]\n",
    "```\n",
    "\n",
    "Find more information on lists here: **https://www.programiz.com/python-programming/list**.\n",
    "\n",
    "Lists are iterables, meaning we can go through all the elements of the list step by step. This is what a for-loop can do. Take a look at the flow chart:\n",
    "\n",
    "<img src=\"https://github.com/cgre-aachen/teaching/blob/master/imgs/Control%20flow%20charts/Iterative%201.png?raw=true\" width=1000 height=1000 />\n",
    "\n",
    "In words - Given an iterable sequence:\n",
    "\n",
    "1. Start with first element of sequence\n",
    "2. Do something (statements in body of for-loop)\n",
    "3. go to next element in sequence(update expression)\n",
    "4. Back to Step 2 or if the sequence has no more elements exit loop\n",
    "\n",
    "And here is how the syntax looks in Python:\n",
    "\n",
    "<img src=\"https://www.learnbyexample.org/wp-content/uploads/python/Python-for-Loop-Syntax.png\" width=500 height=500 />\n",
    "\n",
    "Looking at the syntax we see another part called the **iterator** that has an important function. While the correct technical definition of this iterator is a little more complex (see for example **https://www.w3schools.com/python/python_iterators.asp**), it's easiest to think of it as a variable that takes the value of the element of the iterable object for each step of the for-loop. In our example it is named `var` but you will very often see it named `i` or `j` by convention). Let's look at an example:"
   ]
  },
  {
   "cell_type": "code",
   "execution_count": 5,
   "metadata": {},
   "outputs": [
    {
     "name": "stdout",
     "output_type": "stream",
     "text": [
      "1\n",
      "3\n",
      "hello\n",
      "3.243\n",
      "True\n",
      "We left the for-loop\n"
     ]
    }
   ],
   "source": [
    "# define an iterable (in this case a list)\n",
    "new_list = [1, 3, 'hello', 3.243, True]\n",
    "\n",
    "# initialize for loop (interator is i, iterable is new_list)\n",
    "for i in new_list:\n",
    "    # body of for-loop\n",
    "    print(i)\n",
    "    \n",
    "# following statements\n",
    "print(\"We left the for-loop\")"
   ]
  },
  {
   "cell_type": "markdown",
   "metadata": {},
   "source": [
    "What did we do? The body of the for-loop was executed five times. The iterator took the value of the first element of the list (iterable) in the first repition of the loop. Then it executes the body of the loop. As long as there are still elements in the list, the iterator will update to the next element in the list and the body will be executed again, until there are no more elements in the iterable.\n",
    "\n",
    "For-loops are extremely useful. Let's say you have a list with the names of all your friends and you wanna say hello to all of them. Here is how you would do it sequentially (remember the beginning of this notebook):\n",
    "\n",
    "*Note: We will talk more about how to access single elements of a list in the next chapter, but hopefully you get the code here.*"
   ]
  },
  {
   "cell_type": "code",
   "execution_count": 7,
   "metadata": {},
   "outputs": [
    {
     "name": "stdout",
     "output_type": "stream",
     "text": [
      "Hello Jon\n",
      "Hello Bill\n",
      "Hello Maria\n",
      "Hello Jenny\n",
      "Hello Jack\n"
     ]
    }
   ],
   "source": [
    "#create list with friend names\n",
    "list_of_friends = ['Jon', 'Bill', 'Maria', 'Jenny', 'Jack']\n",
    "\n",
    "# Say hello to all friends\n",
    "print('Hello', list_of_friends[0])\n",
    "print('Hello', list_of_friends[1])\n",
    "print('Hello', list_of_friends[2])\n",
    "print('Hello', list_of_friends[3])\n",
    "print('Hello', list_of_friends[4])"
   ]
  },
  {
   "cell_type": "markdown",
   "metadata": {},
   "source": [
    "You can acheive the same results with a simple for-loop:"
   ]
  },
  {
   "cell_type": "code",
   "execution_count": 9,
   "metadata": {},
   "outputs": [
    {
     "name": "stdout",
     "output_type": "stream",
     "text": [
      "Hello Jon\n",
      "Hello Bill\n",
      "Hello Maria\n",
      "Hello Jenny\n",
      "Hello Jack\n"
     ]
    }
   ],
   "source": [
    "# initialize for-loop\n",
    "for name in list_of_friends:\n",
    "    # body of for-loop\n",
    "    print('Hello', name)"
   ]
  },
  {
   "cell_type": "markdown",
   "metadata": {},
   "source": [
    "Imagine you wanna do the same thing not for your real friends but your facebook friends - maybe around 500. You would need to change the sequential code and add a line for each contact. The for-loop would work exactly the same - two lines of code!"
   ]
  },
  {
   "cell_type": "markdown",
   "metadata": {},
   "source": [
    "<a id=\"5\"></a>\n",
    "## Iterative control flow: While-loop \n",
    "\n",
    "Another iterable control flow tool is the **while-loop**. It is similar to a for-loop in being in many ways. Instead of iterating over a sequence, it will repeat a body of code until a certain condition turns `False`. You should be used to flow charts and syntax guides by now:\n",
    "\n",
    "<img src=\"https://github.com/cgre-aachen/teaching/blob/master/imgs/Control%20flow%20charts/Iterative%202.png?raw=true\" width=1000 height=1000 />\n",
    "\n",
    "<img src=\"https://www.learnbyexample.org/wp-content/uploads/python/Python-while-Loop-Syntax.png\" width=500 height=500 />\n",
    "\n",
    "Note that the *condition* works the same way as conditions in if-statements. An important thing to notice: Whereas for-loops are exited when all elements of a sequence are iterated over, while-loops can go forever if you are note careful. The *condition* has to turn `False` at some point in order to exit the loop. Here is a simple example of an infinite while-loop:\n",
    "\n",
    "```Python\n",
    "while 1 < 2:\n",
    "    print('Inside loop body')\n",
    "```\n",
    "\n",
    "The problem here obviusly is that `1` is always smaller than `2` - the condition statement will never turn `False` and the body of the loop will be executed infinitely. While loops are useful in multiple settings though, here an example of a while loop that performs the same task as our \"friends\" for-loop:"
   ]
  },
  {
   "cell_type": "code",
   "execution_count": 11,
   "metadata": {},
   "outputs": [
    {
     "name": "stdout",
     "output_type": "stream",
     "text": [
      "Hello Jon\n",
      "Hello Bill\n",
      "Hello Maria\n",
      "Hello Jenny\n",
      "Hello Jack\n"
     ]
    }
   ],
   "source": [
    "a = 0\n",
    "length_of_friends_list = len(list_of_friends)\n",
    "\n",
    "while a < length_of_friends_list:\n",
    "    print('Hello', list_of_friends[a])\n",
    "    a = a+1"
   ]
  },
  {
   "cell_type": "markdown",
   "metadata": {},
   "source": [
    "In this case the implementation with a for-loop is a little smoother and shorter, still there are cases where while-loops are very useful. In this lecture we will mainly use for loops, but it is important to remember all options."
   ]
  },
  {
   "cell_type": "markdown",
   "metadata": {},
   "source": [
    "<a id=\"6\"></a>\n",
    "## Nested structures\n",
    "\n",
    "Now we have all the tools we need - and there is only one step left to create a swiss army knive: **Nested structures**. Basically this term only means that we are allowed to combine all these control flow tools in any way we deem useful. There can be an if-statement within a loop, there can be a for-loop within another for-loop or a while loop that contains several if/elif/else statements that contain more loops, that contain ... you get the point. While these structures can get quite complex - they really enable us to tackle a lot of problems."
   ]
  },
  {
   "cell_type": "code",
   "execution_count": null,
   "metadata": {},
   "outputs": [],
   "source": []
  },
  {
   "cell_type": "markdown",
   "metadata": {},
   "source": [
    "<a id=\"7\"></a>\n",
    "## Exercises\n",
    "\n",
    "Let's start with some coding exercises.\n",
    "\n",
    "### Exercise 1\n",
    "\n",
    "Rock, paper, scissors! Two players chose their options. How can you teach a computer to declare a winner - we have to teach it the rules of the game. So given two `string` variables (`player1` and `player2`) containing either `'rock'`, `'paper'` or `'scissors'`, write a nested structure of if-statements that declares a winner."
   ]
  },
  {
   "cell_type": "code",
   "execution_count": 18,
   "metadata": {},
   "outputs": [],
   "source": [
    "# initiate player choices\n",
    "player1 = 'rock' # just an example, change it if you want\n",
    "player2 = 'paper' # just an example, change it if you want\n",
    "\n",
    "# YOUR CODE HERE\n",
    "# just a little starting help\n",
    "if player1 == player2:\n",
    "    print('Tie')\n",
    "else:\n",
    "    if player1 == 'rock':\n",
    "        if player2 == 'scissors':\n",
    "            print('Player 1 wins')\n",
    "    # fill the rest of the code"
   ]
  },
  {
   "cell_type": "markdown",
   "metadata": {},
   "source": [
    "### Exercise 2\n",
    "\n",
    "Given the following to lists: You task is to take the `first_list` and for ever entry you wanna check is its above or below 5. If it's above five you wanna multiply it with all elements of `second_list` and print the results. If it is below five you wanna divide it by all elements in `third_list`.\n",
    "\n",
    "Just to be clear let's talk through an example with the lists initiated below. The first element of `first_list` is `2`. We check if it is below `5` (Hint: It is!) and because of that we wanna divide it first by the first element of `third_list` , which is `4`. `2` divided by `4` is `0.5`so that should be the first output. Then we also wanna divide our `2` by the second ectry of `third list` which is `7`. `2` divided by `7` is `0.28....` so that should be our next output. We finished dividing by all entries of `third_list`, so we go to the next element of `first_list` and checkk if it is below or above `5`. (Now you know why flow charts are cool)\n",
    "\n",
    "As a self-check: The final output for the lists given below should look like this:\n",
    "```\n",
    "0.5\n",
    "0.2857142857142857\n",
    "1.0\n",
    "0.5714285714285714\n",
    "14\n",
    "35\n",
    "0.25\n",
    "0.14285714285714285\n",
    "```\n",
    "\n",
    "Hints: You have probably guessed it: You need a nested structure to do this. You can nicely solve this problem in six lines of code (more is also OK) and even less is possible, but doesn't look very nice anymore."
   ]
  },
  {
   "cell_type": "code",
   "execution_count": 15,
   "metadata": {},
   "outputs": [
    {
     "name": "stdout",
     "output_type": "stream",
     "text": [
      "0.5\n",
      "0.2857142857142857\n",
      "1.0\n",
      "0.5714285714285714\n",
      "14\n",
      "35\n",
      "0.25\n",
      "0.14285714285714285\n"
     ]
    }
   ],
   "source": [
    "# lists to use \n",
    "first_list = [2, 4, 7, 1]\n",
    "second_list = [2, 5]\n",
    "third_list = [4, 7]\n",
    "\n",
    "# YOUR CODE HERE\n",
    "# SOLUTION\n",
    "for i in first_list:\n",
    "    if i > 5:\n",
    "        for j in second_list:  \n",
    "            print(j*i)\n",
    "    elif i < 5:\n",
    "        for t in third_list:\n",
    "            print(i/t)"
   ]
  },
  {
   "cell_type": "markdown",
   "metadata": {},
   "source": [
    "### Exercise 3\n",
    "\n",
    "Final exercise and a very easy one: Grab a piece of paper and a pen (yeah a real one, this is not some weird Python terminology) and draw a flow chart (use examples above) for the nested code structure you just wrote."
   ]
  },
  {
   "cell_type": "code",
   "execution_count": null,
   "metadata": {},
   "outputs": [],
   "source": []
  },
  {
   "cell_type": "markdown",
   "metadata": {},
   "source": [
    "<a id=\"8\"></a>\n",
    "## References\n",
    "\n",
    "And finally the links and images used for this notebook:\n",
    "* https://www.engineeringbigdata.com/wp-content/uploads/python-comparison-operators.jpg\n",
    "* https://www.learnbyexample.org/python/\n",
    "* https://www.programiz.com/python-programming/list\n",
    "* https://www.w3schools.com/python/python_iterators.asp"
   ]
  },
  {
   "cell_type": "code",
   "execution_count": null,
   "metadata": {},
   "outputs": [],
   "source": []
  }
 ],
 "metadata": {
  "kernelspec": {
   "display_name": "Python 3",
   "language": "python",
   "name": "python3"
  },
  "language_info": {
   "codemirror_mode": {
    "name": "ipython",
    "version": 3
   },
   "file_extension": ".py",
   "mimetype": "text/x-python",
   "name": "python",
   "nbconvert_exporter": "python",
   "pygments_lexer": "ipython3",
   "version": "3.7.4"
  }
 },
 "nbformat": 4,
 "nbformat_minor": 2
}
