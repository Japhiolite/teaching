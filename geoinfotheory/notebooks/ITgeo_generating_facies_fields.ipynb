{
 "cells": [
  {
   "cell_type": "markdown",
   "metadata": {},
   "source": [
    "## Generating facies realizations with GeostatsPy\n",
    "\n",
    "We generate here a set of facies realizations (sand/ shale) using the fantastic geostatistical library _geostatspy_ (https://github.com/GeostatsGuy/GeostatsPy) by Michael Pyrcz (University of Texas, Austin).\n",
    "\n",
    "The example is modified from his notebook https://github.com/GeostatsGuy/PythonNumericalDemos/GeostatsPy_sisim.ipynb"
   ]
  },
  {
   "cell_type": "code",
   "execution_count": null,
   "metadata": {},
   "outputs": [],
   "source": [
    "import os                                                 # to set current working directory \n",
    "import numpy as np                                        # arrays and matrix math\n",
    "import pandas as pd                                       # DataFrames\n",
    "import matplotlib.pyplot as plt                           # plotting\n",
    "import geostatspy.GSLIB as GSLIB\n",
    "import geostatspy.geostats as geostats\n",
    "\n"
   ]
  },
  {
   "cell_type": "markdown",
   "metadata": {},
   "source": [
    "### Load Data\n",
    "\n",
    "We are using a data set that is also provided by Michael Pyrcz on https://github.com/GeostatsGuy/GeoDataSets"
   ]
  },
  {
   "cell_type": "code",
   "execution_count": 24,
   "metadata": {},
   "outputs": [
    {
     "data": {
      "text/html": [
       "<div>\n",
       "<style scoped>\n",
       "    .dataframe tbody tr th:only-of-type {\n",
       "        vertical-align: middle;\n",
       "    }\n",
       "\n",
       "    .dataframe tbody tr th {\n",
       "        vertical-align: top;\n",
       "    }\n",
       "\n",
       "    .dataframe thead th {\n",
       "        text-align: right;\n",
       "    }\n",
       "</style>\n",
       "<table border=\"1\" class=\"dataframe\">\n",
       "  <thead>\n",
       "    <tr style=\"text-align: right;\">\n",
       "      <th></th>\n",
       "      <th>index</th>\n",
       "      <th>Unnamed: 0</th>\n",
       "      <th>X</th>\n",
       "      <th>Y</th>\n",
       "      <th>Facies</th>\n",
       "      <th>Porosity</th>\n",
       "      <th>Perm</th>\n",
       "      <th>AI</th>\n",
       "    </tr>\n",
       "  </thead>\n",
       "  <tbody>\n",
       "    <tr>\n",
       "      <th>0</th>\n",
       "      <td>270</td>\n",
       "      <td>429</td>\n",
       "      <td>370.0</td>\n",
       "      <td>219.0</td>\n",
       "      <td>0.0</td>\n",
       "      <td>0.080088</td>\n",
       "      <td>0.453978</td>\n",
       "      <td>5950.050624</td>\n",
       "    </tr>\n",
       "    <tr>\n",
       "      <th>1</th>\n",
       "      <td>37</td>\n",
       "      <td>53</td>\n",
       "      <td>600.0</td>\n",
       "      <td>100.0</td>\n",
       "      <td>1.0</td>\n",
       "      <td>0.152042</td>\n",
       "      <td>54.035749</td>\n",
       "      <td>5216.867196</td>\n",
       "    </tr>\n",
       "    <tr>\n",
       "      <th>2</th>\n",
       "      <td>209</td>\n",
       "      <td>343</td>\n",
       "      <td>660.0</td>\n",
       "      <td>769.0</td>\n",
       "      <td>1.0</td>\n",
       "      <td>0.130744</td>\n",
       "      <td>7.318424</td>\n",
       "      <td>4286.269709</td>\n",
       "    </tr>\n",
       "    <tr>\n",
       "      <th>3</th>\n",
       "      <td>282</td>\n",
       "      <td>449</td>\n",
       "      <td>300.0</td>\n",
       "      <td>539.0</td>\n",
       "      <td>1.0</td>\n",
       "      <td>0.148719</td>\n",
       "      <td>86.109630</td>\n",
       "      <td>4454.324696</td>\n",
       "    </tr>\n",
       "    <tr>\n",
       "      <th>4</th>\n",
       "      <td>292</td>\n",
       "      <td>459</td>\n",
       "      <td>490.0</td>\n",
       "      <td>19.0</td>\n",
       "      <td>0.0</td>\n",
       "      <td>0.067607</td>\n",
       "      <td>0.648172</td>\n",
       "      <td>5297.559776</td>\n",
       "    </tr>\n",
       "    <tr>\n",
       "      <th>5</th>\n",
       "      <td>99</td>\n",
       "      <td>161</td>\n",
       "      <td>190.0</td>\n",
       "      <td>309.0</td>\n",
       "      <td>0.0</td>\n",
       "      <td>0.101047</td>\n",
       "      <td>1.815873</td>\n",
       "      <td>5402.085094</td>\n",
       "    </tr>\n",
       "    <tr>\n",
       "      <th>6</th>\n",
       "      <td>34</td>\n",
       "      <td>48</td>\n",
       "      <td>600.0</td>\n",
       "      <td>600.0</td>\n",
       "      <td>0.0</td>\n",
       "      <td>0.087710</td>\n",
       "      <td>1.826601</td>\n",
       "      <td>4815.685452</td>\n",
       "    </tr>\n",
       "    <tr>\n",
       "      <th>7</th>\n",
       "      <td>238</td>\n",
       "      <td>389</td>\n",
       "      <td>470.0</td>\n",
       "      <td>969.0</td>\n",
       "      <td>1.0</td>\n",
       "      <td>0.136712</td>\n",
       "      <td>37.116961</td>\n",
       "      <td>4649.395551</td>\n",
       "    </tr>\n",
       "    <tr>\n",
       "      <th>8</th>\n",
       "      <td>92</td>\n",
       "      <td>151</td>\n",
       "      <td>510.0</td>\n",
       "      <td>939.0</td>\n",
       "      <td>1.0</td>\n",
       "      <td>0.148882</td>\n",
       "      <td>70.562785</td>\n",
       "      <td>3665.012314</td>\n",
       "    </tr>\n",
       "    <tr>\n",
       "      <th>9</th>\n",
       "      <td>223</td>\n",
       "      <td>365</td>\n",
       "      <td>580.0</td>\n",
       "      <td>879.0</td>\n",
       "      <td>1.0</td>\n",
       "      <td>0.169654</td>\n",
       "      <td>159.155069</td>\n",
       "      <td>4760.335515</td>\n",
       "    </tr>\n",
       "  </tbody>\n",
       "</table>\n",
       "</div>"
      ],
      "text/plain": [
       "   index  Unnamed: 0      X      Y  Facies  Porosity        Perm           AI\n",
       "0    270         429  370.0  219.0     0.0  0.080088    0.453978  5950.050624\n",
       "1     37          53  600.0  100.0     1.0  0.152042   54.035749  5216.867196\n",
       "2    209         343  660.0  769.0     1.0  0.130744    7.318424  4286.269709\n",
       "3    282         449  300.0  539.0     1.0  0.148719   86.109630  4454.324696\n",
       "4    292         459  490.0   19.0     0.0  0.067607    0.648172  5297.559776\n",
       "5     99         161  190.0  309.0     0.0  0.101047    1.815873  5402.085094\n",
       "6     34          48  600.0  600.0     0.0  0.087710    1.826601  4815.685452\n",
       "7    238         389  470.0  969.0     1.0  0.136712   37.116961  4649.395551\n",
       "8     92         151  510.0  939.0     1.0  0.148882   70.562785  3665.012314\n",
       "9    223         365  580.0  879.0     1.0  0.169654  159.155069  4760.335515"
      ]
     },
     "execution_count": 24,
     "metadata": {},
     "output_type": "execute_result"
    }
   ],
   "source": [
    "df = pd.read_csv(\"sample_data_MV_biased.csv\")             # read a .csv file in as a DataFrame\n",
    "df.describe()                                             # summary statistics \n",
    "df = df.sample(50)                                        # extract 50 samples\n",
    "df = df.reset_index()                                     # reset the record index \n",
    "df.head(n=10)"
   ]
  },
  {
   "cell_type": "markdown",
   "metadata": {},
   "source": [
    "### Generating Realizations"
   ]
  },
  {
   "cell_type": "code",
   "execution_count": 18,
   "metadata": {},
   "outputs": [
    {
     "data": {
      "text/plain": [
       "array([7867, 1402, 8606, 8885, 6494, 9628, 7459, 3964, 7000, 4470])"
      ]
     },
     "execution_count": 18,
     "metadata": {},
     "output_type": "execute_result"
    }
   ],
   "source": [
    "# Sequential Indicator Simulation with Simple Kriging Multiple Realizations \n",
    "nx = 50; ny = 50; xsiz = 20.0; ysiz = 20.0; xmn = 10.0; ymn = 10.0; nxdis = 1; nydis = 1\n",
    "ndmin = 0; ndmax = 10; nodmax = 10; radius = 400; skmean = 0\n",
    "tmin = -999; tmax = 999\n",
    "dummy_trend = np.zeros((11,11))            # the current version requires trend input - if wrong size it is ignored \n",
    "\n",
    "ncut = 2                                   # number of facies\n",
    "thresh = [0,1]                             # the facies categories (use consisten order)\n",
    "gcdf = [0.4,0.6]                           # the global proportions of the categories\n",
    "varios = []                                # the variogram list\n",
    "varios.append(GSLIB.make_variogram(nug=0.0,nst=1,it1=1,cc1=1.0,azi1=0,hmaj1=100,hmin1=100)) # shale indicator variogram\n",
    "# varios.append(GSLIB.make_variogram(nug=0.0,nst=1,it1=1,cc1=1.0,azi1=0,hmaj1=100,hmin1=100)) # sand indicator variogram\n",
    "varios.append(GSLIB.make_variogram(nug=0.0,nst=1,it1=1,cc1=1.0,azi1=0,hmaj1=100,hmin1=100)) # sand indicator variogram\n",
    "\n",
    "\n",
    "n_realizations = 10\n",
    "np.random.seed(seed = 12345)\n",
    "seeds = np.random.choice(10000, n_realizations, replace=False)\n",
    "seeds"
   ]
  },
  {
   "cell_type": "code",
   "execution_count": 19,
   "metadata": {},
   "outputs": [
    {
     "name": "stdout",
     "output_type": "stream",
     "text": [
      "Data for IK3D: Variable column Facies\n",
      "  Number   = 50\n",
      "Setting up rotation matrices for variogram and search\n",
      "Working on a single realization, seed 7867\n",
      "   currently on node 0\n",
      "   currently on node 250\n",
      "   currently on node 500\n",
      "   currently on node 750\n",
      "   currently on node 1000\n",
      "   currently on node 1250\n",
      "   currently on node 1500\n",
      "   currently on node 1750\n",
      "   currently on node 2000\n",
      "   currently on node 2250\n",
      "Data for IK3D: Variable column Facies\n",
      "  Number   = 50\n",
      "Setting up rotation matrices for variogram and search\n",
      "Working on a single realization, seed 1402\n",
      "   currently on node 0\n",
      "   currently on node 250\n",
      "   currently on node 500\n",
      "   currently on node 750\n",
      "   currently on node 1000\n",
      "   currently on node 1250\n",
      "   currently on node 1500\n",
      "   currently on node 1750\n",
      "   currently on node 2000\n",
      "   currently on node 2250\n",
      "Data for IK3D: Variable column Facies\n",
      "  Number   = 50\n",
      "Setting up rotation matrices for variogram and search\n",
      "Working on a single realization, seed 8606\n",
      "   currently on node 0\n",
      "   currently on node 250\n",
      "   currently on node 500\n",
      "   currently on node 750\n",
      "   currently on node 1000\n",
      "   currently on node 1250\n",
      "   currently on node 1500\n",
      "   currently on node 1750\n",
      "   currently on node 2000\n",
      "   currently on node 2250\n",
      "Data for IK3D: Variable column Facies\n",
      "  Number   = 50\n",
      "Setting up rotation matrices for variogram and search\n",
      "Working on a single realization, seed 8885\n",
      "   currently on node 0\n",
      "   currently on node 250\n",
      "   currently on node 500\n",
      "   currently on node 750\n",
      "   currently on node 1000\n",
      "   currently on node 1250\n",
      "   currently on node 1500\n",
      "   currently on node 1750\n",
      "   currently on node 2000\n",
      "   currently on node 2250\n",
      "Data for IK3D: Variable column Facies\n",
      "  Number   = 50\n",
      "Setting up rotation matrices for variogram and search\n",
      "Working on a single realization, seed 6494\n",
      "   currently on node 0\n",
      "   currently on node 250\n",
      "   currently on node 500\n",
      "   currently on node 750\n",
      "   currently on node 1000\n",
      "   currently on node 1250\n",
      "   currently on node 1500\n",
      "   currently on node 1750\n",
      "   currently on node 2000\n",
      "   currently on node 2250\n",
      "Data for IK3D: Variable column Facies\n",
      "  Number   = 50\n",
      "Setting up rotation matrices for variogram and search\n",
      "Working on a single realization, seed 9628\n",
      "   currently on node 0\n",
      "   currently on node 250\n",
      "   currently on node 500\n",
      "   currently on node 750\n",
      "   currently on node 1000\n",
      "   currently on node 1250\n",
      "   currently on node 1500\n",
      "   currently on node 1750\n",
      "   currently on node 2000\n",
      "   currently on node 2250\n",
      "Data for IK3D: Variable column Facies\n",
      "  Number   = 50\n",
      "Setting up rotation matrices for variogram and search\n",
      "Working on a single realization, seed 7459\n",
      "   currently on node 0\n",
      "   currently on node 250\n",
      "   currently on node 500\n",
      "   currently on node 750\n",
      "   currently on node 1000\n",
      "   currently on node 1250\n",
      "   currently on node 1500\n",
      "   currently on node 1750\n",
      "   currently on node 2000\n",
      "   currently on node 2250\n",
      "Data for IK3D: Variable column Facies\n",
      "  Number   = 50\n",
      "Setting up rotation matrices for variogram and search\n",
      "Working on a single realization, seed 3964\n",
      "   currently on node 0\n",
      "   currently on node 250\n",
      "   currently on node 500\n",
      "   currently on node 750\n",
      "   currently on node 1000\n",
      "   currently on node 1250\n",
      "   currently on node 1500\n",
      "   currently on node 1750\n",
      "   currently on node 2000\n",
      "   currently on node 2250\n",
      "Data for IK3D: Variable column Facies\n",
      "  Number   = 50\n",
      "Setting up rotation matrices for variogram and search\n",
      "Working on a single realization, seed 7000\n",
      "   currently on node 0\n",
      "   currently on node 250\n",
      "   currently on node 500\n",
      "   currently on node 750\n",
      "   currently on node 1000\n",
      "   currently on node 1250\n",
      "   currently on node 1500\n",
      "   currently on node 1750\n",
      "   currently on node 2000\n",
      "   currently on node 2250\n",
      "Data for IK3D: Variable column Facies\n",
      "  Number   = 50\n",
      "Setting up rotation matrices for variogram and search\n",
      "Working on a single realization, seed 4470\n",
      "   currently on node 0\n",
      "   currently on node 250\n",
      "   currently on node 500\n",
      "   currently on node 750\n",
      "   currently on node 1000\n",
      "   currently on node 1250\n",
      "   currently on node 1500\n",
      "   currently on node 1750\n",
      "   currently on node 2000\n",
      "   currently on node 2250\n"
     ]
    }
   ],
   "source": [
    "realizations = np.empty(shape=(n_realizations, nx, ny))\n",
    "\n",
    "for i in range(n_realizations):\n",
    "    realizations[i,:,:] = geostats.sisim(df,'X','Y','Facies',ivtype=0,koption=0,ncut=2,thresh=thresh,gcdf=gcdf,trend=dummy_trend,\n",
    "                   tmin=tmin,tmax=tmax,zmin=0.0,zmax=1.0,ltail=1,ltpar=1,middle=1,mpar=0,utail=1,utpar=2,\n",
    "                   nx=nx,xmn=xmn,xsiz=xsiz,ny=ny,ymn=ymn,ysiz=ysiz,seed=seeds[i],\n",
    "                   ndmin=ndmin,ndmax=ndmax,nodmax=nodmax,mults=1,nmult=3,noct=-1,radius=radius,ktype=0,vario=varios)\n",
    "\n",
    "# sim_ik2 = geostats.sisim(df,'X','Y','Facies',ivtype=0,koption=0,ncut=2,thresh=thresh,gcdf=gcdf,trend=dummy_trend,\n",
    "#                tmin=tmin,tmax=tmax,zmin=0.0,zmax=1.0,ltail=1,ltpar=1,middle=1,mpar=0,utail=1,utpar=2,\n",
    "#                nx=nx,xmn=xmn,xsiz=xsiz,ny=ny,ymn=ymn,ysiz=ysiz,seed = 73074,\n",
    "#                ndmin=ndmin,ndmax=ndmax,nodmax=nodmax,mults=1,nmult=3,noct=-1,radius=radius,ktype=0,vario=varios)\n",
    "\n",
    "# sim_ik3 = geostats.sisim(df,'X','Y','Facies',ivtype=0,koption=0,ncut=2,thresh=thresh,gcdf=gcdf,trend=dummy_trend,\n",
    "#                tmin=tmin,tmax=tmax,zmin=0.0,zmax=1.0,ltail=1,ltpar=1,middle=1,mpar=0,utail=1,utpar=2,\n",
    "#                nx=nx,xmn=xmn,xsiz=xsiz,ny=ny,ymn=ymn,ysiz=ysiz,seed = 73075,\n",
    "#                ndmin=ndmin,ndmax=ndmax,nodmax=nodmax,mults=1,nmult=3,noct=-1,radius=radius,ktype=0,vario=varios)"
   ]
  },
  {
   "cell_type": "markdown",
   "metadata": {},
   "source": [
    "### Plot realizations\n",
    "\n",
    "Just to get an impression, here a plot of some realizations:"
   ]
  },
  {
   "cell_type": "code",
   "execution_count": 31,
   "metadata": {},
   "outputs": [
    {
     "data": {
      "image/png": "[encoded data removed]",
      "text/plain": [
       "<Figure size 864x432 with 8 Axes>"
      ]
     },
     "metadata": {
      "needs_background": "light"
     },
     "output_type": "display_data"
    }
   ],
   "source": [
    "plt.figure(figsize=(12,6))\n",
    "for i in range(1, 9):\n",
    "    plt.subplot(2, 4, i)\n",
    "    plt.imshow(realizations[i])"
   ]
  },
  {
   "cell_type": "markdown",
   "metadata": {},
   "source": [
    "...and here simply the sum:"
   ]
  },
  {
   "cell_type": "code",
   "execution_count": 32,
   "metadata": {},
   "outputs": [
    {
     "data": {
      "text/plain": [
       "<matplotlib.colorbar.Colorbar at 0x1c1d5e7e10>"
      ]
     },
     "execution_count": 32,
     "metadata": {},
     "output_type": "execute_result"
    },
    {
     "data": {
      "image/png": "[encoded data removed]",
      "text/plain": [
       "<Figure size 432x288 with 2 Axes>"
      ]
     },
     "metadata": {
      "needs_background": "light"
     },
     "output_type": "display_data"
    }
   ],
   "source": [
    "plt.imshow(np.sum(realizations, axis=0))\n",
    "plt.colorbar()"
   ]
  },
  {
   "cell_type": "markdown",
   "metadata": {},
   "source": [
    "...and the (estimated) probability for facies=1:"
   ]
  },
  {
   "cell_type": "markdown",
   "metadata": {},
   "source": [
    "### Show conditioning points\n",
    "\n",
    "It is also possible to show the conditioning points using proper GSLib functions - see github page of GeostatsPy (commented out here for now)."
   ]
  },
  {
   "cell_type": "code",
   "execution_count": null,
   "metadata": {},
   "outputs": [],
   "source": [
    "# xmin = 0.0; xmax = 1000.0; ymin = 0.0; ymax = 1000.0; cmap = plt.cm.inferno # plotting parameters\n",
    "\n",
    "# plt.subplot(131)                                          # plot the results\n",
    "# GSLIB.locpix_st(sim_ik1,xmin,xmax,ymin,ymax,xsiz,-.4,1.0,df,'X','Y','Facies','Sequential Indicator Simulation - Realization 1','X(m)','Y(m)','Facies',cmap)\n",
    "\n",
    "# plt.subplot(132)                                          # plot the results\n",
    "# GSLIB.locpix_st(sim_ik1,xmin,xmax,ymin,ymax,xsiz,-.4,1.0,df,'X','Y','Facies','Sequential Indicator Simulation - Realization 2','X(m)','Y(m)','Facies',cmap)\n",
    "\n",
    "# plt.subplot(133)                                          # plot the results\n",
    "# GSLIB.locpix_st(sim_ik1,xmin,xmax,ymin,ymax,xsiz,-.4,1.0,df,'X','Y','Facies','Sequential Indicator Simulation - Realization 3','X(m)','Y(m)','Facies',cmap)\n",
    "\n",
    "# plt.subplots_adjust(left=0.0, bottom=0.0, right=4.0, top=1.5, wspace=0.2, hspace=0.2)\n",
    "# plt.show()"
   ]
  },
  {
   "cell_type": "code",
   "execution_count": null,
   "metadata": {},
   "outputs": [],
   "source": []
  }
 ],
 "metadata": {
  "kernelspec": {
   "display_name": "Python 3",
   "language": "python",
   "name": "python3"
  },
  "language_info": {
   "codemirror_mode": {
    "name": "ipython",
    "version": 3
   },
   "file_extension": ".py",
   "mimetype": "text/x-python",
   "name": "python",
   "nbconvert_exporter": "python",
   "pygments_lexer": "ipython3",
   "version": "3.7.3"
  }
 },
 "nbformat": 4,
 "nbformat_minor": 2
}
